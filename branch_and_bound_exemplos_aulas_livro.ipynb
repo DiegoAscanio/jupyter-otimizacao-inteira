{
  "metadata": {
    "kernelspec": {
      "name": "python",
      "display_name": "Python (Pyodide)",
      "language": "python"
    },
    "language_info": {
      "codemirror_mode": {
        "name": "python",
        "version": 3
      },
      "file_extension": ".py",
      "mimetype": "text/x-python",
      "name": "python",
      "nbconvert_exporter": "python",
      "pygments_lexer": "ipython3",
      "version": "3.8"
    }
  },
  "nbformat_minor": 4,
  "nbformat": 4,
  "cells": [
    {
      "cell_type": "markdown",
      "source": "# Exemplos de Branch and Bound\n\n## Preâmbulo",
      "metadata": {}
    },
    {
      "cell_type": "code",
      "source": "%load_ext autoreload\n%autoreload 2\n%pip install numpy\n%pip install scipy\n%pip install jupyter_anywidget_graphviz\n\nfrom IPython.display import HTML, display, SVG\nfrom jupyter_anywidget_graphviz import graphviz_headless\n%load_ext jupyter_anywidget_graphviz\n\ng = graphviz_headless()",
      "metadata": {
        "trusted": true
      },
      "outputs": [
        {
          "name": "stderr",
          "output_type": "stream",
          "text": "/lib/python3.12/site-packages/jupyter_anywidget_graphviz/__init__.py:26: UserWarning: You must install jupyter_ui_poll if you want to return cell responses / blocking waits (not JupyerLite); install necessary packages then restart the notebook kernel:%pip install jupyter_ui_poll\n  warnings.warn(\n/lib/python3.12/site-packages/jupyter_anywidget_graphviz/panel.py:13: UserWarning: Missing package (sidecar): run `pip install sidecar` before trying to access the panel.\n  warnings.warn(\n"
        },
        {
          "output_type": "display_data",
          "data": {
            "text/plain": "graphvizWidget(headless=True, response={'status': 'initialising'})",
            "application/vnd.jupyter.widget-view+json": {
              "version_major": 2,
              "version_minor": 1,
              "model_id": "3a572c53d3aa4e2d8fde286f28b3e788"
            }
          },
          "metadata": {}
        }
      ],
      "execution_count": 1
    },
    {
      "cell_type": "markdown",
      "source": "## Exemplo Sala",
      "metadata": {}
    },
    {
      "cell_type": "code",
      "source": "from branch_and_bound import branch_and_bound, generate_dot\nimport numpy as np\n\nA = np.array([\n    [1, 4, -1, 0],\n    [3, 2, 0, -1]\n])\n\nb = np.array([\n    5,\n    7\n])\n\nc = np.array([-4, -5, 0, 0]) # we're maximizing\n\nintegrality = np.array([1, 1, 0, 0])  # x1 and x2 are integers\n\nz_star, x_star, bnb_tree, iters = branch_and_bound(c, A, b, integrality = integrality)\ndot_code = generate_dot(bnb_tree)\ng.render(dot_code)\n\niters",
      "metadata": {
        "trusted": true
      },
      "outputs": [],
      "execution_count": null
    },
    {
      "cell_type": "markdown",
      "source": "### Árvore B&B",
      "metadata": {}
    },
    {
      "cell_type": "code",
      "source": "SVG(g.svg)",
      "metadata": {
        "trusted": true
      },
      "outputs": [],
      "execution_count": null
    },
    {
      "cell_type": "markdown",
      "source": "## Exemplo Livro\n\n\\begin{align}\n    & z = \\text{max} \\ 5x_1 - x_2 \\\\\n    & \\text{subject to:} \\\\\n    & 7 x_1 - 5x_2 \\leq 13 \\\\\n    & 3 x_1 + 2x_2 \\leq 17 \\\\\n    & x_1, x_2 \\in \\mathbb{Z}^{+}\n\\end{align}",
      "metadata": {}
    },
    {
      "cell_type": "code",
      "source": "A = np.array([\n    [7, -5, 1, 0],\n    [3,  2, 0, 1]\n])\n\nb = np.array([\n    13,\n    17\n])\n\nc = np.array([5, -1, 0, 0]) # we're maximizing\n\nintegrality = np.array([1, 1, 0, 0])  # x1 and x2 are integers\n\nz_star, x_star, bnb_tree, iters = branch_and_bound(c, A, b, integrality = integrality, branching_strategy = 'fni')\ndot_code = generate_dot(bnb_tree)\ng.render(dot_code)\niters",
      "metadata": {
        "trusted": true
      },
      "outputs": [
        {
          "name": "stdout",
          "output_type": "stream",
          "text": "[0]\n[1, 2]\n[2, 3, 4]\n[3, 4]\n[4, 7, 8]\n"
        },
        {
          "execution_count": 220,
          "output_type": "execute_result",
          "data": {
            "text/plain": "3"
          },
          "metadata": {}
        }
      ],
      "execution_count": 220
    },
    {
      "cell_type": "markdown",
      "source": "### Árvore B&B",
      "metadata": {}
    },
    {
      "cell_type": "code",
      "source": "SVG(g.svg)",
      "metadata": {
        "trusted": true,
        "scrolled": true
      },
      "outputs": [
        {
          "execution_count": 221,
          "output_type": "execute_result",
          "data": {
            "text/plain": "<IPython.core.display.SVG object>",
            "image/svg+xml": "<svg xmlns=\"http://www.w3.org/2000/svg\" xmlns:xlink=\"http://www.w3.org/1999/xlink\" width=\"447pt\" height=\"339pt\" viewBox=\"0.00 0.00 446.88 339.20\">\n<g id=\"graph0\" class=\"graph\" transform=\"scale(1 1) rotate(0) translate(4 335.2)\">\n<title>G</title>\n<polygon fill=\"white\" stroke=\"none\" points=\"-4,4 -4,-335.2 442.88,-335.2 442.88,4 -4,4\"/>\n<!-- N0 -->\n<g id=\"node1\" class=\"node\">\n<title>N0</title>\n<polygon fill=\"none\" stroke=\"black\" points=\"352.88,-331.2 174.33,-331.2 174.33,-256 352.88,-256 352.88,-331.2\"/>\n<text text-anchor=\"middle\" x=\"263.61\" y=\"-314.6\" font-family=\"Times,serif\" font-size=\"14.00\">N0</text>\n<text text-anchor=\"middle\" x=\"263.61\" y=\"-297.8\" font-family=\"Times,serif\" font-size=\"14.00\">P: 0</text>\n<text text-anchor=\"middle\" x=\"263.61\" y=\"-281\" font-family=\"Times,serif\" font-size=\"14.00\">z_sup: 16.379310344827584</text>\n<text text-anchor=\"middle\" x=\"263.61\" y=\"-264.2\" font-family=\"Times,serif\" font-size=\"14.00\">x: [3.83 2.76 0.   0.  ]</text>\n</g>\n<!-- N1 -->\n<g id=\"node2\" class=\"node\">\n<title>N1</title>\n<polygon fill=\"none\" stroke=\"black\" points=\"241.96,-203.2 111.25,-203.2 111.25,-128 241.96,-128 241.96,-203.2\"/>\n<text text-anchor=\"middle\" x=\"176.61\" y=\"-186.6\" font-family=\"Times,serif\" font-size=\"14.00\">N1</text>\n<text text-anchor=\"middle\" x=\"176.61\" y=\"-169.8\" font-family=\"Times,serif\" font-size=\"14.00\">P: 1</text>\n<text text-anchor=\"middle\" x=\"176.61\" y=\"-153\" font-family=\"Times,serif\" font-size=\"14.00\">z_sup: 13.4</text>\n<text text-anchor=\"middle\" x=\"176.61\" y=\"-136.2\" font-family=\"Times,serif\" font-size=\"14.00\">x: [3.  1.6 0.  4.8 0. ]</text>\n</g>\n<!-- N0&#45;&gt;N1 -->\n<g id=\"edge1\" class=\"edge\">\n<title>N0-&gt;N1</title>\n<path fill=\"none\" stroke=\"black\" d=\"M238.21,-255.82C228.91,-242.35 218.27,-226.94 208.48,-212.76\"/>\n<polygon fill=\"black\" stroke=\"black\" points=\"211.61,-211.13 203.05,-204.89 205.85,-215.11 211.61,-211.13\"/>\n<text text-anchor=\"middle\" x=\"255.96\" y=\"-225.4\" font-family=\"Times,serif\" font-size=\"14.00\">x_0 &lt;= 3.0</text>\n</g>\n<!-- N2 -->\n<g id=\"node5\" class=\"node\">\n<title>N2</title>\n<polygon fill=\"none\" stroke=\"black\" points=\"438.88,-203.2 260.33,-203.2 260.33,-128 438.88,-128 438.88,-203.2\"/>\n<text text-anchor=\"middle\" x=\"349.61\" y=\"-186.6\" font-family=\"Times,serif\" font-size=\"14.00\">N2</text>\n<text text-anchor=\"middle\" x=\"349.61\" y=\"-169.8\" font-family=\"Times,serif\" font-size=\"14.00\">P: 2</text>\n<text text-anchor=\"middle\" x=\"349.61\" y=\"-153\" font-family=\"Times,serif\" font-size=\"14.00\">z_sup: 16.379310344827584</text>\n<text text-anchor=\"middle\" x=\"349.61\" y=\"-136.2\" font-family=\"Times,serif\" font-size=\"14.00\">x: N/A</text>\n</g>\n<!-- N0&#45;&gt;N2 -->\n<g id=\"edge4\" class=\"edge\">\n<title>N0-&gt;N2</title>\n<path fill=\"none\" stroke=\"black\" d=\"M288.71,-255.82C297.9,-242.35 308.42,-226.94 318.1,-212.76\"/>\n<polygon fill=\"black\" stroke=\"black\" points=\"320.72,-215.13 323.47,-204.9 314.94,-211.18 320.72,-215.13\"/>\n<text text-anchor=\"middle\" x=\"342.4\" y=\"-225.4\" font-family=\"Times,serif\" font-size=\"14.00\">x_0 &gt;= 4.0</text>\n</g>\n<!-- N3 -->\n<g id=\"node3\" class=\"node\">\n<title>N3</title>\n<polygon fill=\"none\" stroke=\"black\" points=\"183.21,-75.2 0,-75.2 0,0 183.21,0 183.21,-75.2\"/>\n<text text-anchor=\"middle\" x=\"91.61\" y=\"-58.6\" font-family=\"Times,serif\" font-size=\"14.00\">N3</text>\n<text text-anchor=\"middle\" x=\"91.61\" y=\"-41.8\" font-family=\"Times,serif\" font-size=\"14.00\">P: 3</text>\n<text text-anchor=\"middle\" x=\"91.61\" y=\"-25\" font-family=\"Times,serif\" font-size=\"14.00\">z_sup: 11.857142857142858</text>\n<text text-anchor=\"middle\" x=\"91.61\" y=\"-8.2\" font-family=\"Times,serif\" font-size=\"14.00\">x: [2.57 1.   0.   7.29 0.43 0.  ]</text>\n</g>\n<!-- N1&#45;&gt;N3 -->\n<g id=\"edge2\" class=\"edge\">\n<title>N1-&gt;N3</title>\n<path fill=\"none\" stroke=\"black\" d=\"M151.79,-127.82C142.79,-114.48 132.51,-99.23 123.02,-85.16\"/>\n<polygon fill=\"black\" stroke=\"black\" points=\"125.94,-83.23 117.45,-76.9 120.14,-87.15 125.94,-83.23\"/>\n<text text-anchor=\"middle\" x=\"169.84\" y=\"-97.4\" font-family=\"Times,serif\" font-size=\"14.00\">x_1 &lt;= 1.0</text>\n</g>\n<!-- N4 -->\n<g id=\"node4\" class=\"node\">\n<title>N4</title>\n<polygon fill=\"none\" stroke=\"black\" points=\"321.71,-75.2 201.5,-75.2 201.5,0 321.71,0 321.71,-75.2\"/>\n<text text-anchor=\"middle\" x=\"261.61\" y=\"-58.6\" font-family=\"Times,serif\" font-size=\"14.00\">N4</text>\n<text text-anchor=\"middle\" x=\"261.61\" y=\"-41.8\" font-family=\"Times,serif\" font-size=\"14.00\">P: 4</text>\n<text text-anchor=\"middle\" x=\"261.61\" y=\"-25\" font-family=\"Times,serif\" font-size=\"14.00\">z_sup: 13.0</text>\n<text text-anchor=\"middle\" x=\"261.61\" y=\"-8.2\" font-family=\"Times,serif\" font-size=\"14.00\">x: [3. 2. 2. 4. 0. 0.]</text>\n</g>\n<!-- N1&#45;&gt;N4 -->\n<g id=\"edge3\" class=\"edge\">\n<title>N1-&gt;N4</title>\n<path fill=\"none\" stroke=\"black\" d=\"M201.42,-127.82C210.42,-114.48 220.7,-99.23 230.2,-85.16\"/>\n<polygon fill=\"black\" stroke=\"black\" points=\"233.08,-87.15 235.77,-76.9 227.27,-83.23 233.08,-87.15\"/>\n<text text-anchor=\"middle\" x=\"254.84\" y=\"-97.4\" font-family=\"Times,serif\" font-size=\"14.00\">x_1 &gt;= 2.0</text>\n</g>\n</g>\n</svg>"
          },
          "metadata": {}
        }
      ],
      "execution_count": 221
    },
    {
      "cell_type": "code",
      "source": "x_star",
      "metadata": {
        "trusted": true
      },
      "outputs": [
        {
          "execution_count": 208,
          "output_type": "execute_result",
          "data": {
            "text/plain": "array([3., 2., 2., 4., 0., 0.])"
          },
          "metadata": {}
        }
      ],
      "execution_count": 208
    },
    {
      "cell_type": "code",
      "source": "z_star",
      "metadata": {
        "trusted": true
      },
      "outputs": [
        {
          "execution_count": 209,
          "output_type": "execute_result",
          "data": {
            "text/plain": "13.0"
          },
          "metadata": {}
        }
      ],
      "execution_count": 209
    },
    {
      "cell_type": "code",
      "source": "",
      "metadata": {
        "trusted": true
      },
      "outputs": [],
      "execution_count": null
    }
  ]
}