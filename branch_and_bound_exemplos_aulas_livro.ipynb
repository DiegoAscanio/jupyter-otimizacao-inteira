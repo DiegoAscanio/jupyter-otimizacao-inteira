{
 "cells": [
  {
   "cell_type": "markdown",
   "metadata": {
    "editable": true,
    "slideshow": {
     "slide_type": ""
    },
    "tags": []
   },
   "source": [
    "# Exemplos de Branch and Bound\n",
    "\n",
    "## Preâmbulo"
   ]
  },
  {
   "cell_type": "code",
   "execution_count": 9,
   "metadata": {},
   "outputs": [
    {
     "name": "stdout",
     "output_type": "stream",
     "text": [
      "The autoreload extension is already loaded. To reload it, use:\n",
      "  %reload_ext autoreload\n",
      "Requirement already satisfied: numpy in ./.venv/lib/python3.13/site-packages (2.3.0)\n",
      "\n",
      "\u001b[1m[\u001b[0m\u001b[34;49mnotice\u001b[0m\u001b[1;39;49m]\u001b[0m\u001b[39;49m A new release of pip is available: \u001b[0m\u001b[31;49m25.0.1\u001b[0m\u001b[39;49m -> \u001b[0m\u001b[32;49m25.1.1\u001b[0m\n",
      "\u001b[1m[\u001b[0m\u001b[34;49mnotice\u001b[0m\u001b[1;39;49m]\u001b[0m\u001b[39;49m To update, run: \u001b[0m\u001b[32;49mpip install --upgrade pip\u001b[0m\n",
      "Note: you may need to restart the kernel to use updated packages.\n",
      "Requirement already satisfied: scipy in ./.venv/lib/python3.13/site-packages (1.15.3)\n",
      "Requirement already satisfied: numpy<2.5,>=1.23.5 in ./.venv/lib/python3.13/site-packages (from scipy) (2.3.0)\n",
      "\n",
      "\u001b[1m[\u001b[0m\u001b[34;49mnotice\u001b[0m\u001b[1;39;49m]\u001b[0m\u001b[39;49m A new release of pip is available: \u001b[0m\u001b[31;49m25.0.1\u001b[0m\u001b[39;49m -> \u001b[0m\u001b[32;49m25.1.1\u001b[0m\n",
      "\u001b[1m[\u001b[0m\u001b[34;49mnotice\u001b[0m\u001b[1;39;49m]\u001b[0m\u001b[39;49m To update, run: \u001b[0m\u001b[32;49mpip install --upgrade pip\u001b[0m\n",
      "Note: you may need to restart the kernel to use updated packages.\n",
      "Requirement already satisfied: jupyter_anywidget_graphviz in ./.venv/lib/python3.13/site-packages (0.1.8)\n",
      "Requirement already satisfied: anywidget in ./.venv/lib/python3.13/site-packages (from jupyter_anywidget_graphviz) (0.9.18)\n",
      "Requirement already satisfied: ipywidgets>=7.6.0 in ./.venv/lib/python3.13/site-packages (from anywidget->jupyter_anywidget_graphviz) (8.1.7)\n",
      "Requirement already satisfied: psygnal>=0.8.1 in ./.venv/lib/python3.13/site-packages (from anywidget->jupyter_anywidget_graphviz) (0.13.0)\n",
      "Requirement already satisfied: typing-extensions>=4.2.0 in ./.venv/lib/python3.13/site-packages (from anywidget->jupyter_anywidget_graphviz) (4.14.0)\n",
      "Requirement already satisfied: comm>=0.1.3 in ./.venv/lib/python3.13/site-packages (from ipywidgets>=7.6.0->anywidget->jupyter_anywidget_graphviz) (0.2.2)\n",
      "Requirement already satisfied: ipython>=6.1.0 in ./.venv/lib/python3.13/site-packages (from ipywidgets>=7.6.0->anywidget->jupyter_anywidget_graphviz) (9.3.0)\n",
      "Requirement already satisfied: traitlets>=4.3.1 in ./.venv/lib/python3.13/site-packages (from ipywidgets>=7.6.0->anywidget->jupyter_anywidget_graphviz) (5.14.3)\n",
      "Requirement already satisfied: widgetsnbextension~=4.0.14 in ./.venv/lib/python3.13/site-packages (from ipywidgets>=7.6.0->anywidget->jupyter_anywidget_graphviz) (4.0.14)\n",
      "Requirement already satisfied: jupyterlab_widgets~=3.0.15 in ./.venv/lib/python3.13/site-packages (from ipywidgets>=7.6.0->anywidget->jupyter_anywidget_graphviz) (3.0.15)\n",
      "Requirement already satisfied: decorator in ./.venv/lib/python3.13/site-packages (from ipython>=6.1.0->ipywidgets>=7.6.0->anywidget->jupyter_anywidget_graphviz) (5.2.1)\n",
      "Requirement already satisfied: ipython-pygments-lexers in ./.venv/lib/python3.13/site-packages (from ipython>=6.1.0->ipywidgets>=7.6.0->anywidget->jupyter_anywidget_graphviz) (1.1.1)\n",
      "Requirement already satisfied: jedi>=0.16 in ./.venv/lib/python3.13/site-packages (from ipython>=6.1.0->ipywidgets>=7.6.0->anywidget->jupyter_anywidget_graphviz) (0.19.2)\n",
      "Requirement already satisfied: matplotlib-inline in ./.venv/lib/python3.13/site-packages (from ipython>=6.1.0->ipywidgets>=7.6.0->anywidget->jupyter_anywidget_graphviz) (0.1.7)\n",
      "Requirement already satisfied: pexpect>4.3 in ./.venv/lib/python3.13/site-packages (from ipython>=6.1.0->ipywidgets>=7.6.0->anywidget->jupyter_anywidget_graphviz) (4.9.0)\n",
      "Requirement already satisfied: prompt_toolkit<3.1.0,>=3.0.41 in ./.venv/lib/python3.13/site-packages (from ipython>=6.1.0->ipywidgets>=7.6.0->anywidget->jupyter_anywidget_graphviz) (3.0.51)\n",
      "Requirement already satisfied: pygments>=2.4.0 in ./.venv/lib/python3.13/site-packages (from ipython>=6.1.0->ipywidgets>=7.6.0->anywidget->jupyter_anywidget_graphviz) (2.19.1)\n",
      "Requirement already satisfied: stack_data in ./.venv/lib/python3.13/site-packages (from ipython>=6.1.0->ipywidgets>=7.6.0->anywidget->jupyter_anywidget_graphviz) (0.6.3)\n",
      "Requirement already satisfied: parso<0.9.0,>=0.8.4 in ./.venv/lib/python3.13/site-packages (from jedi>=0.16->ipython>=6.1.0->ipywidgets>=7.6.0->anywidget->jupyter_anywidget_graphviz) (0.8.4)\n",
      "Requirement already satisfied: ptyprocess>=0.5 in ./.venv/lib/python3.13/site-packages (from pexpect>4.3->ipython>=6.1.0->ipywidgets>=7.6.0->anywidget->jupyter_anywidget_graphviz) (0.7.0)\n",
      "Requirement already satisfied: wcwidth in ./.venv/lib/python3.13/site-packages (from prompt_toolkit<3.1.0,>=3.0.41->ipython>=6.1.0->ipywidgets>=7.6.0->anywidget->jupyter_anywidget_graphviz) (0.2.13)\n",
      "Requirement already satisfied: executing>=1.2.0 in ./.venv/lib/python3.13/site-packages (from stack_data->ipython>=6.1.0->ipywidgets>=7.6.0->anywidget->jupyter_anywidget_graphviz) (2.2.0)\n",
      "Requirement already satisfied: asttokens>=2.1.0 in ./.venv/lib/python3.13/site-packages (from stack_data->ipython>=6.1.0->ipywidgets>=7.6.0->anywidget->jupyter_anywidget_graphviz) (3.0.0)\n",
      "Requirement already satisfied: pure-eval in ./.venv/lib/python3.13/site-packages (from stack_data->ipython>=6.1.0->ipywidgets>=7.6.0->anywidget->jupyter_anywidget_graphviz) (0.2.3)\n",
      "\n",
      "\u001b[1m[\u001b[0m\u001b[34;49mnotice\u001b[0m\u001b[1;39;49m]\u001b[0m\u001b[39;49m A new release of pip is available: \u001b[0m\u001b[31;49m25.0.1\u001b[0m\u001b[39;49m -> \u001b[0m\u001b[32;49m25.1.1\u001b[0m\n",
      "\u001b[1m[\u001b[0m\u001b[34;49mnotice\u001b[0m\u001b[1;39;49m]\u001b[0m\u001b[39;49m To update, run: \u001b[0m\u001b[32;49mpip install --upgrade pip\u001b[0m\n",
      "Note: you may need to restart the kernel to use updated packages.\n",
      "The jupyter_anywidget_graphviz extension is already loaded. To reload it, use:\n",
      "  %reload_ext jupyter_anywidget_graphviz\n"
     ]
    },
    {
     "data": {
      "application/vnd.jupyter.widget-view+json": {
       "model_id": "608a7aeb813b4dba8fbb8af129a14322",
       "version_major": 2,
       "version_minor": 1
      },
      "text/plain": [
       "graphvizWidget(headless=True, response={'status': 'initialising'})"
      ]
     },
     "metadata": {},
     "output_type": "display_data"
    }
   ],
   "source": [
    "%load_ext autoreload\n",
    "%autoreload 2\n",
    "%pip install numpy\n",
    "%pip install scipy\n",
    "%pip install jupyter_anywidget_graphviz\n",
    "\n",
    "from IPython.display import HTML, display, SVG\n",
    "from jupyter_anywidget_graphviz import graphviz_headless\n",
    "%load_ext jupyter_anywidget_graphviz\n",
    "\n",
    "g = graphviz_headless()"
   ]
  },
  {
   "cell_type": "markdown",
   "metadata": {},
   "source": [
    "## Exemplo Sala"
   ]
  },
  {
   "cell_type": "code",
   "execution_count": 10,
   "metadata": {},
   "outputs": [
    {
     "name": "stderr",
     "output_type": "stream",
     "text": [
      "WARNING:root:No wait available. Are you in a pyodide environment?\n"
     ]
    },
    {
     "data": {
      "text/plain": [
       "{'status': 'processing'}"
      ]
     },
     "execution_count": 10,
     "metadata": {},
     "output_type": "execute_result"
    }
   ],
   "source": [
    "from branch_and_bound import branch_and_bound, generate_dot\n",
    "import numpy as np\n",
    "\n",
    "A = np.array([\n",
    "    [1, 4, -1, 0],\n",
    "    [3, 2, 0, -1]\n",
    "])\n",
    "\n",
    "b = np.array([\n",
    "    5,\n",
    "    7\n",
    "])\n",
    "\n",
    "c = np.array([-4, -5, 0, 0]) # we're maximizing\n",
    "\n",
    "integrality = np.array([1, 1, 0, 0])  # x1 and x2 are integers\n",
    "\n",
    "z_star, x_star, bnb_tree, active_problems, iters = branch_and_bound(c, A, b, integrality = integrality)\n",
    "dot_code = generate_dot(bnb_tree)\n",
    "g.render(dot_code)"
   ]
  },
  {
   "cell_type": "markdown",
   "metadata": {},
   "source": [
    "### Árvore B&B"
   ]
  },
  {
   "cell_type": "code",
   "execution_count": 11,
   "metadata": {},
   "outputs": [
    {
     "data": {
      "image/svg+xml": [
       "<svg xmlns=\"http://www.w3.org/2000/svg\" xmlns:xlink=\"http://www.w3.org/1999/xlink\" width=\"342pt\" height=\"339pt\" viewBox=\"0.00 0.00 342.21 339.20\">\n",
       "<g id=\"graph0\" class=\"graph\" transform=\"scale(1 1) rotate(0) translate(4 335.2)\">\n",
       "<title>G</title>\n",
       "<polygon fill=\"white\" stroke=\"none\" points=\"-4,4 -4,-335.2 338.21,-335.2 338.21,4 -4,4\"/>\n",
       "<!-- N0 -->\n",
       "<g id=\"node1\" class=\"node\">\n",
       "<title>N0</title>\n",
       "<polygon fill=\"none\" stroke=\"black\" points=\"151.71,-331.2 38.5,-331.2 38.5,-256 151.71,-256 151.71,-331.2\"/>\n",
       "<text text-anchor=\"middle\" x=\"95.11\" y=\"-314.6\" font-family=\"Times,serif\" font-size=\"14.00\">N0</text>\n",
       "<text text-anchor=\"middle\" x=\"95.11\" y=\"-297.8\" font-family=\"Times,serif\" font-size=\"14.00\">P: 0</text>\n",
       "<text text-anchor=\"middle\" x=\"95.11\" y=\"-281\" font-family=\"Times,serif\" font-size=\"14.00\">z_sup: -11.2</text>\n",
       "<text text-anchor=\"middle\" x=\"95.11\" y=\"-264.2\" font-family=\"Times,serif\" font-size=\"14.00\">x: [1.8 0.8 0.  0. ]</text>\n",
       "</g>\n",
       "<!-- N1 -->\n",
       "<g id=\"node2\" class=\"node\">\n",
       "<title>N1</title>\n",
       "<polygon fill=\"none\" stroke=\"black\" points=\"106.21,-203.2 0,-203.2 0,-128 106.21,-128 106.21,-203.2\"/>\n",
       "<text text-anchor=\"middle\" x=\"53.11\" y=\"-186.6\" font-family=\"Times,serif\" font-size=\"14.00\">N1</text>\n",
       "<text text-anchor=\"middle\" x=\"53.11\" y=\"-169.8\" font-family=\"Times,serif\" font-size=\"14.00\">P: 1</text>\n",
       "<text text-anchor=\"middle\" x=\"53.11\" y=\"-153\" font-family=\"Times,serif\" font-size=\"14.00\">z_sup: -14.0</text>\n",
       "<text text-anchor=\"middle\" x=\"53.11\" y=\"-136.2\" font-family=\"Times,serif\" font-size=\"14.00\">x: [1. 2. 4. 0. 0.]</text>\n",
       "</g>\n",
       "<!-- N0&#45;&gt;N1 -->\n",
       "<g id=\"edge1\" class=\"edge\">\n",
       "<title>N0-&gt;N1</title>\n",
       "<path fill=\"none\" stroke=\"black\" d=\"M82.85,-255.82C78.53,-242.86 73.61,-228.11 69.03,-214.38\"/>\n",
       "<polygon fill=\"black\" stroke=\"black\" points=\"72.42,-213.46 65.93,-205.08 65.78,-215.68 72.42,-213.46\"/>\n",
       "<text text-anchor=\"middle\" x=\"107.27\" y=\"-225.4\" font-family=\"Times,serif\" font-size=\"14.00\">x_0 &lt;= 1.0</text>\n",
       "</g>\n",
       "<!-- N2 -->\n",
       "<g id=\"node3\" class=\"node\">\n",
       "<title>N2</title>\n",
       "<polygon fill=\"none\" stroke=\"black\" points=\"275.96,-203.2 124.25,-203.2 124.25,-128 275.96,-128 275.96,-203.2\"/>\n",
       "<text text-anchor=\"middle\" x=\"200.11\" y=\"-186.6\" font-family=\"Times,serif\" font-size=\"14.00\">N2</text>\n",
       "<text text-anchor=\"middle\" x=\"200.11\" y=\"-169.8\" font-family=\"Times,serif\" font-size=\"14.00\">P: 2</text>\n",
       "<text text-anchor=\"middle\" x=\"200.11\" y=\"-153\" font-family=\"Times,serif\" font-size=\"14.00\">z_sup: -11.75</text>\n",
       "<text text-anchor=\"middle\" x=\"200.11\" y=\"-136.2\" font-family=\"Times,serif\" font-size=\"14.00\">x: [2.   0.75 0.   0.5  0.  ]</text>\n",
       "</g>\n",
       "<!-- N0&#45;&gt;N2 -->\n",
       "<g id=\"edge2\" class=\"edge\">\n",
       "<title>N0-&gt;N2</title>\n",
       "<path fill=\"none\" stroke=\"black\" d=\"M127.11,-255.72C132.15,-249.81 137.29,-243.76 142.11,-238 149.03,-229.73 156.33,-220.85 163.34,-212.26\"/>\n",
       "<polygon fill=\"black\" stroke=\"black\" points=\"165.95,-214.59 169.55,-204.63 160.52,-210.18 165.95,-214.59\"/>\n",
       "<text text-anchor=\"middle\" x=\"185.61\" y=\"-225.4\" font-family=\"Times,serif\" font-size=\"14.00\">x_0 &gt;= 2.0</text>\n",
       "</g>\n",
       "<!-- N5 -->\n",
       "<g id=\"node4\" class=\"node\">\n",
       "<title>N5</title>\n",
       "<polygon fill=\"none\" stroke=\"black\" points=\"196.29,-75.2 53.92,-75.2 53.92,0 196.29,0 196.29,-75.2\"/>\n",
       "<text text-anchor=\"middle\" x=\"125.11\" y=\"-58.6\" font-family=\"Times,serif\" font-size=\"14.00\">N5</text>\n",
       "<text text-anchor=\"middle\" x=\"125.11\" y=\"-41.8\" font-family=\"Times,serif\" font-size=\"14.00\">P: 5</text>\n",
       "<text text-anchor=\"middle\" x=\"125.11\" y=\"-25\" font-family=\"Times,serif\" font-size=\"14.00\">z_sup: -20.0</text>\n",
       "<text text-anchor=\"middle\" x=\"125.11\" y=\"-8.2\" font-family=\"Times,serif\" font-size=\"14.00\">x: [ 5. -0.  0.  8.  3.  0.]</text>\n",
       "</g>\n",
       "<!-- N2&#45;&gt;N5 -->\n",
       "<g id=\"edge3\" class=\"edge\">\n",
       "<title>N2-&gt;N5</title>\n",
       "<path fill=\"none\" stroke=\"black\" d=\"M178.21,-127.82C170.27,-114.48 161.2,-99.23 152.82,-85.16\"/>\n",
       "<polygon fill=\"black\" stroke=\"black\" points=\"156.06,-83.75 147.93,-76.95 150.04,-87.33 156.06,-83.75\"/>\n",
       "<text text-anchor=\"middle\" x=\"197.74\" y=\"-97.4\" font-family=\"Times,serif\" font-size=\"14.00\">x_1 &lt;= 0.0</text>\n",
       "</g>\n",
       "<!-- N6 -->\n",
       "<g id=\"node5\" class=\"node\">\n",
       "<title>N6</title>\n",
       "<polygon fill=\"none\" stroke=\"black\" points=\"334.21,-75.2 214,-75.2 214,0 334.21,0 334.21,-75.2\"/>\n",
       "<text text-anchor=\"middle\" x=\"274.11\" y=\"-58.6\" font-family=\"Times,serif\" font-size=\"14.00\">N6</text>\n",
       "<text text-anchor=\"middle\" x=\"274.11\" y=\"-41.8\" font-family=\"Times,serif\" font-size=\"14.00\">P: 6</text>\n",
       "<text text-anchor=\"middle\" x=\"274.11\" y=\"-25\" font-family=\"Times,serif\" font-size=\"14.00\">z_sup: -13.0</text>\n",
       "<text text-anchor=\"middle\" x=\"274.11\" y=\"-8.2\" font-family=\"Times,serif\" font-size=\"14.00\">x: [2. 1. 1. 1. 0. 0.]</text>\n",
       "</g>\n",
       "<!-- N2&#45;&gt;N6 -->\n",
       "<g id=\"edge4\" class=\"edge\">\n",
       "<title>N2-&gt;N6</title>\n",
       "<path fill=\"none\" stroke=\"black\" d=\"M221.71,-127.82C229.47,-114.61 238.33,-99.53 246.52,-85.57\"/>\n",
       "<polygon fill=\"black\" stroke=\"black\" points=\"249.54,-87.35 251.58,-76.95 243.5,-83.8 249.54,-87.35\"/>\n",
       "<text text-anchor=\"middle\" x=\"272.18\" y=\"-97.4\" font-family=\"Times,serif\" font-size=\"14.00\">x_1 &gt;= 1.0</text>\n",
       "</g>\n",
       "</g>\n",
       "</svg>"
      ],
      "text/plain": [
       "<IPython.core.display.SVG object>"
      ]
     },
     "execution_count": 11,
     "metadata": {},
     "output_type": "execute_result"
    }
   ],
   "source": [
    "SVG(g.svg)"
   ]
  },
  {
   "cell_type": "markdown",
   "metadata": {},
   "source": [
    "## Exemplo Livro\n",
    "\n",
    "\\begin{align}\n",
    "    & z = \\text{max} \\ 5x_1 - x_2 \\\\\n",
    "    & \\text{subject to:} \\\\\n",
    "    & 7 x_1 - 5x_2 \\leq 13 \\\\\n",
    "    & 3 x_1 + 2x_2 \\leq 17 \\\\\n",
    "    & x_1, x_2 \\in \\mathbb{Z}^{+}\n",
    "\\end{align}"
   ]
  },
  {
   "cell_type": "code",
   "execution_count": 13,
   "metadata": {},
   "outputs": [
    {
     "name": "stderr",
     "output_type": "stream",
     "text": [
      "WARNING:root:No wait available. Are you in a pyodide environment?\n"
     ]
    },
    {
     "data": {
      "text/plain": [
       "{0: [0], 1: [1, 2], 2: [3, 4], 3: [4, 7, 8]}"
      ]
     },
     "execution_count": 13,
     "metadata": {},
     "output_type": "execute_result"
    }
   ],
   "source": [
    "A = np.array([\n",
    "    [7, -5, 1, 0],\n",
    "    [3,  2, 0, 1]\n",
    "])\n",
    "\n",
    "b = np.array([\n",
    "    13,\n",
    "    17\n",
    "])\n",
    "\n",
    "c = np.array([5, -1, 0, 0]) # we're maximizing\n",
    "\n",
    "integrality = np.array([1, 1, 0, 0])  # x1 and x2 are integers\n",
    "\n",
    "z_star, x_star, bnb_tree, active_problems, iters = branch_and_bound(c, A, b, integrality = integrality, branching_strategy = 'fni')\n",
    "dot_code = generate_dot(bnb_tree)\n",
    "g.render(dot_code)\n",
    "active_problems"
   ]
  },
  {
   "cell_type": "markdown",
   "metadata": {},
   "source": [
    "### Árvore B&B"
   ]
  },
  {
   "cell_type": "code",
   "execution_count": 14,
   "metadata": {
    "scrolled": true
   },
   "outputs": [
    {
     "data": {
      "image/svg+xml": [
       "<svg xmlns=\"http://www.w3.org/2000/svg\" xmlns:xlink=\"http://www.w3.org/1999/xlink\" width=\"543pt\" height=\"467pt\" viewBox=\"0.00 0.00 542.55 467.20\">\n",
       "<g id=\"graph0\" class=\"graph\" transform=\"scale(1 1) rotate(0) translate(4 463.2)\">\n",
       "<title>G</title>\n",
       "<polygon fill=\"white\" stroke=\"none\" points=\"-4,4 -4,-463.2 538.55,-463.2 538.55,4 -4,4\"/>\n",
       "<!-- N0 -->\n",
       "<g id=\"node1\" class=\"node\">\n",
       "<title>N0</title>\n",
       "<polygon fill=\"none\" stroke=\"black\" points=\"448.55,-459.2 270,-459.2 270,-384 448.55,-384 448.55,-459.2\"/>\n",
       "<text text-anchor=\"middle\" x=\"359.28\" y=\"-442.6\" font-family=\"Times,serif\" font-size=\"14.00\">N0</text>\n",
       "<text text-anchor=\"middle\" x=\"359.28\" y=\"-425.8\" font-family=\"Times,serif\" font-size=\"14.00\">P: 0</text>\n",
       "<text text-anchor=\"middle\" x=\"359.28\" y=\"-409\" font-family=\"Times,serif\" font-size=\"14.00\">z_sup: 16.379310344827584</text>\n",
       "<text text-anchor=\"middle\" x=\"359.28\" y=\"-392.2\" font-family=\"Times,serif\" font-size=\"14.00\">x: [3.83 2.76 0.   0.  ]</text>\n",
       "</g>\n",
       "<!-- N1 -->\n",
       "<g id=\"node2\" class=\"node\">\n",
       "<title>N1</title>\n",
       "<polygon fill=\"none\" stroke=\"black\" points=\"337.63,-331.2 206.92,-331.2 206.92,-256 337.63,-256 337.63,-331.2\"/>\n",
       "<text text-anchor=\"middle\" x=\"272.28\" y=\"-314.6\" font-family=\"Times,serif\" font-size=\"14.00\">N1</text>\n",
       "<text text-anchor=\"middle\" x=\"272.28\" y=\"-297.8\" font-family=\"Times,serif\" font-size=\"14.00\">P: 1</text>\n",
       "<text text-anchor=\"middle\" x=\"272.28\" y=\"-281\" font-family=\"Times,serif\" font-size=\"14.00\">z_sup: 13.4</text>\n",
       "<text text-anchor=\"middle\" x=\"272.28\" y=\"-264.2\" font-family=\"Times,serif\" font-size=\"14.00\">x: [3.  1.6 0.  4.8 0. ]</text>\n",
       "</g>\n",
       "<!-- N0&#45;&gt;N1 -->\n",
       "<g id=\"edge1\" class=\"edge\">\n",
       "<title>N0-&gt;N1</title>\n",
       "<path fill=\"none\" stroke=\"black\" d=\"M333.88,-383.82C324.58,-370.35 313.94,-354.94 304.15,-340.76\"/>\n",
       "<polygon fill=\"black\" stroke=\"black\" points=\"307.28,-339.13 298.72,-332.89 301.52,-343.11 307.28,-339.13\"/>\n",
       "<text text-anchor=\"middle\" x=\"351.63\" y=\"-353.4\" font-family=\"Times,serif\" font-size=\"14.00\">x_0 &lt;= 3.0</text>\n",
       "</g>\n",
       "<!-- N2 -->\n",
       "<g id=\"node7\" class=\"node\">\n",
       "<title>N2</title>\n",
       "<polygon fill=\"none\" stroke=\"black\" points=\"534.55,-331.2 356,-331.2 356,-256 534.55,-256 534.55,-331.2\"/>\n",
       "<text text-anchor=\"middle\" x=\"445.28\" y=\"-314.6\" font-family=\"Times,serif\" font-size=\"14.00\">N2</text>\n",
       "<text text-anchor=\"middle\" x=\"445.28\" y=\"-297.8\" font-family=\"Times,serif\" font-size=\"14.00\">P: 2</text>\n",
       "<text text-anchor=\"middle\" x=\"445.28\" y=\"-281\" font-family=\"Times,serif\" font-size=\"14.00\">z_sup: 16.379310344827584</text>\n",
       "<text text-anchor=\"middle\" x=\"445.28\" y=\"-264.2\" font-family=\"Times,serif\" font-size=\"14.00\">x: N/A</text>\n",
       "</g>\n",
       "<!-- N0&#45;&gt;N2 -->\n",
       "<g id=\"edge6\" class=\"edge\">\n",
       "<title>N0-&gt;N2</title>\n",
       "<path fill=\"none\" stroke=\"black\" d=\"M384.38,-383.82C393.57,-370.35 404.09,-354.94 413.77,-340.76\"/>\n",
       "<polygon fill=\"black\" stroke=\"black\" points=\"416.39,-343.13 419.14,-332.9 410.61,-339.18 416.39,-343.13\"/>\n",
       "<text text-anchor=\"middle\" x=\"438.07\" y=\"-353.4\" font-family=\"Times,serif\" font-size=\"14.00\">x_0 &gt;= 4.0</text>\n",
       "</g>\n",
       "<!-- N3 -->\n",
       "<g id=\"node3\" class=\"node\">\n",
       "<title>N3</title>\n",
       "<polygon fill=\"none\" stroke=\"black\" points=\"278.88,-203.2 95.67,-203.2 95.67,-128 278.88,-128 278.88,-203.2\"/>\n",
       "<text text-anchor=\"middle\" x=\"187.28\" y=\"-186.6\" font-family=\"Times,serif\" font-size=\"14.00\">N3</text>\n",
       "<text text-anchor=\"middle\" x=\"187.28\" y=\"-169.8\" font-family=\"Times,serif\" font-size=\"14.00\">P: 3</text>\n",
       "<text text-anchor=\"middle\" x=\"187.28\" y=\"-153\" font-family=\"Times,serif\" font-size=\"14.00\">z_sup: 11.857142857142858</text>\n",
       "<text text-anchor=\"middle\" x=\"187.28\" y=\"-136.2\" font-family=\"Times,serif\" font-size=\"14.00\">x: [2.57 1.   0.   7.29 0.43 0.  ]</text>\n",
       "</g>\n",
       "<!-- N1&#45;&gt;N3 -->\n",
       "<g id=\"edge2\" class=\"edge\">\n",
       "<title>N1-&gt;N3</title>\n",
       "<path fill=\"none\" stroke=\"black\" d=\"M247.46,-255.82C238.46,-242.48 228.18,-227.23 218.69,-213.16\"/>\n",
       "<polygon fill=\"black\" stroke=\"black\" points=\"221.61,-211.23 213.11,-204.9 215.81,-215.15 221.61,-211.23\"/>\n",
       "<text text-anchor=\"middle\" x=\"265.51\" y=\"-225.4\" font-family=\"Times,serif\" font-size=\"14.00\">x_1 &lt;= 1.0</text>\n",
       "</g>\n",
       "<!-- N4 -->\n",
       "<g id=\"node6\" class=\"node\">\n",
       "<title>N4</title>\n",
       "<polygon fill=\"none\" stroke=\"black\" points=\"417.38,-203.2 297.17,-203.2 297.17,-128 417.38,-128 417.38,-203.2\"/>\n",
       "<text text-anchor=\"middle\" x=\"357.28\" y=\"-186.6\" font-family=\"Times,serif\" font-size=\"14.00\">N4</text>\n",
       "<text text-anchor=\"middle\" x=\"357.28\" y=\"-169.8\" font-family=\"Times,serif\" font-size=\"14.00\">P: 4</text>\n",
       "<text text-anchor=\"middle\" x=\"357.28\" y=\"-153\" font-family=\"Times,serif\" font-size=\"14.00\">z_sup: 13.0</text>\n",
       "<text text-anchor=\"middle\" x=\"357.28\" y=\"-136.2\" font-family=\"Times,serif\" font-size=\"14.00\">x: [3. 2. 2. 4. 0. 0.]</text>\n",
       "</g>\n",
       "<!-- N1&#45;&gt;N4 -->\n",
       "<g id=\"edge5\" class=\"edge\">\n",
       "<title>N1-&gt;N4</title>\n",
       "<path fill=\"none\" stroke=\"black\" d=\"M297.09,-255.82C306.09,-242.48 316.37,-227.23 325.86,-213.16\"/>\n",
       "<polygon fill=\"black\" stroke=\"black\" points=\"328.75,-215.15 331.44,-204.9 322.94,-211.23 328.75,-215.15\"/>\n",
       "<text text-anchor=\"middle\" x=\"350.51\" y=\"-225.4\" font-family=\"Times,serif\" font-size=\"14.00\">x_1 &gt;= 2.0</text>\n",
       "</g>\n",
       "<!-- N7 -->\n",
       "<g id=\"node4\" class=\"node\">\n",
       "<title>N7</title>\n",
       "<polygon fill=\"none\" stroke=\"black\" points=\"178.55,-75.2 0,-75.2 0,0 178.55,0 178.55,-75.2\"/>\n",
       "<text text-anchor=\"middle\" x=\"89.28\" y=\"-58.6\" font-family=\"Times,serif\" font-size=\"14.00\">N7</text>\n",
       "<text text-anchor=\"middle\" x=\"89.28\" y=\"-41.8\" font-family=\"Times,serif\" font-size=\"14.00\">P: 7</text>\n",
       "<text text-anchor=\"middle\" x=\"89.28\" y=\"-25\" font-family=\"Times,serif\" font-size=\"14.00\">z_sup: 11.857142857142858</text>\n",
       "<text text-anchor=\"middle\" x=\"89.28\" y=\"-8.2\" font-family=\"Times,serif\" font-size=\"14.00\">x: N/A</text>\n",
       "</g>\n",
       "<!-- N3&#45;&gt;N7 -->\n",
       "<g id=\"edge3\" class=\"edge\">\n",
       "<title>N3-&gt;N7</title>\n",
       "<path fill=\"none\" stroke=\"black\" d=\"M158.67,-127.82C148.09,-114.22 135.98,-98.65 124.86,-84.35\"/>\n",
       "<polygon fill=\"black\" stroke=\"black\" points=\"127.92,-82.59 119.02,-76.84 122.4,-86.88 127.92,-82.59\"/>\n",
       "<text text-anchor=\"middle\" x=\"174.79\" y=\"-97.4\" font-family=\"Times,serif\" font-size=\"14.00\">x_0 &lt;= 2.0</text>\n",
       "</g>\n",
       "<!-- N8 -->\n",
       "<g id=\"node5\" class=\"node\">\n",
       "<title>N8</title>\n",
       "<polygon fill=\"none\" stroke=\"black\" points=\"375.55,-75.2 197,-75.2 197,0 375.55,0 375.55,-75.2\"/>\n",
       "<text text-anchor=\"middle\" x=\"286.28\" y=\"-58.6\" font-family=\"Times,serif\" font-size=\"14.00\">N8</text>\n",
       "<text text-anchor=\"middle\" x=\"286.28\" y=\"-41.8\" font-family=\"Times,serif\" font-size=\"14.00\">P: 8</text>\n",
       "<text text-anchor=\"middle\" x=\"286.28\" y=\"-25\" font-family=\"Times,serif\" font-size=\"14.00\">z_sup: 11.857142857142858</text>\n",
       "<text text-anchor=\"middle\" x=\"286.28\" y=\"-8.2\" font-family=\"Times,serif\" font-size=\"14.00\">x: N/A</text>\n",
       "</g>\n",
       "<!-- N3&#45;&gt;N8 -->\n",
       "<g id=\"edge4\" class=\"edge\">\n",
       "<title>N3-&gt;N8</title>\n",
       "<path fill=\"none\" stroke=\"black\" d=\"M216.18,-127.82C226.86,-114.22 239.1,-98.65 250.33,-84.35\"/>\n",
       "<polygon fill=\"black\" stroke=\"black\" points=\"252.81,-86.86 256.23,-76.84 247.3,-82.54 252.81,-86.86\"/>\n",
       "<text text-anchor=\"middle\" x=\"273.35\" y=\"-97.4\" font-family=\"Times,serif\" font-size=\"14.00\">x_0 &gt;= 3.0</text>\n",
       "</g>\n",
       "</g>\n",
       "</svg>"
      ],
      "text/plain": [
       "<IPython.core.display.SVG object>"
      ]
     },
     "execution_count": 14,
     "metadata": {},
     "output_type": "execute_result"
    }
   ],
   "source": [
    "SVG(g.svg)"
   ]
  },
  {
   "cell_type": "code",
   "execution_count": 15,
   "metadata": {},
   "outputs": [
    {
     "data": {
      "text/plain": [
       "array([3., 2., 2., 4., 0., 0.])"
      ]
     },
     "execution_count": 15,
     "metadata": {},
     "output_type": "execute_result"
    }
   ],
   "source": [
    "x_star"
   ]
  },
  {
   "cell_type": "code",
   "execution_count": 16,
   "metadata": {},
   "outputs": [
    {
     "data": {
      "text/plain": [
       "13.0"
      ]
     },
     "execution_count": 16,
     "metadata": {},
     "output_type": "execute_result"
    }
   ],
   "source": [
    "z_star"
   ]
  },
  {
   "cell_type": "code",
   "execution_count": null,
   "metadata": {},
   "outputs": [],
   "source": []
  }
 ],
 "metadata": {
  "kernelspec": {
   "display_name": "Python 3 (ipykernel)",
   "language": "python",
   "name": "python3"
  },
  "language_info": {
   "codemirror_mode": {
    "name": "ipython",
    "version": 3
   },
   "file_extension": ".py",
   "mimetype": "text/x-python",
   "name": "python",
   "nbconvert_exporter": "python",
   "pygments_lexer": "ipython3",
   "version": "3.13.3"
  }
 },
 "nbformat": 4,
 "nbformat_minor": 4
}
