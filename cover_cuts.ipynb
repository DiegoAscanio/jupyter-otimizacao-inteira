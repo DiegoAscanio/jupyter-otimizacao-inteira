{
  "metadata": {
    "kernelspec": {
      "name": "python",
      "display_name": "Python (Pyodide)",
      "language": "python"
    },
    "language_info": {
      "codemirror_mode": {
        "name": "python",
        "version": 3
      },
      "file_extension": ".py",
      "mimetype": "text/x-python",
      "name": "python",
      "nbconvert_exporter": "python",
      "pygments_lexer": "ipython3",
      "version": "3.8"
    }
  },
  "nbformat_minor": 5,
  "nbformat": 4,
  "cells": [
    {
      "id": "05db62d7-0f15-414e-803b-b19b31e88ce5",
      "cell_type": "markdown",
      "source": "# Cortes de Cobertura\n\nConsidere uma mochila (_knapsack_) binária (0-1) com um conjunto de $ N $ itens $x$ de valores $v$, pesos $a$ e capacidade $b$\n\nQueremos maximizar o valor dos itens a serem transportados respeitando a capacidade máxima da mochila, que pode ser expresso como:\n\n\\begin{align*}\n    & z = \\text{max} \\  v^{T} x \\\\\n    & \\text{s. t.} \\\\\n    & a x \\leq b \\\\\n    & x \\in \\{ 0, 1 \\}^{N}\n\\end{align*}\n\nÉ uma cobertura toda combinação de itens pertencentes a $ N $, $ N $ incluso, cuja soma dos pesos exceda a capacidade máxima $b$ da mochila, ou seja:\n\n$$ \nC \\subseteq N : \\sum_{j \\in C}^{}{a_j} > b\n$$\n\nSão válidos os cortes de cobertura que:\n\n![](https://i.imgur.com/vqO3Wv1.png)\n\nNa utilização de relaxações lineares para a resolução da mochila, a adição de cortes de cobertura pode fazer com que o método de programação linear convirja mais rápido para uma solução inteira factível, uma vez que tais cortes de cobertura podem tornar soluções fracionárias infactíveis, tal qual os cortes de gommory fazem para problemas inteiros genéricos.\n\nNem todos os cortes produzem restrições que aceleram a convergência, cortes que o fazem são os chamados cortes mínimos e eles são mínimos pois a retirada de quaisquer itens de seus conjuntos implica que a capacidade da mochila é respeitada.\n\nPodem ser obtidos a partir de uma solução linearmente relaxada da mochila 0-1 pela resolução do problema de separação:\n\n![](https://i.imgur.com/OqhlsKw.png)",
      "metadata": {}
    },
    {
      "id": "5361b555-0dff-432e-9c20-6099ccf6ca89",
      "cell_type": "code",
      "source": "",
      "metadata": {
        "trusted": true
      },
      "outputs": [],
      "execution_count": null
    }
  ]
}