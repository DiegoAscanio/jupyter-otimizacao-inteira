{
  "metadata": {
    "kernelspec": {
      "name": "python",
      "display_name": "Python (Pyodide)",
      "language": "python"
    },
    "language_info": {
      "codemirror_mode": {
        "name": "python",
        "version": 3
      },
      "file_extension": ".py",
      "mimetype": "text/x-python",
      "name": "python",
      "nbconvert_exporter": "python",
      "pygments_lexer": "ipython3",
      "version": "3.8"
    }
  },
  "nbformat_minor": 4,
  "nbformat": 4,
  "cells": [
    {
      "cell_type": "markdown",
      "source": "# Lista 2 de Exercícios - Otimização Inteira\n\n## Preâmbulo",
      "metadata": {}
    },
    {
      "cell_type": "code",
      "source": "%load_ext autoreload\n%autoreload 2\n%pip install numpy\n%pip install jupyter_anywidget_graphviz\n\nfrom IPython.display import HTML, display",
      "metadata": {
        "trusted": true
      },
      "outputs": [
        {
          "name": "stdout",
          "text": "The autoreload extension is already loaded. To reload it, use:\n  %reload_ext autoreload\n",
          "output_type": "stream"
        }
      ],
      "execution_count": 38
    },
    {
      "cell_type": "markdown",
      "source": "## Exercício 2",
      "metadata": {}
    },
    {
      "cell_type": "code",
      "source": "from branch_and_bound import branch_and_bound, generate_dot\nimport numpy as np\n\nA = np.array([\n    [5, 2, 3, 2, 2, 1]\n])\n\nb = np.array([\n    7\n])\n\nc = np.array([-10, -6, -7, -2, -1, 0])\n\nintegrality = np.array([1, 1, 1, 1, 1, 0])  # x1 and x2 are integers\n\nz_star, x_star, iters, snapshots, bnb_tree = branch_and_bound(c, A, b, integrality = integrality)\ndot_code = generate_dot(bnb_tree)",
      "metadata": {
        "trusted": true
      },
      "outputs": [],
      "execution_count": 42
    },
    {
      "cell_type": "code",
      "source": "from jupyter_anywidget_graphviz import graphviz_headless\n%load_ext jupyter_anywidget_graphviz\n\ng = graphviz_headless()\n",
      "metadata": {
        "trusted": true
      },
      "outputs": [
        {
          "name": "stdout",
          "text": "The jupyter_anywidget_graphviz extension is already loaded. To reload it, use:\n  %reload_ext jupyter_anywidget_graphviz\n",
          "output_type": "stream"
        },
        {
          "output_type": "display_data",
          "data": {
            "text/plain": "graphvizWidget(headless=True, response={'status': 'initialising'})",
            "application/vnd.jupyter.widget-view+json": {
              "version_major": 2,
              "version_minor": 1,
              "model_id": "ea296a7173f246f88c42048b0078d4d5"
            }
          },
          "metadata": {}
        }
      ],
      "execution_count": 46
    },
    {
      "cell_type": "code",
      "source": "g",
      "metadata": {
        "trusted": true
      },
      "outputs": [
        {
          "execution_count": 47,
          "output_type": "execute_result",
          "data": {
            "text/plain": "graphvizWidget(headless=True, response={'status': 'initialising'})",
            "application/vnd.jupyter.widget-view+json": {
              "version_major": 2,
              "version_minor": 1,
              "model_id": "ea296a7173f246f88c42048b0078d4d5"
            }
          },
          "metadata": {}
        }
      ],
      "execution_count": 47
    },
    {
      "cell_type": "code",
      "source": "",
      "metadata": {
        "trusted": true
      },
      "outputs": [],
      "execution_count": null
    }
  ]
}