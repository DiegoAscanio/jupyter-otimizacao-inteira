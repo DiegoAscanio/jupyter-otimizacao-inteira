{
 "cells": [
  {
   "cell_type": "markdown",
   "metadata": {},
   "source": [
    "# Lista 2 de Exercícios - Otimização Inteira\n",
    "\n",
    "![](https://i.imgur.com/0E3zMeG.png)\n",
    "\n",
    "## Preâmbulo"
   ]
  },
  {
   "cell_type": "code",
   "execution_count": 3,
   "metadata": {},
   "outputs": [],
   "source": [
    "%%capture\n",
    "%load_ext autoreload\n",
    "%autoreload 2\n",
    "%pip install numpy\n",
    "%pip install scipy\n",
    "%pip install jupyter_anywidget_graphviz\n",
    "%load_ext jupyter_anywidget_graphviz\n",
    "\n",
    "from IPython.display import HTML, display, SVG, Markdown\n",
    "from jupyter_anywidget_graphviz import graphviz_headless\n",
    "from branch_and_bound import branch_and_bound, generate_dot\n",
    "import numpy as np"
   ]
  },
  {
   "cell_type": "code",
   "execution_count": 4,
   "metadata": {},
   "outputs": [
    {
     "data": {
      "application/vnd.jupyter.widget-view+json": {
       "model_id": "cd8a1a06403c4af493df511d9e0d7d69",
       "version_major": 2,
       "version_minor": 1
      },
      "text/plain": [
       "graphvizWidget(headless=True, response={'status': 'initialising'})"
      ]
     },
     "metadata": {},
     "output_type": "display_data"
    }
   ],
   "source": [
    "g = graphviz_headless()"
   ]
  },
  {
   "cell_type": "markdown",
   "metadata": {},
   "source": [
    "## Exercício 1\n",
    "\n",
    "**Modelo**\n",
    "\n",
    "\\begin{align*}\n",
    "& z = \\text{max} \\ 4 M_1 + 3 M_2 \\\\\n",
    "& \\text{subject to:} \\\\\n",
    "& M_1 + 2 M_2 \\leq 1000 \\\\\n",
    "& M_1 + M_2 \\leq 800 \\\\\n",
    "& M_1 \\leq 400 \\\\\n",
    "& M_2 \\leq 700 \\\\\n",
    "& M_1, M_2 \\in \\mathbb{Z}^{+}\n",
    "\\end{align*}"
   ]
  },
  {
   "cell_type": "code",
   "execution_count": 5,
   "metadata": {},
   "outputs": [],
   "source": [
    "%%capture\n",
    "A = np.array([\n",
    "    [1, 2],\n",
    "    [1, 1],\n",
    "    [1, 0],\n",
    "    [0, 1]\n",
    "])\n",
    "A = np.hstack((A, np.eye(4)))\n",
    "\n",
    "b = np.array([\n",
    "    1000,\n",
    "    800,\n",
    "    400,\n",
    "    700\n",
    "])\n",
    "c = np.array([4, 3, 0, 0, 0, 0])\n",
    "integrality = np.array([1, 1, 0, 0, 0, 0])  # x1 and x2 are integers\n",
    "\n",
    "z_star, x_star, bnb_tree, active_problems, iters = branch_and_bound(c, A, b, integrality = integrality)\n",
    "dot_code = generate_dot(bnb_tree)\n",
    "g.render(dot_code);"
   ]
  },
  {
   "cell_type": "code",
   "execution_count": 6,
   "metadata": {},
   "outputs": [
    {
     "name": "stdout",
     "output_type": "stream",
     "text": [
      "Iter,Active Problems\n",
      "0,[0]\n"
     ]
    },
    {
     "name": "stdout",
     "output_type": "stream",
     "text": [
      "Iter,Active Problems\n",
      "0,[0]\n"
     ]
    }
   ],
   "source": [
    "print('Iter,Active Problems')\n",
    "for i in active_problems.keys():\n",
    "    print(i, active_problems[i], sep=',')"
   ]
  },
  {
   "cell_type": "markdown",
   "metadata": {},
   "source": [
    "### Árvore B&B"
   ]
  },
  {
   "cell_type": "code",
   "execution_count": 7,
   "metadata": {},
   "outputs": [
    {
     "data": {
      "image/svg+xml": [
       "<svg xmlns=\"http://www.w3.org/2000/svg\" xmlns:xlink=\"http://www.w3.org/1999/xlink\" width=\"198pt\" height=\"83pt\" viewBox=\"0.00 0.00 198.21 83.20\">\n",
       "<g id=\"graph0\" class=\"graph\" transform=\"scale(1 1) rotate(0) translate(4 79.2)\">\n",
       "<title>G</title>\n",
       "<polygon fill=\"white\" stroke=\"none\" points=\"-4,4 -4,-79.2 194.21,-79.2 194.21,4 -4,4\"/>\n",
       "<!-- N0 -->\n",
       "<g id=\"node1\" class=\"node\">\n",
       "<title>N0</title>\n",
       "<polygon fill=\"none\" stroke=\"black\" points=\"190.21,-75.2 0,-75.2 0,0 190.21,0 190.21,-75.2\"/>\n",
       "<text text-anchor=\"middle\" x=\"95.11\" y=\"-58.6\" font-family=\"Times,serif\" font-size=\"14.00\">N0</text>\n",
       "<text text-anchor=\"middle\" x=\"95.11\" y=\"-41.8\" font-family=\"Times,serif\" font-size=\"14.00\">P: 0</text>\n",
       "<text text-anchor=\"middle\" x=\"95.11\" y=\"-25\" font-family=\"Times,serif\" font-size=\"14.00\">z_sup: 2500.0</text>\n",
       "<text text-anchor=\"middle\" x=\"95.11\" y=\"-8.2\" font-family=\"Times,serif\" font-size=\"14.00\">x: [400. 300.   0. 100.   0. 400.]</text>\n",
       "</g>\n",
       "</g>\n",
       "</svg>"
      ],
      "text/plain": [
       "<IPython.core.display.SVG object>"
      ]
     },
     "execution_count": 7,
     "metadata": {},
     "output_type": "execute_result"
    }
   ],
   "source": [
    "SVG(g.svg)"
   ]
  },
  {
   "cell_type": "markdown",
   "metadata": {},
   "source": [
    "**Interpretação**\n",
    "\n",
    "Já na primeira iteração do algoritmo branch and bound foram encontradas soluções inteiras obtidas imediatamente na relaxação linear. Portanto, nenhum branching ou bounding foi necessário aqui. O lucro máximo obtido pela fabricação de cintos é de 2500 pela fabricação de 400 cintos do tipo $M_1$ e 300 cintos do tipo $M_2$"
   ]
  },
  {
   "cell_type": "markdown",
   "metadata": {},
   "source": [
    "## Exercício 2\n",
    "![](https://i.imgur.com/wdCMfLc.png)"
   ]
  },
  {
   "cell_type": "markdown",
   "metadata": {},
   "source": [
    "**Modelo**\n",
    "\\begin{align}\n",
    "    & z = \\text{max} \\ 10 x_1 + 6 x_2 + 7 x_3 + 2 x_4 + 1 x_5 \\\\\n",
    "    & \\text{subject to:} \\\\\n",
    "    & 5 x_1 + 2 x_2 + 3 x_3 + 2 x_4 + 2 x_5 \\leq 7 \\\\\n",
    "    & x_i \\in \\{0, 1\\}, \\ \\forall i \\in \\{1, \\ldots, \\ 5\\}\n",
    "\\end{align}\n",
    "\n",
    "Como minha implementação do branch and bound usa solver de programação linear do HiGHS e ele espera problemas do tipo $z = \\text{max} \\ c^{T} x | x : Ax = b $, vou adicionar restrições do tipo $ x_i \\leq 1 $ para as 5 variáveis de decisão."
   ]
  },
  {
   "cell_type": "code",
   "execution_count": 8,
   "metadata": {},
   "outputs": [],
   "source": [
    "%%capture\n",
    "c = np.array([10, 6, 7, 2, 1, 0, 0, 0, 0, 0, 0])\n",
    "integrality = np.array([1] * 5 + [0] * 6)\n",
    "\n",
    "A = np.array([\n",
    "    [5, 2, 3, 2, 2]\n",
    "])\n",
    "A = np.vstack((A, np.eye(5)))\n",
    "A = np.hstack((A, np.eye(6)))\n",
    "\n",
    "b = np.array([7] + [1] * 5)\n",
    "\n",
    "z_star, x_star, bnb_tree, active_problems, iters = branch_and_bound(c, A, b, integrality = integrality)\n",
    "dot_code = generate_dot(bnb_tree)\n",
    "g.render(dot_code);"
   ]
  },
  {
   "cell_type": "code",
   "execution_count": 9,
   "metadata": {},
   "outputs": [
    {
     "name": "stdout",
     "output_type": "stream",
     "text": [
      "Iter,Active Problems\n",
      "0,[0]\n",
      "1,[2]\n"
     ]
    },
    {
     "name": "stdout",
     "output_type": "stream",
     "text": [
      "Iter,Active Problems\n",
      "0,[0]\n",
      "1,[2]\n"
     ]
    }
   ],
   "source": [
    "print('Iter,Active Problems')\n",
    "for i in active_problems.keys():\n",
    "    print(i, active_problems[i], sep=',')"
   ]
  },
  {
   "cell_type": "markdown",
   "metadata": {},
   "source": [
    "### Árvore B&B"
   ]
  },
  {
   "cell_type": "code",
   "execution_count": 10,
   "metadata": {},
   "outputs": [
    {
     "data": {
      "image/svg+xml": [
       "<svg xmlns=\"http://www.w3.org/2000/svg\" xmlns:xlink=\"http://www.w3.org/1999/xlink\" width=\"524pt\" height=\"211pt\" viewBox=\"0.00 0.00 523.54 211.20\">\n",
       "<g id=\"graph0\" class=\"graph\" transform=\"scale(1 1) rotate(0) translate(4 207.2)\">\n",
       "<title>G</title>\n",
       "<polygon fill=\"white\" stroke=\"none\" points=\"-4,4 -4,-207.2 519.54,-207.2 519.54,4 -4,4\"/>\n",
       "<!-- N0 -->\n",
       "<g id=\"node1\" class=\"node\">\n",
       "<title>N0</title>\n",
       "<polygon fill=\"none\" stroke=\"black\" points=\"375.13,-203.2 139.41,-203.2 139.41,-128 375.13,-128 375.13,-203.2\"/>\n",
       "<text text-anchor=\"middle\" x=\"257.27\" y=\"-186.6\" font-family=\"Times,serif\" font-size=\"14.00\">N0</text>\n",
       "<text text-anchor=\"middle\" x=\"257.27\" y=\"-169.8\" font-family=\"Times,serif\" font-size=\"14.00\">P: 0</text>\n",
       "<text text-anchor=\"middle\" x=\"257.27\" y=\"-153\" font-family=\"Times,serif\" font-size=\"14.00\">z_sup: 17.0</text>\n",
       "<text text-anchor=\"middle\" x=\"257.27\" y=\"-136.2\" font-family=\"Times,serif\" font-size=\"14.00\">x: [0.4 1.  1.  0.  0.  0.  0.6 0.  0.  1.  1. ]</text>\n",
       "</g>\n",
       "<!-- N1 -->\n",
       "<g id=\"node2\" class=\"node\">\n",
       "<title>N1</title>\n",
       "<polygon fill=\"none\" stroke=\"black\" points=\"248.54,-75.2 0,-75.2 0,0 248.54,0 248.54,-75.2\"/>\n",
       "<text text-anchor=\"middle\" x=\"124.27\" y=\"-58.6\" font-family=\"Times,serif\" font-size=\"14.00\">N1</text>\n",
       "<text text-anchor=\"middle\" x=\"124.27\" y=\"-41.8\" font-family=\"Times,serif\" font-size=\"14.00\">P: 1</text>\n",
       "<text text-anchor=\"middle\" x=\"124.27\" y=\"-25\" font-family=\"Times,serif\" font-size=\"14.00\">z_sup: 15.0</text>\n",
       "<text text-anchor=\"middle\" x=\"124.27\" y=\"-8.2\" font-family=\"Times,serif\" font-size=\"14.00\">x: [-0.  1.  1.  1. -0.  0.  1.  0.  0.  0.  1.  0.]</text>\n",
       "</g>\n",
       "<!-- N0&#45;&gt;N1 -->\n",
       "<g id=\"edge1\" class=\"edge\">\n",
       "<title>N0-&gt;N1</title>\n",
       "<path fill=\"none\" stroke=\"black\" d=\"M218.44,-127.82C203.82,-113.97 187.03,-98.06 171.71,-83.54\"/>\n",
       "<polygon fill=\"black\" stroke=\"black\" points=\"174.14,-81.02 164.47,-76.69 169.33,-86.11 174.14,-81.02\"/>\n",
       "<text text-anchor=\"middle\" x=\"229.38\" y=\"-97.4\" font-family=\"Times,serif\" font-size=\"14.00\">x_0 &lt;= 0.0</text>\n",
       "</g>\n",
       "<!-- N2 -->\n",
       "<g id=\"node3\" class=\"node\">\n",
       "<title>N2</title>\n",
       "<polygon fill=\"none\" stroke=\"black\" points=\"515.54,-75.2 267,-75.2 267,0 515.54,0 515.54,-75.2\"/>\n",
       "<text text-anchor=\"middle\" x=\"391.27\" y=\"-58.6\" font-family=\"Times,serif\" font-size=\"14.00\">N2</text>\n",
       "<text text-anchor=\"middle\" x=\"391.27\" y=\"-41.8\" font-family=\"Times,serif\" font-size=\"14.00\">P: 2</text>\n",
       "<text text-anchor=\"middle\" x=\"391.27\" y=\"-25\" font-family=\"Times,serif\" font-size=\"14.00\">z_sup: 16.0</text>\n",
       "<text text-anchor=\"middle\" x=\"391.27\" y=\"-8.2\" font-family=\"Times,serif\" font-size=\"14.00\">x: [ 1.  1. -0.  0.  0.  0. -0.  0.  1.  1.  1.  0.]</text>\n",
       "</g>\n",
       "<!-- N0&#45;&gt;N2 -->\n",
       "<g id=\"edge2\" class=\"edge\">\n",
       "<title>N0-&gt;N2</title>\n",
       "<path fill=\"none\" stroke=\"black\" d=\"M296.39,-127.82C311.25,-113.84 328.35,-97.76 343.9,-83.14\"/>\n",
       "<polygon fill=\"black\" stroke=\"black\" points=\"345.88,-86.08 350.77,-76.68 341.08,-80.98 345.88,-86.08\"/>\n",
       "<text text-anchor=\"middle\" x=\"362.94\" y=\"-97.4\" font-family=\"Times,serif\" font-size=\"14.00\">x_0 &gt;= 1.0</text>\n",
       "</g>\n",
       "</g>\n",
       "</svg>"
      ],
      "text/plain": [
       "<IPython.core.display.SVG object>"
      ]
     },
     "execution_count": 10,
     "metadata": {},
     "output_type": "execute_result"
    }
   ],
   "source": [
    "SVG(g.svg)"
   ]
  },
  {
   "cell_type": "markdown",
   "metadata": {},
   "source": [
    "**Interpretação**\n",
    "\n",
    "Existe no nó raiz a resolução deste problema da mochila linearmente relaxado onde ele recomenda o fracionamento do item 1 e a inserção dos itens 2 e 3. Ele faz o branching na única variável possível, na primeira e cria dois subproblemas, que herdam a título de referência, o limitante superior do problema raiz (a ser atualizado posteriormente).\n",
    "\n",
    "Como visto na saída do algoritmo branch and bround, depois da resolução de $P_0$, estão ativos $P_1$ e $P_2$, ambos herdando o limitante superior de $P_0$, o que faz com que $P_1$ seja escolhido primeiro para resolução.\n",
    "\n",
    "$P_1$ é escolhido e resolvido, é encontrada uma solução inteira factível --- levar os itens 2, 3 e 4 --- o valor de seu limitante superior é atualizado e uma poda por otimalidade é efetuada, já que uma solução inteira factível incumbente foi encontrada.\n",
    "\n",
    "$P_1$ é removido da lista de ativos, por ter sido resolvido e logo na sequência o problema $P_2$ é resolvido, onde também é encontrada uma solução inteira factível e melhor do que a incumbente até o momento. Uma poda por otimalidade é realizada, esta é a solução ótima do problema e a execução do B&B se encerra."
   ]
  },
  {
   "cell_type": "code",
   "execution_count": 11,
   "metadata": {},
   "outputs": [
    {
     "data": {
      "text/markdown": [
       "\\begin{align}\n",
       "    x^{*} &= [1, 1, 0, 0, 0, 0, 0, 0, 1, 0, 1, 0] \\\\\n",
       "    Z^{*} &= 16.0\n",
       "\\end{align}"
      ],
      "text/plain": [
       "<IPython.core.display.Markdown object>"
      ]
     },
     "execution_count": 11,
     "metadata": {},
     "output_type": "execute_result"
    }
   ],
   "source": [
    "resultado = f'''\\\\begin{{align}}\n",
    "    x^{{*}} &= [{', '.join([f'{int(x):d}' for x in x_star])}] \\\\\\\\\n",
    "    Z^{{*}} &= {z_star}\n",
    "\\\\end{{align}}'''\n",
    "Markdown(resultado)\n"
   ]
  },
  {
   "cell_type": "markdown",
   "metadata": {},
   "source": [
    "### Exercício 3\n",
    "\n",
    "Resolva os problemas a seguir usando método _branch and bound_\n",
    "\n",
    "![](https://i.imgur.com/Z7Aq2qN.png)\n",
    "\n",
    "**letra a)**"
   ]
  },
  {
   "cell_type": "code",
   "execution_count": 12,
   "metadata": {},
   "outputs": [],
   "source": [
    "%%capture\n",
    "c = np.array(\n",
    "    [5, 2, 0, 0]\n",
    ")\n",
    "A = np.array([\n",
    "    [3, 1, 1, 0],\n",
    "    [1, 1, 0, 1]\n",
    "])\n",
    "b = np.array([\n",
    "    12,\n",
    "    5\n",
    "])\n",
    "integrality = np.array([1] * 2 + [0] * 2)\n",
    "z_star, x_star, bnb_tree, active_problems, iters = branch_and_bound(c, A, b, integrality = integrality)\n",
    "dot_code = generate_dot(bnb_tree)\n",
    "g.render(dot_code);"
   ]
  },
  {
   "cell_type": "code",
   "execution_count": 13,
   "metadata": {},
   "outputs": [
    {
     "name": "stdout",
     "output_type": "stream",
     "text": [
      "Iter,Active Problems\n",
      "0,[0]\n",
      "1,[2]\n"
     ]
    },
    {
     "name": "stdout",
     "output_type": "stream",
     "text": [
      "Iter,Active Problems\n",
      "0,[0]\n",
      "1,[2]\n"
     ]
    }
   ],
   "source": [
    "print('Iter,Active Problems')\n",
    "for i in active_problems.keys():\n",
    "    print(i, active_problems[i], sep=',')"
   ]
  },
  {
   "cell_type": "markdown",
   "metadata": {},
   "source": [
    "### Árvore B&B"
   ]
  },
  {
   "cell_type": "code",
   "execution_count": 14,
   "metadata": {},
   "outputs": [
    {
     "data": {
      "image/svg+xml": [
       "<svg xmlns=\"http://www.w3.org/2000/svg\" xmlns:xlink=\"http://www.w3.org/1999/xlink\" width=\"258pt\" height=\"211pt\" viewBox=\"0.00 0.00 257.54 211.20\">\n",
       "<g id=\"graph0\" class=\"graph\" transform=\"scale(1 1) rotate(0) translate(4 207.2)\">\n",
       "<title>G</title>\n",
       "<polygon fill=\"white\" stroke=\"none\" points=\"-4,4 -4,-207.2 253.54,-207.2 253.54,4 -4,4\"/>\n",
       "<!-- N0 -->\n",
       "<g id=\"node1\" class=\"node\">\n",
       "<title>N0</title>\n",
       "<polygon fill=\"none\" stroke=\"black\" points=\"176.71,-203.2 63.5,-203.2 63.5,-128 176.71,-128 176.71,-203.2\"/>\n",
       "<text text-anchor=\"middle\" x=\"120.11\" y=\"-186.6\" font-family=\"Times,serif\" font-size=\"14.00\">N0</text>\n",
       "<text text-anchor=\"middle\" x=\"120.11\" y=\"-169.8\" font-family=\"Times,serif\" font-size=\"14.00\">P: 0</text>\n",
       "<text text-anchor=\"middle\" x=\"120.11\" y=\"-153\" font-family=\"Times,serif\" font-size=\"14.00\">z_sup: 20.5</text>\n",
       "<text text-anchor=\"middle\" x=\"120.11\" y=\"-136.2\" font-family=\"Times,serif\" font-size=\"14.00\">x: [3.5 1.5 0.  0. ]</text>\n",
       "</g>\n",
       "<!-- N1 -->\n",
       "<g id=\"node2\" class=\"node\">\n",
       "<title>N1</title>\n",
       "<polygon fill=\"none\" stroke=\"black\" points=\"106.21,-75.2 0,-75.2 0,0 106.21,0 106.21,-75.2\"/>\n",
       "<text text-anchor=\"middle\" x=\"53.11\" y=\"-58.6\" font-family=\"Times,serif\" font-size=\"14.00\">N1</text>\n",
       "<text text-anchor=\"middle\" x=\"53.11\" y=\"-41.8\" font-family=\"Times,serif\" font-size=\"14.00\">P: 1</text>\n",
       "<text text-anchor=\"middle\" x=\"53.11\" y=\"-25\" font-family=\"Times,serif\" font-size=\"14.00\">z_sup: 19.0</text>\n",
       "<text text-anchor=\"middle\" x=\"53.11\" y=\"-8.2\" font-family=\"Times,serif\" font-size=\"14.00\">x: [3. 2. 1. 0. 0.]</text>\n",
       "</g>\n",
       "<!-- N0&#45;&gt;N1 -->\n",
       "<g id=\"edge1\" class=\"edge\">\n",
       "<title>N0-&gt;N1</title>\n",
       "<path fill=\"none\" stroke=\"black\" d=\"M100.55,-127.82C93.52,-114.61 85.5,-99.53 78.08,-85.57\"/>\n",
       "<polygon fill=\"black\" stroke=\"black\" points=\"81.3,-84.17 73.52,-76.98 75.12,-87.46 81.3,-84.17\"/>\n",
       "<text text-anchor=\"middle\" x=\"121.26\" y=\"-97.4\" font-family=\"Times,serif\" font-size=\"14.00\">x_0 &lt;= 3.0</text>\n",
       "</g>\n",
       "<!-- N2 -->\n",
       "<g id=\"node3\" class=\"node\">\n",
       "<title>N2</title>\n",
       "<polygon fill=\"none\" stroke=\"black\" points=\"249.54,-75.2 124.67,-75.2 124.67,0 249.54,0 249.54,-75.2\"/>\n",
       "<text text-anchor=\"middle\" x=\"187.11\" y=\"-58.6\" font-family=\"Times,serif\" font-size=\"14.00\">N2</text>\n",
       "<text text-anchor=\"middle\" x=\"187.11\" y=\"-41.8\" font-family=\"Times,serif\" font-size=\"14.00\">P: 2</text>\n",
       "<text text-anchor=\"middle\" x=\"187.11\" y=\"-25\" font-family=\"Times,serif\" font-size=\"14.00\">z_sup: 20.0</text>\n",
       "<text text-anchor=\"middle\" x=\"187.11\" y=\"-8.2\" font-family=\"Times,serif\" font-size=\"14.00\">x: [ 4. -0.  0.  1.  0.]</text>\n",
       "</g>\n",
       "<!-- N0&#45;&gt;N2 -->\n",
       "<g id=\"edge2\" class=\"edge\">\n",
       "<title>N0-&gt;N2</title>\n",
       "<path fill=\"none\" stroke=\"black\" d=\"M145.77,-127.53C149.41,-121.76 152.97,-115.79 156.11,-110 160.22,-102.4 164.22,-94.14 167.89,-86.02\"/>\n",
       "<polygon fill=\"black\" stroke=\"black\" points=\"171.09,-87.45 171.92,-76.89 164.68,-84.63 171.09,-87.45\"/>\n",
       "<text text-anchor=\"middle\" x=\"194.46\" y=\"-97.4\" font-family=\"Times,serif\" font-size=\"14.00\">x_0 &gt;= 4.0</text>\n",
       "</g>\n",
       "</g>\n",
       "</svg>"
      ],
      "text/plain": [
       "<IPython.core.display.SVG object>"
      ]
     },
     "execution_count": 14,
     "metadata": {},
     "output_type": "execute_result"
    }
   ],
   "source": [
    "SVG(g.svg)"
   ]
  },
  {
   "cell_type": "markdown",
   "metadata": {},
   "source": [
    "### Interpretação\n",
    "\n",
    "---\n",
    "\n",
    "### 1. Nó raiz $P_0$ (N0)\n",
    "\n",
    "| dado | valor |\n",
    "|------|-------|\n",
    "| solução LP | $x = (3.5,\\;1.5)$ |\n",
    "| limite superior $z_{\\text{sup}}$ | **20.5** |\n",
    "| variável fracionária | $x_1$ |\n",
    "\n",
    "O algoritmo ramifica em $x_1$ (única variável não inteira).\n",
    "\n",
    "---\n",
    "\n",
    "### 2. Ramificação\n",
    "\n",
    "| Sub-problema | Restrição extra | Situação inicial |\n",
    "|--------------|-----------------|------------------|\n",
    "| $P_1$ (N1) | $x_1 \\le 3$ | herda $z_{\\text{sup}} = 20.5$ |\n",
    "| $P_2$ (N2) | $x_1 \\ge 4$ | herda $z_{\\text{sup}} = 20.5$ |\n",
    "\n",
    "---\n",
    "\n",
    "### 3. Resolução de $P_1$ (N1)\n",
    "\n",
    "| resultado | valor |\n",
    "|-----------|-------|\n",
    "| solução LP | $x = (3,\\;2)$  (inteira) |\n",
    "| $z_{\\text{sup}}$ | **19** |\n",
    "| $z$ (incumbente) | **19** |\n",
    "\n",
    "Encontrou-se uma solução inteira factível; atualiza-se o incumbente para 19 e poda-se N1 por **otimalidade** ($z_{\\text{sup}} = z$).\n",
    "\n",
    "---\n",
    "\n",
    "### 4. Resolução de $P_2$ (N2)\n",
    "\n",
    "| resultado | valor |\n",
    "|-----------|-------|\n",
    "| solução LP | $x = (4,\\;0)$ (inteira) |\n",
    "| $z_{\\text{sup}}$ | **20** |\n",
    "| $z$ (novo incumbente) | **20** |\n",
    "\n",
    "Melhora-se o incumbente para 20; como $z_{\\text{sup}} = z$, poda-se N2 por **otimalidade**. Não restam nós ativos.\n",
    "\n",
    "---\n",
    "\n",
    "### 5. Encerramento\n",
    "\n",
    "* **Solução ótima**: $x_1^{*} = 4,\\; x_2^{*} = 0$.  \n",
    "* **Valor ótimo**: $z^{*} = 20$.  \n",
    "* Toda a árvore se encerra na profundidade 1, pois o primeiro *split* já gerou soluções inteiras em ambos os ramos.\n"
   ]
  },
  {
   "cell_type": "markdown",
   "metadata": {},
   "source": [
    "![](https://i.imgur.com/Z7Aq2qN.png)\n",
    "\n",
    "**letra b)**"
   ]
  },
  {
   "cell_type": "code",
   "execution_count": 15,
   "metadata": {},
   "outputs": [],
   "source": [
    "%%capture\n",
    "c = np.array(\n",
    "    [2, 3, 0, 0, 0]\n",
    ")\n",
    "A = np.array([\n",
    "    [-1, 2, 1, 0, 0],\n",
    "    [ 1, 1, 0, 1, 0],\n",
    "    [ 1, 3, 0, 0, 1]\n",
    "])\n",
    "b = np.array([\n",
    "    4,\n",
    "    6,\n",
    "    9\n",
    "])\n",
    "integrality = np.array([1] * 2 + [0] * 3)\n",
    "z_star, x_star, bnb_tree, active_problems, iters = branch_and_bound(c, A, b, integrality = integrality)\n",
    "dot_code = generate_dot(bnb_tree)\n",
    "g.render(dot_code);"
   ]
  },
  {
   "cell_type": "code",
   "execution_count": 16,
   "metadata": {},
   "outputs": [
    {
     "name": "stdout",
     "output_type": "stream",
     "text": [
      "Iter,Active Problems\n",
      "0,[0]\n",
      "1,[1, 2]\n",
      "2,[2, 3, 4]\n"
     ]
    },
    {
     "name": "stdout",
     "output_type": "stream",
     "text": [
      "Iter,Active Problems\n",
      "0,[0]\n",
      "1,[1, 2]\n",
      "2,[2, 3, 4]\n"
     ]
    }
   ],
   "source": [
    "print('Iter,Active Problems')\n",
    "for i in active_problems.keys():\n",
    "    print(i, active_problems[i], sep=',')"
   ]
  },
  {
   "cell_type": "markdown",
   "metadata": {},
   "source": [
    "### Árvore B&B"
   ]
  },
  {
   "cell_type": "code",
   "execution_count": 17,
   "metadata": {},
   "outputs": [
    {
     "data": {
      "image/svg+xml": [
       "<svg xmlns=\"http://www.w3.org/2000/svg\" xmlns:xlink=\"http://www.w3.org/1999/xlink\" width=\"330pt\" height=\"339pt\" viewBox=\"0.00 0.00 329.71 339.20\">\n",
       "<g id=\"graph0\" class=\"graph\" transform=\"scale(1 1) rotate(0) translate(4 335.2)\">\n",
       "<title>G</title>\n",
       "<polygon fill=\"white\" stroke=\"none\" points=\"-4,4 -4,-335.2 325.71,-335.2 325.71,4 -4,4\"/>\n",
       "<!-- N0 -->\n",
       "<g id=\"node1\" class=\"node\">\n",
       "<title>N0</title>\n",
       "<polygon fill=\"none\" stroke=\"black\" points=\"243.71,-331.2 109.5,-331.2 109.5,-256 243.71,-256 243.71,-331.2\"/>\n",
       "<text text-anchor=\"middle\" x=\"176.61\" y=\"-314.6\" font-family=\"Times,serif\" font-size=\"14.00\">N0</text>\n",
       "<text text-anchor=\"middle\" x=\"176.61\" y=\"-297.8\" font-family=\"Times,serif\" font-size=\"14.00\">P: 0</text>\n",
       "<text text-anchor=\"middle\" x=\"176.61\" y=\"-281\" font-family=\"Times,serif\" font-size=\"14.00\">z_sup: 13.5</text>\n",
       "<text text-anchor=\"middle\" x=\"176.61\" y=\"-264.2\" font-family=\"Times,serif\" font-size=\"14.00\">x: [4.5 1.5 5.5 0.  0. ]</text>\n",
       "</g>\n",
       "<!-- N1 -->\n",
       "<g id=\"node2\" class=\"node\">\n",
       "<title>N1</title>\n",
       "<polygon fill=\"none\" stroke=\"black\" points=\"183.21,-203.2 0,-203.2 0,-128 183.21,-128 183.21,-203.2\"/>\n",
       "<text text-anchor=\"middle\" x=\"91.61\" y=\"-186.6\" font-family=\"Times,serif\" font-size=\"14.00\">N1</text>\n",
       "<text text-anchor=\"middle\" x=\"91.61\" y=\"-169.8\" font-family=\"Times,serif\" font-size=\"14.00\">P: 1</text>\n",
       "<text text-anchor=\"middle\" x=\"91.61\" y=\"-153\" font-family=\"Times,serif\" font-size=\"14.00\">z_sup: 13.0</text>\n",
       "<text text-anchor=\"middle\" x=\"91.61\" y=\"-136.2\" font-family=\"Times,serif\" font-size=\"14.00\">x: [4.   1.67 4.67 0.33 0.   0.  ]</text>\n",
       "</g>\n",
       "<!-- N0&#45;&gt;N1 -->\n",
       "<g id=\"edge1\" class=\"edge\">\n",
       "<title>N0-&gt;N1</title>\n",
       "<path fill=\"none\" stroke=\"black\" d=\"M151.79,-255.82C142.79,-242.48 132.51,-227.23 123.02,-213.16\"/>\n",
       "<polygon fill=\"black\" stroke=\"black\" points=\"125.94,-211.23 117.45,-204.9 120.14,-215.15 125.94,-211.23\"/>\n",
       "<text text-anchor=\"middle\" x=\"169.84\" y=\"-225.4\" font-family=\"Times,serif\" font-size=\"14.00\">x_0 &lt;= 4.0</text>\n",
       "</g>\n",
       "<!-- N2 -->\n",
       "<g id=\"node5\" class=\"node\">\n",
       "<title>N2</title>\n",
       "<polygon fill=\"none\" stroke=\"black\" points=\"321.71,-203.2 201.5,-203.2 201.5,-128 321.71,-128 321.71,-203.2\"/>\n",
       "<text text-anchor=\"middle\" x=\"261.61\" y=\"-186.6\" font-family=\"Times,serif\" font-size=\"14.00\">N2</text>\n",
       "<text text-anchor=\"middle\" x=\"261.61\" y=\"-169.8\" font-family=\"Times,serif\" font-size=\"14.00\">P: 2</text>\n",
       "<text text-anchor=\"middle\" x=\"261.61\" y=\"-153\" font-family=\"Times,serif\" font-size=\"14.00\">z_sup: 13.0</text>\n",
       "<text text-anchor=\"middle\" x=\"261.61\" y=\"-136.2\" font-family=\"Times,serif\" font-size=\"14.00\">x: [5. 1. 7. 0. 1. 0.]</text>\n",
       "</g>\n",
       "<!-- N0&#45;&gt;N2 -->\n",
       "<g id=\"edge4\" class=\"edge\">\n",
       "<title>N0-&gt;N2</title>\n",
       "<path fill=\"none\" stroke=\"black\" d=\"M201.42,-255.82C210.42,-242.48 220.7,-227.23 230.2,-213.16\"/>\n",
       "<polygon fill=\"black\" stroke=\"black\" points=\"233.08,-215.15 235.77,-204.9 227.27,-211.23 233.08,-215.15\"/>\n",
       "<text text-anchor=\"middle\" x=\"254.84\" y=\"-225.4\" font-family=\"Times,serif\" font-size=\"14.00\">x_0 &gt;= 5.0</text>\n",
       "</g>\n",
       "<!-- N3 -->\n",
       "<g id=\"node3\" class=\"node\">\n",
       "<title>N3</title>\n",
       "<polygon fill=\"none\" stroke=\"black\" points=\"82.88,-75.2 2.33,-75.2 2.33,0 82.88,0 82.88,-75.2\"/>\n",
       "<text text-anchor=\"middle\" x=\"42.61\" y=\"-58.6\" font-family=\"Times,serif\" font-size=\"14.00\">N3</text>\n",
       "<text text-anchor=\"middle\" x=\"42.61\" y=\"-41.8\" font-family=\"Times,serif\" font-size=\"14.00\">P: 3</text>\n",
       "<text text-anchor=\"middle\" x=\"42.61\" y=\"-25\" font-family=\"Times,serif\" font-size=\"14.00\">z_sup: 13.0</text>\n",
       "<text text-anchor=\"middle\" x=\"42.61\" y=\"-8.2\" font-family=\"Times,serif\" font-size=\"14.00\">x: N/A</text>\n",
       "</g>\n",
       "<!-- N1&#45;&gt;N3 -->\n",
       "<g id=\"edge2\" class=\"edge\">\n",
       "<title>N1-&gt;N3</title>\n",
       "<path fill=\"none\" stroke=\"black\" d=\"M66.81,-127.56C63.63,-121.84 60.68,-115.87 58.32,-110 55.36,-102.64 52.91,-94.61 50.89,-86.68\"/>\n",
       "<polygon fill=\"black\" stroke=\"black\" points=\"54.34,-86.05 48.67,-77.1 47.52,-87.63 54.34,-86.05\"/>\n",
       "<text text-anchor=\"middle\" x=\"88.96\" y=\"-97.4\" font-family=\"Times,serif\" font-size=\"14.00\">x_1 &lt;= 1.0</text>\n",
       "</g>\n",
       "<!-- N4 -->\n",
       "<g id=\"node4\" class=\"node\">\n",
       "<title>N4</title>\n",
       "<polygon fill=\"none\" stroke=\"black\" points=\"181.88,-75.2 101.33,-75.2 101.33,0 181.88,0 181.88,-75.2\"/>\n",
       "<text text-anchor=\"middle\" x=\"141.61\" y=\"-58.6\" font-family=\"Times,serif\" font-size=\"14.00\">N4</text>\n",
       "<text text-anchor=\"middle\" x=\"141.61\" y=\"-41.8\" font-family=\"Times,serif\" font-size=\"14.00\">P: 4</text>\n",
       "<text text-anchor=\"middle\" x=\"141.61\" y=\"-25\" font-family=\"Times,serif\" font-size=\"14.00\">z_sup: 13.0</text>\n",
       "<text text-anchor=\"middle\" x=\"141.61\" y=\"-8.2\" font-family=\"Times,serif\" font-size=\"14.00\">x: N/A</text>\n",
       "</g>\n",
       "<!-- N1&#45;&gt;N4 -->\n",
       "<g id=\"edge3\" class=\"edge\">\n",
       "<title>N1-&gt;N4</title>\n",
       "<path fill=\"none\" stroke=\"black\" d=\"M111.62,-127.71C114.47,-121.86 117.24,-115.82 119.61,-110 122.7,-102.4 125.61,-94.2 128.23,-86.15\"/>\n",
       "<polygon fill=\"black\" stroke=\"black\" points=\"131.51,-87.39 131.17,-76.8 124.83,-85.29 131.51,-87.39\"/>\n",
       "<text text-anchor=\"middle\" x=\"156\" y=\"-97.4\" font-family=\"Times,serif\" font-size=\"14.00\">x_1 &gt;= 2.0</text>\n",
       "</g>\n",
       "</g>\n",
       "</svg>"
      ],
      "text/plain": [
       "<IPython.core.display.SVG object>"
      ]
     },
     "execution_count": 17,
     "metadata": {},
     "output_type": "execute_result"
    }
   ],
   "source": [
    "SVG(g.svg)"
   ]
  },
  {
   "cell_type": "markdown",
   "metadata": {},
   "source": [
    "**Interpretação**\n",
    "\n",
    "O problema raiz é resolvido, todas as partes fracionárias têm a mesma distância para serem inteiros, portanto, o algoritmo branch and bound seleciona a primeira variável para ramificar -- $x_0$.\n",
    "\n",
    "O limite superior do probema $P_0$ é 13.5, ele é ramificado em $P_1$ e $P_2$ e estes o recebem como potencial limite superior, até 13.5.\n",
    "\n",
    "O problema $P_1$ é resolvido e logo em sequência seu limite superior é atualizado. Mais dois problemas são criados, como é possível observar na saída do branch and bound, 3 e 4 e eles são enfileirados para resolução, herdando 13 de $P_1$ como limites superiores máximos.\n",
    "\n",
    "Em sequência, pelo método da seleção do nó mais promissor, $P_2$ que ainda não foi resolvido, pode alcançar até 13.5, portanto ele é resolvido e obtém uma solução incumbente factível $x^{*} = [5, 1]$ que produz um $z^{*} = 13$.\n",
    "\n",
    "Como os problemas restantes $P_3$, $P_4$ não podem ser melhores que a solução incumbente, logo eles são podados --- por poda de limitante --- da árvore de branch and bound e tendo sido encontrada a melhor solução incumbente factível para o problema e sendo $P_2$ também podado da árvore, por otimalidade, não existe mais nenhum subproblema a ser resolvido e uma solução inteira factível e ótima é encontrada!"
   ]
  },
  {
   "cell_type": "code",
   "execution_count": 18,
   "metadata": {},
   "outputs": [
    {
     "data": {
      "text/markdown": [
       "\\begin{align}\n",
       "    x^{*} &= [5, 1, 7, 0, 1, 0] \\\\\n",
       "    Z^{*} &= 13.0\n",
       "\\end{align}"
      ],
      "text/plain": [
       "<IPython.core.display.Markdown object>"
      ]
     },
     "execution_count": 18,
     "metadata": {},
     "output_type": "execute_result"
    }
   ],
   "source": [
    "resultado = f'''\\\\begin{{align}}\n",
    "    x^{{*}} &= [{', '.join([f'{int(x):d}' for x in x_star])}] \\\\\\\\\n",
    "    Z^{{*}} &= {z_star}\n",
    "\\\\end{{align}}'''\n",
    "Markdown(resultado)\n"
   ]
  },
  {
   "cell_type": "markdown",
   "metadata": {},
   "source": [
    "### Exercício 4\n",
    "\n",
    "![](https://i.imgur.com/RGg8hGz.png)\n",
    "\n",
    "**letra a)**\n",
    "\n",
    "Na minha implementação do branch and bound, na estratégia de busca em profundidade que eu implementei, é só eu resolver o último problema que foi inserido na árvore e nunca haverá empate, pois, ele, é garantidamente o que está no nível mais profundo no momento atual de resolução / construção da árvore branch and bround. E será possível observar uma tendência da árvore se aprofundar à direita, devido ao fato de que o problema à direita costuma ser o último a ser adicionado, mas, nessa estratégia de busca em profundidade, o primeiro a ser resolvido — LIFO (Pilha):\n",
    "\n",
    "```python\n",
    "def select_current_problem(L, strategy = 'best'):\n",
    "    \"\"\"\n",
    "    Select the current problem to solve based on the chosen strategy.\n",
    "    Arguments:\n",
    "    L -- list of problems to solve\n",
    "    strategy -- strategy for selecting the current problem ('dfs', 'bfs', 'best')\n",
    "    Returns:\n",
    "    The selected problem from the list L.\n",
    "    \"\"\"\n",
    "    if strategy == 'dfs':\n",
    "        return L.pop()\n",
    "    elif strategy == 'bfs':\n",
    "        return L.pop(0)\n",
    "    elif strategy == 'best':\n",
    "        # Select the problem with the best upper bound\n",
    "        # for maximization problems as we're considering\n",
    "        best_index = np.argmax([p['z_sup'] for p in L])\n",
    "        return L.pop(best_index)\n",
    "    else:\n",
    "        raise ValueError(\"Unknown strategy: {}\".format(strategy))\n",
    "```"
   ]
  },
  {
   "cell_type": "code",
   "execution_count": 19,
   "metadata": {},
   "outputs": [],
   "source": [
    "%%capture\n",
    "c = np.array([6, 4, 5, 3, 0, 0, 0, 0, 0])\n",
    "b = np.array([\n",
    "    9,\n",
    "    1,\n",
    "    1,\n",
    "    1,\n",
    "    1\n",
    "])\n",
    "A = np.array([6, 4, 5, 3])\n",
    "A = np.vstack((A, np.eye(4)))\n",
    "A = np.hstack((A, np.eye(5)))\n",
    "integrality = np.array([1] * 4 + [0] * 5)\n",
    "z_star, x_star, bnb_tree, active_problems, iters = branch_and_bound(c, A, b, integrality = integrality, problem_strategy = 'dfs')\n",
    "dot_code = generate_dot(bnb_tree)\n",
    "g.render(dot_code);"
   ]
  },
  {
   "cell_type": "code",
   "execution_count": 20,
   "metadata": {},
   "outputs": [
    {
     "name": "stdout",
     "output_type": "stream",
     "text": [
      "Iter,Active Problems\n",
      "0,[0]\n",
      "1,[1, 2]\n",
      "2,[1, 5]\n",
      "3,[1, 11, 12]\n"
     ]
    },
    {
     "name": "stdout",
     "output_type": "stream",
     "text": [
      "Iter,Active Problems\n",
      "0,[0]\n",
      "1,[1, 2]\n",
      "2,[1, 5]\n",
      "3,[1, 11, 12]\n"
     ]
    }
   ],
   "source": [
    "print('Iter,Active Problems')\n",
    "for i in active_problems.keys():\n",
    "    print(i, active_problems[i], sep=',')"
   ]
  },
  {
   "cell_type": "markdown",
   "metadata": {},
   "source": [
    "### Árvore B&B"
   ]
  },
  {
   "cell_type": "code",
   "execution_count": 21,
   "metadata": {},
   "outputs": [
    {
     "data": {
      "image/svg+xml": [
       "<svg xmlns=\"http://www.w3.org/2000/svg\" xmlns:xlink=\"http://www.w3.org/1999/xlink\" width=\"437pt\" height=\"467pt\" viewBox=\"0.00 0.00 436.79 467.20\">\n",
       "<g id=\"graph0\" class=\"graph\" transform=\"scale(1 1) rotate(0) translate(4 463.2)\">\n",
       "<title>G</title>\n",
       "<polygon fill=\"white\" stroke=\"none\" points=\"-4,4 -4,-463.2 432.79,-463.2 432.79,4 -4,4\"/>\n",
       "<!-- N0 -->\n",
       "<g id=\"node1\" class=\"node\">\n",
       "<title>N0</title>\n",
       "<polygon fill=\"none\" stroke=\"black\" points=\"239.21,-459.2 0,-459.2 0,-384 239.21,-384 239.21,-459.2\"/>\n",
       "<text text-anchor=\"middle\" x=\"119.61\" y=\"-442.6\" font-family=\"Times,serif\" font-size=\"14.00\">N0</text>\n",
       "<text text-anchor=\"middle\" x=\"119.61\" y=\"-425.8\" font-family=\"Times,serif\" font-size=\"14.00\">P: 0</text>\n",
       "<text text-anchor=\"middle\" x=\"119.61\" y=\"-409\" font-family=\"Times,serif\" font-size=\"14.00\">z_sup: 9.0</text>\n",
       "<text text-anchor=\"middle\" x=\"119.61\" y=\"-392.2\" font-family=\"Times,serif\" font-size=\"14.00\">x: [0.   0.25 1.   1.   0.   1.   0.75 0.   0.  ]</text>\n",
       "</g>\n",
       "<!-- N1 -->\n",
       "<g id=\"node2\" class=\"node\">\n",
       "<title>N1</title>\n",
       "<polygon fill=\"none\" stroke=\"black\" points=\"114.38,-331.2 40.83,-331.2 40.83,-256 114.38,-256 114.38,-331.2\"/>\n",
       "<text text-anchor=\"middle\" x=\"77.61\" y=\"-314.6\" font-family=\"Times,serif\" font-size=\"14.00\">N1</text>\n",
       "<text text-anchor=\"middle\" x=\"77.61\" y=\"-297.8\" font-family=\"Times,serif\" font-size=\"14.00\">P: 1</text>\n",
       "<text text-anchor=\"middle\" x=\"77.61\" y=\"-281\" font-family=\"Times,serif\" font-size=\"14.00\">z_sup: 9.0</text>\n",
       "<text text-anchor=\"middle\" x=\"77.61\" y=\"-264.2\" font-family=\"Times,serif\" font-size=\"14.00\">x: N/A</text>\n",
       "</g>\n",
       "<!-- N0&#45;&gt;N1 -->\n",
       "<g id=\"edge1\" class=\"edge\">\n",
       "<title>N0-&gt;N1</title>\n",
       "<path fill=\"none\" stroke=\"black\" d=\"M107.35,-383.82C103.03,-370.86 98.11,-356.11 93.53,-342.38\"/>\n",
       "<polygon fill=\"black\" stroke=\"black\" points=\"96.92,-341.46 90.43,-333.08 90.28,-343.68 96.92,-341.46\"/>\n",
       "<text text-anchor=\"middle\" x=\"131.77\" y=\"-353.4\" font-family=\"Times,serif\" font-size=\"14.00\">x_1 &lt;= 0.0</text>\n",
       "</g>\n",
       "<!-- N2 -->\n",
       "<g id=\"node3\" class=\"node\">\n",
       "<title>N2</title>\n",
       "<polygon fill=\"none\" stroke=\"black\" points=\"428.79,-331.2 132.42,-331.2 132.42,-256 428.79,-256 428.79,-331.2\"/>\n",
       "<text text-anchor=\"middle\" x=\"280.61\" y=\"-314.6\" font-family=\"Times,serif\" font-size=\"14.00\">N2</text>\n",
       "<text text-anchor=\"middle\" x=\"280.61\" y=\"-297.8\" font-family=\"Times,serif\" font-size=\"14.00\">P: 2</text>\n",
       "<text text-anchor=\"middle\" x=\"280.61\" y=\"-281\" font-family=\"Times,serif\" font-size=\"14.00\">z_sup: 9.0</text>\n",
       "<text text-anchor=\"middle\" x=\"280.61\" y=\"-264.2\" font-family=\"Times,serif\" font-size=\"14.00\">x: [ 0.83  1.    0.    0.    0.    0.17 -0.    1.    1.    0.  ]</text>\n",
       "</g>\n",
       "<!-- N0&#45;&gt;N2 -->\n",
       "<g id=\"edge2\" class=\"edge\">\n",
       "<title>N0-&gt;N2</title>\n",
       "<path fill=\"none\" stroke=\"black\" d=\"M166.61,-383.82C184.63,-369.71 205.39,-353.47 224.21,-338.74\"/>\n",
       "<polygon fill=\"black\" stroke=\"black\" points=\"226.36,-341.5 232.08,-332.58 222.05,-335.99 226.36,-341.5\"/>\n",
       "<text text-anchor=\"middle\" x=\"240.39\" y=\"-353.4\" font-family=\"Times,serif\" font-size=\"14.00\">x_1 &gt;= 1.0</text>\n",
       "</g>\n",
       "<!-- N5 -->\n",
       "<g id=\"node4\" class=\"node\">\n",
       "<title>N5</title>\n",
       "<polygon fill=\"none\" stroke=\"black\" points=\"294.88,-203.2 18.34,-203.2 18.34,-128 294.88,-128 294.88,-203.2\"/>\n",
       "<text text-anchor=\"middle\" x=\"156.61\" y=\"-186.6\" font-family=\"Times,serif\" font-size=\"14.00\">N5</text>\n",
       "<text text-anchor=\"middle\" x=\"156.61\" y=\"-169.8\" font-family=\"Times,serif\" font-size=\"14.00\">P: 5</text>\n",
       "<text text-anchor=\"middle\" x=\"156.61\" y=\"-153\" font-family=\"Times,serif\" font-size=\"14.00\">z_sup: 9.0</text>\n",
       "<text text-anchor=\"middle\" x=\"156.61\" y=\"-136.2\" font-family=\"Times,serif\" font-size=\"14.00\">x: [-0.   1.   0.4  1.   0.   1.   0.   0.6  0.  -0.   0. ]</text>\n",
       "</g>\n",
       "<!-- N2&#45;&gt;N5 -->\n",
       "<g id=\"edge3\" class=\"edge\">\n",
       "<title>N2-&gt;N5</title>\n",
       "<path fill=\"none\" stroke=\"black\" d=\"M244.41,-255.82C230.78,-241.97 215.12,-226.06 200.84,-211.54\"/>\n",
       "<polygon fill=\"black\" stroke=\"black\" points=\"203.64,-209.4 194.13,-204.73 198.65,-214.31 203.64,-209.4\"/>\n",
       "<text text-anchor=\"middle\" x=\"256.68\" y=\"-225.4\" font-family=\"Times,serif\" font-size=\"14.00\">x_0 &lt;= 0.0</text>\n",
       "</g>\n",
       "<!-- N6 -->\n",
       "<g id=\"node7\" class=\"node\">\n",
       "<title>N6</title>\n",
       "<polygon fill=\"none\" stroke=\"black\" points=\"386.38,-203.2 312.83,-203.2 312.83,-128 386.38,-128 386.38,-203.2\"/>\n",
       "<text text-anchor=\"middle\" x=\"349.61\" y=\"-186.6\" font-family=\"Times,serif\" font-size=\"14.00\">N6</text>\n",
       "<text text-anchor=\"middle\" x=\"349.61\" y=\"-169.8\" font-family=\"Times,serif\" font-size=\"14.00\">P: 6</text>\n",
       "<text text-anchor=\"middle\" x=\"349.61\" y=\"-153\" font-family=\"Times,serif\" font-size=\"14.00\">z_sup: 9.0</text>\n",
       "<text text-anchor=\"middle\" x=\"349.61\" y=\"-136.2\" font-family=\"Times,serif\" font-size=\"14.00\">x: N/A</text>\n",
       "</g>\n",
       "<!-- N2&#45;&gt;N6 -->\n",
       "<g id=\"edge6\" class=\"edge\">\n",
       "<title>N2-&gt;N6</title>\n",
       "<path fill=\"none\" stroke=\"black\" d=\"M300.75,-255.82C307.98,-242.61 316.24,-227.53 323.89,-213.57\"/>\n",
       "<polygon fill=\"black\" stroke=\"black\" points=\"326.86,-215.43 328.59,-204.97 320.72,-212.06 326.86,-215.43\"/>\n",
       "<text text-anchor=\"middle\" x=\"349.88\" y=\"-225.4\" font-family=\"Times,serif\" font-size=\"14.00\">x_0 &gt;= 1.0</text>\n",
       "</g>\n",
       "<!-- N11 -->\n",
       "<g id=\"node5\" class=\"node\">\n",
       "<title>N11</title>\n",
       "<polygon fill=\"none\" stroke=\"black\" points=\"103.38,-75.2 29.83,-75.2 29.83,0 103.38,0 103.38,-75.2\"/>\n",
       "<text text-anchor=\"middle\" x=\"66.61\" y=\"-58.6\" font-family=\"Times,serif\" font-size=\"14.00\">N11</text>\n",
       "<text text-anchor=\"middle\" x=\"66.61\" y=\"-41.8\" font-family=\"Times,serif\" font-size=\"14.00\">P: 11</text>\n",
       "<text text-anchor=\"middle\" x=\"66.61\" y=\"-25\" font-family=\"Times,serif\" font-size=\"14.00\">z_sup: 9.0</text>\n",
       "<text text-anchor=\"middle\" x=\"66.61\" y=\"-8.2\" font-family=\"Times,serif\" font-size=\"14.00\">x: N/A</text>\n",
       "</g>\n",
       "<!-- N5&#45;&gt;N11 -->\n",
       "<g id=\"edge4\" class=\"edge\">\n",
       "<title>N5-&gt;N11</title>\n",
       "<path fill=\"none\" stroke=\"black\" d=\"M130.33,-127.82C120.71,-114.35 109.71,-98.94 99.58,-84.76\"/>\n",
       "<polygon fill=\"black\" stroke=\"black\" points=\"102.61,-82.98 93.95,-76.88 96.91,-87.05 102.61,-82.98\"/>\n",
       "<text text-anchor=\"middle\" x=\"147.64\" y=\"-97.4\" font-family=\"Times,serif\" font-size=\"14.00\">x_2 &lt;= 0.0</text>\n",
       "</g>\n",
       "<!-- N12 -->\n",
       "<g id=\"node6\" class=\"node\">\n",
       "<title>N12</title>\n",
       "<polygon fill=\"none\" stroke=\"black\" points=\"372.04,-75.2 121.18,-75.2 121.18,0 372.04,0 372.04,-75.2\"/>\n",
       "<text text-anchor=\"middle\" x=\"246.61\" y=\"-58.6\" font-family=\"Times,serif\" font-size=\"14.00\">N12</text>\n",
       "<text text-anchor=\"middle\" x=\"246.61\" y=\"-41.8\" font-family=\"Times,serif\" font-size=\"14.00\">P: 12</text>\n",
       "<text text-anchor=\"middle\" x=\"246.61\" y=\"-25\" font-family=\"Times,serif\" font-size=\"14.00\">z_sup: 9.0</text>\n",
       "<text text-anchor=\"middle\" x=\"246.61\" y=\"-8.2\" font-family=\"Times,serif\" font-size=\"14.00\">x: [ 0.  1.  1. -0.  0.  1. -0. -0.  1.  0. -0.  0.]</text>\n",
       "</g>\n",
       "<!-- N5&#45;&gt;N12 -->\n",
       "<g id=\"edge5\" class=\"edge\">\n",
       "<title>N5-&gt;N12</title>\n",
       "<path fill=\"none\" stroke=\"black\" d=\"M182.88,-127.82C192.5,-114.35 203.51,-98.94 213.64,-84.76\"/>\n",
       "<polygon fill=\"black\" stroke=\"black\" points=\"216.3,-87.05 219.27,-76.88 210.6,-82.98 216.3,-87.05\"/>\n",
       "<text text-anchor=\"middle\" x=\"237.64\" y=\"-97.4\" font-family=\"Times,serif\" font-size=\"14.00\">x_2 &gt;= 1.0</text>\n",
       "</g>\n",
       "</g>\n",
       "</svg>"
      ],
      "text/plain": [
       "<IPython.core.display.SVG object>"
      ]
     },
     "execution_count": 21,
     "metadata": {},
     "output_type": "execute_result"
    }
   ],
   "source": [
    "SVG(g.svg)"
   ]
  },
  {
   "cell_type": "markdown",
   "metadata": {},
   "source": [
    "**letra b)**"
   ]
  },
  {
   "cell_type": "code",
   "execution_count": 22,
   "metadata": {},
   "outputs": [],
   "source": [
    "%%capture\n",
    "z_star, x_star, bnb_tree, active_problems, iters = branch_and_bound(c, A, b, integrality = integrality, problem_strategy = 'best')\n",
    "dot_code = generate_dot(bnb_tree)\n",
    "g.render(dot_code);"
   ]
  },
  {
   "cell_type": "code",
   "execution_count": 23,
   "metadata": {},
   "outputs": [
    {
     "name": "stdout",
     "output_type": "stream",
     "text": [
      "Iter,Active Problems\n",
      "0,[0]\n",
      "1,[1, 2]\n",
      "2,[2, 3, 4]\n",
      "3,[4, 5, 6]\n",
      "4,[5, 6, 9, 10]\n",
      "5,[9, 10, 11, 12]\n"
     ]
    },
    {
     "name": "stdout",
     "output_type": "stream",
     "text": [
      "Iter,Active Problems\n",
      "0,[0]\n",
      "1,[1, 2]\n",
      "2,[2, 3, 4]\n",
      "3,[4, 5, 6]\n",
      "4,[5, 6, 9, 10]\n",
      "5,[9, 10, 11, 12]\n"
     ]
    }
   ],
   "source": [
    "print('Iter,Active Problems')\n",
    "for i in active_problems.keys():\n",
    "    print(i, active_problems[i], sep=',')"
   ]
  },
  {
   "cell_type": "markdown",
   "metadata": {},
   "source": [
    "### Árvore B&B"
   ]
  },
  {
   "cell_type": "code",
   "execution_count": 24,
   "metadata": {},
   "outputs": [
    {
     "data": {
      "image/svg+xml": [
       "<svg xmlns=\"http://www.w3.org/2000/svg\" xmlns:xlink=\"http://www.w3.org/1999/xlink\" width=\"922pt\" height=\"467pt\" viewBox=\"0.00 0.00 922.29 467.20\">\n",
       "<g id=\"graph0\" class=\"graph\" transform=\"scale(1 1) rotate(0) translate(4 463.2)\">\n",
       "<title>G</title>\n",
       "<polygon fill=\"white\" stroke=\"none\" points=\"-4,4 -4,-463.2 918.29,-463.2 918.29,4 -4,4\"/>\n",
       "<!-- N0 -->\n",
       "<g id=\"node1\" class=\"node\">\n",
       "<title>N0</title>\n",
       "<polygon fill=\"none\" stroke=\"black\" points=\"650.13,-459.2 410.91,-459.2 410.91,-384 650.13,-384 650.13,-459.2\"/>\n",
       "<text text-anchor=\"middle\" x=\"530.52\" y=\"-442.6\" font-family=\"Times,serif\" font-size=\"14.00\">N0</text>\n",
       "<text text-anchor=\"middle\" x=\"530.52\" y=\"-425.8\" font-family=\"Times,serif\" font-size=\"14.00\">P: 0</text>\n",
       "<text text-anchor=\"middle\" x=\"530.52\" y=\"-409\" font-family=\"Times,serif\" font-size=\"14.00\">z_sup: 9.0</text>\n",
       "<text text-anchor=\"middle\" x=\"530.52\" y=\"-392.2\" font-family=\"Times,serif\" font-size=\"14.00\">x: [0.   0.25 1.   1.   0.   1.   0.75 0.   0.  ]</text>\n",
       "</g>\n",
       "<!-- N1 -->\n",
       "<g id=\"node2\" class=\"node\">\n",
       "<title>N1</title>\n",
       "<polygon fill=\"none\" stroke=\"black\" points=\"521.71,-331.2 225.33,-331.2 225.33,-256 521.71,-256 521.71,-331.2\"/>\n",
       "<text text-anchor=\"middle\" x=\"373.52\" y=\"-314.6\" font-family=\"Times,serif\" font-size=\"14.00\">N1</text>\n",
       "<text text-anchor=\"middle\" x=\"373.52\" y=\"-297.8\" font-family=\"Times,serif\" font-size=\"14.00\">P: 1</text>\n",
       "<text text-anchor=\"middle\" x=\"373.52\" y=\"-281\" font-family=\"Times,serif\" font-size=\"14.00\">z_sup: 9.0</text>\n",
       "<text text-anchor=\"middle\" x=\"373.52\" y=\"-264.2\" font-family=\"Times,serif\" font-size=\"14.00\">x: [ 0.17  0.    1.    1.    0.    0.83  1.    0.    0.   -0.  ]</text>\n",
       "</g>\n",
       "<!-- N0&#45;&gt;N1 -->\n",
       "<g id=\"edge1\" class=\"edge\">\n",
       "<title>N0-&gt;N1</title>\n",
       "<path fill=\"none\" stroke=\"black\" d=\"M484.69,-383.82C467.11,-369.71 446.87,-353.47 428.52,-338.74\"/>\n",
       "<polygon fill=\"black\" stroke=\"black\" points=\"430.85,-336.12 420.86,-332.59 426.47,-341.58 430.85,-336.12\"/>\n",
       "<text text-anchor=\"middle\" x=\"492.06\" y=\"-353.4\" font-family=\"Times,serif\" font-size=\"14.00\">x_1 &lt;= 0.0</text>\n",
       "</g>\n",
       "<!-- N2 -->\n",
       "<g id=\"node7\" class=\"node\">\n",
       "<title>N2</title>\n",
       "<polygon fill=\"none\" stroke=\"black\" points=\"835.71,-331.2 539.33,-331.2 539.33,-256 835.71,-256 835.71,-331.2\"/>\n",
       "<text text-anchor=\"middle\" x=\"687.52\" y=\"-314.6\" font-family=\"Times,serif\" font-size=\"14.00\">N2</text>\n",
       "<text text-anchor=\"middle\" x=\"687.52\" y=\"-297.8\" font-family=\"Times,serif\" font-size=\"14.00\">P: 2</text>\n",
       "<text text-anchor=\"middle\" x=\"687.52\" y=\"-281\" font-family=\"Times,serif\" font-size=\"14.00\">z_sup: 9.0</text>\n",
       "<text text-anchor=\"middle\" x=\"687.52\" y=\"-264.2\" font-family=\"Times,serif\" font-size=\"14.00\">x: [ 0.83  1.    0.    0.    0.    0.17 -0.    1.    1.    0.  ]</text>\n",
       "</g>\n",
       "<!-- N0&#45;&gt;N2 -->\n",
       "<g id=\"edge6\" class=\"edge\">\n",
       "<title>N0-&gt;N2</title>\n",
       "<path fill=\"none\" stroke=\"black\" d=\"M576.35,-383.82C593.93,-369.71 614.17,-353.47 632.52,-338.74\"/>\n",
       "<polygon fill=\"black\" stroke=\"black\" points=\"634.57,-341.58 640.18,-332.59 630.19,-336.12 634.57,-341.58\"/>\n",
       "<text text-anchor=\"middle\" x=\"649.06\" y=\"-353.4\" font-family=\"Times,serif\" font-size=\"14.00\">x_1 &gt;= 1.0</text>\n",
       "</g>\n",
       "<!-- N3 -->\n",
       "<g id=\"node3\" class=\"node\">\n",
       "<title>N3</title>\n",
       "<polygon fill=\"none\" stroke=\"black\" points=\"231.04,-203.2 0,-203.2 0,-128 231.04,-128 231.04,-203.2\"/>\n",
       "<text text-anchor=\"middle\" x=\"115.52\" y=\"-186.6\" font-family=\"Times,serif\" font-size=\"14.00\">N3</text>\n",
       "<text text-anchor=\"middle\" x=\"115.52\" y=\"-169.8\" font-family=\"Times,serif\" font-size=\"14.00\">P: 3</text>\n",
       "<text text-anchor=\"middle\" x=\"115.52\" y=\"-153\" font-family=\"Times,serif\" font-size=\"14.00\">z_sup: 8.0</text>\n",
       "<text text-anchor=\"middle\" x=\"115.52\" y=\"-136.2\" font-family=\"Times,serif\" font-size=\"14.00\">x: [-0. -0.  1.  1.  1.  1.  1.  0.  0.  0.  0.]</text>\n",
       "</g>\n",
       "<!-- N1&#45;&gt;N3 -->\n",
       "<g id=\"edge2\" class=\"edge\">\n",
       "<title>N1-&gt;N3</title>\n",
       "<path fill=\"none\" stroke=\"black\" d=\"M297.85,-255.65C267.53,-240.84 232.44,-223.7 201.18,-208.44\"/>\n",
       "<polygon fill=\"black\" stroke=\"black\" points=\"203.06,-205.46 192.54,-204.22 199.99,-211.75 203.06,-205.46\"/>\n",
       "<text text-anchor=\"middle\" x=\"290.61\" y=\"-225.4\" font-family=\"Times,serif\" font-size=\"14.00\">x_0 &lt;= 0.0</text>\n",
       "</g>\n",
       "<!-- N4 -->\n",
       "<g id=\"node4\" class=\"node\">\n",
       "<title>N4</title>\n",
       "<polygon fill=\"none\" stroke=\"black\" points=\"525.79,-203.2 249.25,-203.2 249.25,-128 525.79,-128 525.79,-203.2\"/>\n",
       "<text text-anchor=\"middle\" x=\"387.52\" y=\"-186.6\" font-family=\"Times,serif\" font-size=\"14.00\">N4</text>\n",
       "<text text-anchor=\"middle\" x=\"387.52\" y=\"-169.8\" font-family=\"Times,serif\" font-size=\"14.00\">P: 4</text>\n",
       "<text text-anchor=\"middle\" x=\"387.52\" y=\"-153\" font-family=\"Times,serif\" font-size=\"14.00\">z_sup: 9.0</text>\n",
       "<text text-anchor=\"middle\" x=\"387.52\" y=\"-136.2\" font-family=\"Times,serif\" font-size=\"14.00\">x: [ 1.   0.   0.6  0.   0.  -0.   1.   0.4  1.  -0.   0. ]</text>\n",
       "</g>\n",
       "<!-- N1&#45;&gt;N4 -->\n",
       "<g id=\"edge3\" class=\"edge\">\n",
       "<title>N1-&gt;N4</title>\n",
       "<path fill=\"none\" stroke=\"black\" d=\"M377.61,-255.82C379.03,-242.99 380.65,-228.4 382.16,-214.79\"/>\n",
       "<polygon fill=\"black\" stroke=\"black\" points=\"385.61,-215.48 383.24,-205.15 378.65,-214.7 385.61,-215.48\"/>\n",
       "<text text-anchor=\"middle\" x=\"412\" y=\"-225.4\" font-family=\"Times,serif\" font-size=\"14.00\">x_0 &gt;= 1.0</text>\n",
       "</g>\n",
       "<!-- N9 -->\n",
       "<g id=\"node5\" class=\"node\">\n",
       "<title>N9</title>\n",
       "<polygon fill=\"none\" stroke=\"black\" points=\"388.37,-75.2 138.67,-75.2 138.67,0 388.37,0 388.37,-75.2\"/>\n",
       "<text text-anchor=\"middle\" x=\"263.52\" y=\"-58.6\" font-family=\"Times,serif\" font-size=\"14.00\">N9</text>\n",
       "<text text-anchor=\"middle\" x=\"263.52\" y=\"-41.8\" font-family=\"Times,serif\" font-size=\"14.00\">P: 9</text>\n",
       "<text text-anchor=\"middle\" x=\"263.52\" y=\"-25\" font-family=\"Times,serif\" font-size=\"14.00\">z_sup: 9.0</text>\n",
       "<text text-anchor=\"middle\" x=\"263.52\" y=\"-8.2\" font-family=\"Times,serif\" font-size=\"14.00\">x: [ 1. -0. -0.  1.  0.  0.  1.  1.  0.  0. -0.  0.]</text>\n",
       "</g>\n",
       "<!-- N4&#45;&gt;N9 -->\n",
       "<g id=\"edge4\" class=\"edge\">\n",
       "<title>N4-&gt;N9</title>\n",
       "<path fill=\"none\" stroke=\"black\" d=\"M351.32,-127.82C337.69,-113.97 322.03,-98.06 307.75,-83.54\"/>\n",
       "<polygon fill=\"black\" stroke=\"black\" points=\"310.55,-81.4 301.04,-76.73 305.56,-86.31 310.55,-81.4\"/>\n",
       "<text text-anchor=\"middle\" x=\"363.59\" y=\"-97.4\" font-family=\"Times,serif\" font-size=\"14.00\">x_2 &lt;= 0.0</text>\n",
       "</g>\n",
       "<!-- N10 -->\n",
       "<g id=\"node6\" class=\"node\">\n",
       "<title>N10</title>\n",
       "<polygon fill=\"none\" stroke=\"black\" points=\"480.29,-75.2 406.74,-75.2 406.74,0 480.29,0 480.29,-75.2\"/>\n",
       "<text text-anchor=\"middle\" x=\"443.52\" y=\"-58.6\" font-family=\"Times,serif\" font-size=\"14.00\">N10</text>\n",
       "<text text-anchor=\"middle\" x=\"443.52\" y=\"-41.8\" font-family=\"Times,serif\" font-size=\"14.00\">P: 10</text>\n",
       "<text text-anchor=\"middle\" x=\"443.52\" y=\"-25\" font-family=\"Times,serif\" font-size=\"14.00\">z_sup: 9.0</text>\n",
       "<text text-anchor=\"middle\" x=\"443.52\" y=\"-8.2\" font-family=\"Times,serif\" font-size=\"14.00\">x: N/A</text>\n",
       "</g>\n",
       "<!-- N4&#45;&gt;N10 -->\n",
       "<g id=\"edge5\" class=\"edge\">\n",
       "<title>N4-&gt;N10</title>\n",
       "<path fill=\"none\" stroke=\"black\" d=\"M403.87,-127.82C409.68,-114.74 416.31,-99.82 422.46,-85.98\"/>\n",
       "<polygon fill=\"black\" stroke=\"black\" points=\"425.58,-87.59 426.44,-77.03 419.18,-84.75 425.58,-87.59\"/>\n",
       "<text text-anchor=\"middle\" x=\"449.52\" y=\"-97.4\" font-family=\"Times,serif\" font-size=\"14.00\">x_2 &gt;= 1.0</text>\n",
       "</g>\n",
       "<!-- N5 -->\n",
       "<g id=\"node8\" class=\"node\">\n",
       "<title>N5</title>\n",
       "<polygon fill=\"none\" stroke=\"black\" points=\"822.79,-203.2 546.25,-203.2 546.25,-128 822.79,-128 822.79,-203.2\"/>\n",
       "<text text-anchor=\"middle\" x=\"684.52\" y=\"-186.6\" font-family=\"Times,serif\" font-size=\"14.00\">N5</text>\n",
       "<text text-anchor=\"middle\" x=\"684.52\" y=\"-169.8\" font-family=\"Times,serif\" font-size=\"14.00\">P: 5</text>\n",
       "<text text-anchor=\"middle\" x=\"684.52\" y=\"-153\" font-family=\"Times,serif\" font-size=\"14.00\">z_sup: 9.0</text>\n",
       "<text text-anchor=\"middle\" x=\"684.52\" y=\"-136.2\" font-family=\"Times,serif\" font-size=\"14.00\">x: [-0.   1.   0.4  1.   0.   1.   0.   0.6  0.  -0.   0. ]</text>\n",
       "</g>\n",
       "<!-- N2&#45;&gt;N5 -->\n",
       "<g id=\"edge7\" class=\"edge\">\n",
       "<title>N2-&gt;N5</title>\n",
       "<path fill=\"none\" stroke=\"black\" d=\"M686.64,-255.82C686.34,-242.99 685.99,-228.4 685.67,-214.79\"/>\n",
       "<polygon fill=\"black\" stroke=\"black\" points=\"689.17,-215.07 685.44,-205.16 682.18,-215.24 689.17,-215.07\"/>\n",
       "<text text-anchor=\"middle\" x=\"716.84\" y=\"-225.4\" font-family=\"Times,serif\" font-size=\"14.00\">x_0 &lt;= 0.0</text>\n",
       "</g>\n",
       "<!-- N6 -->\n",
       "<g id=\"node11\" class=\"node\">\n",
       "<title>N6</title>\n",
       "<polygon fill=\"none\" stroke=\"black\" points=\"914.29,-203.2 840.74,-203.2 840.74,-128 914.29,-128 914.29,-203.2\"/>\n",
       "<text text-anchor=\"middle\" x=\"877.52\" y=\"-186.6\" font-family=\"Times,serif\" font-size=\"14.00\">N6</text>\n",
       "<text text-anchor=\"middle\" x=\"877.52\" y=\"-169.8\" font-family=\"Times,serif\" font-size=\"14.00\">P: 6</text>\n",
       "<text text-anchor=\"middle\" x=\"877.52\" y=\"-153\" font-family=\"Times,serif\" font-size=\"14.00\">z_sup: 9.0</text>\n",
       "<text text-anchor=\"middle\" x=\"877.52\" y=\"-136.2\" font-family=\"Times,serif\" font-size=\"14.00\">x: N/A</text>\n",
       "</g>\n",
       "<!-- N2&#45;&gt;N6 -->\n",
       "<g id=\"edge10\" class=\"edge\">\n",
       "<title>N2-&gt;N6</title>\n",
       "<path fill=\"none\" stroke=\"black\" d=\"M750.56,-255.65C773.83,-241.5 800.39,-224.75 831.16,-203.25\"/>\n",
       "<polygon fill=\"black\" stroke=\"black\" points=\"833,-206.23 839.15,-197.61 828.96,-200.51 833,-206.23\"/>\n",
       "<text text-anchor=\"middle\" x=\"835.36\" y=\"-225.4\" font-family=\"Times,serif\" font-size=\"14.00\">x_0 &gt;= 1.0</text>\n",
       "</g>\n",
       "<!-- N11 -->\n",
       "<g id=\"node9\" class=\"node\">\n",
       "<title>N11</title>\n",
       "<polygon fill=\"none\" stroke=\"black\" points=\"675.29,-75.2 601.74,-75.2 601.74,0 675.29,0 675.29,-75.2\"/>\n",
       "<text text-anchor=\"middle\" x=\"638.52\" y=\"-58.6\" font-family=\"Times,serif\" font-size=\"14.00\">N11</text>\n",
       "<text text-anchor=\"middle\" x=\"638.52\" y=\"-41.8\" font-family=\"Times,serif\" font-size=\"14.00\">P: 11</text>\n",
       "<text text-anchor=\"middle\" x=\"638.52\" y=\"-25\" font-family=\"Times,serif\" font-size=\"14.00\">z_sup: 9.0</text>\n",
       "<text text-anchor=\"middle\" x=\"638.52\" y=\"-8.2\" font-family=\"Times,serif\" font-size=\"14.00\">x: N/A</text>\n",
       "</g>\n",
       "<!-- N5&#45;&gt;N11 -->\n",
       "<g id=\"edge8\" class=\"edge\">\n",
       "<title>N5-&gt;N11</title>\n",
       "<path fill=\"none\" stroke=\"black\" d=\"M655.95,-127.71C652.55,-122.01 649.49,-116.02 647.23,-110 644.45,-102.61 642.51,-94.52 641.16,-86.52\"/>\n",
       "<polygon fill=\"black\" stroke=\"black\" points=\"644.66,-86.29 639.84,-76.86 637.73,-87.24 644.66,-86.29\"/>\n",
       "<text text-anchor=\"middle\" x=\"677.87\" y=\"-97.4\" font-family=\"Times,serif\" font-size=\"14.00\">x_2 &lt;= 0.0</text>\n",
       "</g>\n",
       "<!-- N12 -->\n",
       "<g id=\"node10\" class=\"node\">\n",
       "<title>N12</title>\n",
       "<polygon fill=\"none\" stroke=\"black\" points=\"767.29,-75.2 693.74,-75.2 693.74,0 767.29,0 767.29,-75.2\"/>\n",
       "<text text-anchor=\"middle\" x=\"730.52\" y=\"-58.6\" font-family=\"Times,serif\" font-size=\"14.00\">N12</text>\n",
       "<text text-anchor=\"middle\" x=\"730.52\" y=\"-41.8\" font-family=\"Times,serif\" font-size=\"14.00\">P: 12</text>\n",
       "<text text-anchor=\"middle\" x=\"730.52\" y=\"-25\" font-family=\"Times,serif\" font-size=\"14.00\">z_sup: 9.0</text>\n",
       "<text text-anchor=\"middle\" x=\"730.52\" y=\"-8.2\" font-family=\"Times,serif\" font-size=\"14.00\">x: N/A</text>\n",
       "</g>\n",
       "<!-- N5&#45;&gt;N12 -->\n",
       "<g id=\"edge9\" class=\"edge\">\n",
       "<title>N5-&gt;N12</title>\n",
       "<path fill=\"none\" stroke=\"black\" d=\"M701.49,-127.53C703.96,-121.71 706.39,-115.73 708.52,-110 711.32,-102.48 714.05,-94.43 716.58,-86.54\"/>\n",
       "<polygon fill=\"black\" stroke=\"black\" points=\"719.92,-87.6 719.56,-77.01 713.24,-85.51 719.92,-87.6\"/>\n",
       "<text text-anchor=\"middle\" x=\"744.6\" y=\"-97.4\" font-family=\"Times,serif\" font-size=\"14.00\">x_2 &gt;= 1.0</text>\n",
       "</g>\n",
       "</g>\n",
       "</svg>"
      ],
      "text/plain": [
       "<IPython.core.display.SVG object>"
      ]
     },
     "execution_count": 24,
     "metadata": {},
     "output_type": "execute_result"
    }
   ],
   "source": [
    "SVG(g.svg)"
   ]
  },
  {
   "cell_type": "markdown",
   "metadata": {},
   "source": [
    "**Interpretação**\n",
    "\n",
    "Como esperado, de acordo com o que temos na literatura, soluções factíveis são mais prováveis de serem encontradas em níveis mais profundos em relação à raiz, como visto no nó 12 do branch and bound em busca profunda.\n",
    "\n",
    "Isso fez com que o algoritmo convergisse mais rápido, em menos iterações. Mas, em regra, como dito no livro texto da disciplina, buscas profundas tendem a produzir mais nós, o que não ocorreu no problema específico.\n",
    "\n",
    "De toda forma, ambas as formas de seleção de problemas produziram árvores B&B válidas e obtiveram a solução ótima inteira e factível para o problema da mochila em tela."
   ]
  }
 ],
 "metadata": {
  "kernelspec": {
   "display_name": "Python 3 (ipykernel)",
   "language": "python",
   "name": "python3"
  },
  "language_info": {
   "codemirror_mode": {
    "name": "ipython",
    "version": 3
   },
   "file_extension": ".py",
   "mimetype": "text/x-python",
   "name": "python",
   "nbconvert_exporter": "python",
   "pygments_lexer": "ipython3",
   "version": "3.13.3"
  }
 },
 "nbformat": 4,
 "nbformat_minor": 4
}
