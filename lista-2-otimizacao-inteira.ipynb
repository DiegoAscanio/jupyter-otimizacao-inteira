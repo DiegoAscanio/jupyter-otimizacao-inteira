{
  "metadata": {
    "kernelspec": {
      "name": "python",
      "display_name": "Python (Pyodide)",
      "language": "python"
    },
    "language_info": {
      "codemirror_mode": {
        "name": "python",
        "version": 3
      },
      "file_extension": ".py",
      "mimetype": "text/x-python",
      "name": "python",
      "nbconvert_exporter": "python",
      "pygments_lexer": "ipython3",
      "version": "3.8"
    }
  },
  "nbformat_minor": 4,
  "nbformat": 4,
  "cells": [
    {
      "cell_type": "markdown",
      "source": "# Lista 2 de Exercícios - Otimização Inteira\n\n## Preâmbulo",
      "metadata": {}
    },
    {
      "cell_type": "code",
      "source": "%load_ext autoreload\n%autoreload 2\n%pip install numpy\n%pip install scipy\n%pip install jupyter_anywidget_graphviz\n\nfrom IPython.display import HTML, display, SVG\nfrom jupyter_anywidget_graphviz import graphviz_headless\n%load_ext jupyter_anywidget_graphviz\n\ng = graphviz_headless()",
      "metadata": {
        "trusted": true
      },
      "outputs": [
        {
          "name": "stdout",
          "output_type": "stream",
          "text": "The autoreload extension is already loaded. To reload it, use:\n  %reload_ext autoreload\nThe jupyter_anywidget_graphviz extension is already loaded. To reload it, use:\n  %reload_ext jupyter_anywidget_graphviz\n"
        },
        {
          "output_type": "display_data",
          "data": {
            "text/plain": "graphvizWidget(headless=True, response={'status': 'initialising'})",
            "application/vnd.jupyter.widget-view+json": {
              "version_major": 2,
              "version_minor": 1,
              "model_id": "d6fe61fc20dd4671adab960c6bbe5809"
            }
          },
          "metadata": {}
        }
      ],
      "execution_count": 217
    },
    {
      "cell_type": "markdown",
      "source": "## Exemplo Sala",
      "metadata": {}
    },
    {
      "cell_type": "code",
      "source": "from branch_and_bound import branch_and_bound, generate_dot\nimport numpy as np\n\nA = np.array([\n    [1, 4, -1, 0],\n    [3, 2, 0, -1]\n])\n\nb = np.array([\n    5,\n    7\n])\n\nc = np.array([-4, -5, 0, 0]) # we're maximizing\n\nintegrality = np.array([1, 1, 0, 0])  # x1 and x2 are integers\n\nz_star, x_star, bnb_tree, iters = branch_and_bound(c, A, b, integrality = integrality)\ndot_code = generate_dot(bnb_tree)\ng.render(dot_code)\n\niters",
      "metadata": {
        "trusted": true
      },
      "outputs": [
        {
          "name": "stdout",
          "output_type": "stream",
          "text": "[0]\n[1, 2]\n[2]\n[5, 6]\n[6]\n"
        },
        {
          "execution_count": 218,
          "output_type": "execute_result",
          "data": {
            "text/plain": "2"
          },
          "metadata": {}
        }
      ],
      "execution_count": 218
    },
    {
      "cell_type": "markdown",
      "source": "### Árvore B&B",
      "metadata": {}
    },
    {
      "cell_type": "code",
      "source": "SVG(g.svg)",
      "metadata": {
        "trusted": true
      },
      "outputs": [
        {
          "execution_count": 219,
          "output_type": "execute_result",
          "data": {
            "text/plain": "<IPython.core.display.SVG object>",
            "image/svg+xml": "<svg xmlns=\"http://www.w3.org/2000/svg\" xmlns:xlink=\"http://www.w3.org/1999/xlink\" width=\"342pt\" height=\"339pt\" viewBox=\"0.00 0.00 342.21 339.20\">\n<g id=\"graph0\" class=\"graph\" transform=\"scale(1 1) rotate(0) translate(4 335.2)\">\n<title>G</title>\n<polygon fill=\"white\" stroke=\"none\" points=\"-4,4 -4,-335.2 338.21,-335.2 338.21,4 -4,4\"/>\n<!-- N0 -->\n<g id=\"node1\" class=\"node\">\n<title>N0</title>\n<polygon fill=\"none\" stroke=\"black\" points=\"151.71,-331.2 38.5,-331.2 38.5,-256 151.71,-256 151.71,-331.2\"/>\n<text text-anchor=\"middle\" x=\"95.11\" y=\"-314.6\" font-family=\"Times,serif\" font-size=\"14.00\">N0</text>\n<text text-anchor=\"middle\" x=\"95.11\" y=\"-297.8\" font-family=\"Times,serif\" font-size=\"14.00\">P: 0</text>\n<text text-anchor=\"middle\" x=\"95.11\" y=\"-281\" font-family=\"Times,serif\" font-size=\"14.00\">z_sup: -11.2</text>\n<text text-anchor=\"middle\" x=\"95.11\" y=\"-264.2\" font-family=\"Times,serif\" font-size=\"14.00\">x: [1.8 0.8 0.  0. ]</text>\n</g>\n<!-- N1 -->\n<g id=\"node2\" class=\"node\">\n<title>N1</title>\n<polygon fill=\"none\" stroke=\"black\" points=\"106.21,-203.2 0,-203.2 0,-128 106.21,-128 106.21,-203.2\"/>\n<text text-anchor=\"middle\" x=\"53.11\" y=\"-186.6\" font-family=\"Times,serif\" font-size=\"14.00\">N1</text>\n<text text-anchor=\"middle\" x=\"53.11\" y=\"-169.8\" font-family=\"Times,serif\" font-size=\"14.00\">P: 1</text>\n<text text-anchor=\"middle\" x=\"53.11\" y=\"-153\" font-family=\"Times,serif\" font-size=\"14.00\">z_sup: -14.0</text>\n<text text-anchor=\"middle\" x=\"53.11\" y=\"-136.2\" font-family=\"Times,serif\" font-size=\"14.00\">x: [1. 2. 4. 0. 0.]</text>\n</g>\n<!-- N0&#45;&gt;N1 -->\n<g id=\"edge1\" class=\"edge\">\n<title>N0-&gt;N1</title>\n<path fill=\"none\" stroke=\"black\" d=\"M82.85,-255.82C78.53,-242.86 73.61,-228.11 69.03,-214.38\"/>\n<polygon fill=\"black\" stroke=\"black\" points=\"72.42,-213.46 65.93,-205.08 65.78,-215.68 72.42,-213.46\"/>\n<text text-anchor=\"middle\" x=\"107.27\" y=\"-225.4\" font-family=\"Times,serif\" font-size=\"14.00\">x_0 &lt;= 1.0</text>\n</g>\n<!-- N2 -->\n<g id=\"node3\" class=\"node\">\n<title>N2</title>\n<polygon fill=\"none\" stroke=\"black\" points=\"275.96,-203.2 124.25,-203.2 124.25,-128 275.96,-128 275.96,-203.2\"/>\n<text text-anchor=\"middle\" x=\"200.11\" y=\"-186.6\" font-family=\"Times,serif\" font-size=\"14.00\">N2</text>\n<text text-anchor=\"middle\" x=\"200.11\" y=\"-169.8\" font-family=\"Times,serif\" font-size=\"14.00\">P: 2</text>\n<text text-anchor=\"middle\" x=\"200.11\" y=\"-153\" font-family=\"Times,serif\" font-size=\"14.00\">z_sup: -11.75</text>\n<text text-anchor=\"middle\" x=\"200.11\" y=\"-136.2\" font-family=\"Times,serif\" font-size=\"14.00\">x: [2.   0.75 0.   0.5  0.  ]</text>\n</g>\n<!-- N0&#45;&gt;N2 -->\n<g id=\"edge2\" class=\"edge\">\n<title>N0-&gt;N2</title>\n<path fill=\"none\" stroke=\"black\" d=\"M127.11,-255.72C132.15,-249.81 137.29,-243.76 142.11,-238 149.03,-229.73 156.33,-220.85 163.34,-212.26\"/>\n<polygon fill=\"black\" stroke=\"black\" points=\"165.95,-214.59 169.55,-204.63 160.52,-210.18 165.95,-214.59\"/>\n<text text-anchor=\"middle\" x=\"185.61\" y=\"-225.4\" font-family=\"Times,serif\" font-size=\"14.00\">x_0 &gt;= 2.0</text>\n</g>\n<!-- N5 -->\n<g id=\"node4\" class=\"node\">\n<title>N5</title>\n<polygon fill=\"none\" stroke=\"black\" points=\"196.29,-75.2 53.92,-75.2 53.92,0 196.29,0 196.29,-75.2\"/>\n<text text-anchor=\"middle\" x=\"125.11\" y=\"-58.6\" font-family=\"Times,serif\" font-size=\"14.00\">N5</text>\n<text text-anchor=\"middle\" x=\"125.11\" y=\"-41.8\" font-family=\"Times,serif\" font-size=\"14.00\">P: 5</text>\n<text text-anchor=\"middle\" x=\"125.11\" y=\"-25\" font-family=\"Times,serif\" font-size=\"14.00\">z_sup: -20.0</text>\n<text text-anchor=\"middle\" x=\"125.11\" y=\"-8.2\" font-family=\"Times,serif\" font-size=\"14.00\">x: [ 5. -0.  0.  8.  3.  0.]</text>\n</g>\n<!-- N2&#45;&gt;N5 -->\n<g id=\"edge3\" class=\"edge\">\n<title>N2-&gt;N5</title>\n<path fill=\"none\" stroke=\"black\" d=\"M178.21,-127.82C170.27,-114.48 161.2,-99.23 152.82,-85.16\"/>\n<polygon fill=\"black\" stroke=\"black\" points=\"156.06,-83.75 147.93,-76.95 150.04,-87.33 156.06,-83.75\"/>\n<text text-anchor=\"middle\" x=\"197.74\" y=\"-97.4\" font-family=\"Times,serif\" font-size=\"14.00\">x_1 &lt;= 0.0</text>\n</g>\n<!-- N6 -->\n<g id=\"node5\" class=\"node\">\n<title>N6</title>\n<polygon fill=\"none\" stroke=\"black\" points=\"334.21,-75.2 214,-75.2 214,0 334.21,0 334.21,-75.2\"/>\n<text text-anchor=\"middle\" x=\"274.11\" y=\"-58.6\" font-family=\"Times,serif\" font-size=\"14.00\">N6</text>\n<text text-anchor=\"middle\" x=\"274.11\" y=\"-41.8\" font-family=\"Times,serif\" font-size=\"14.00\">P: 6</text>\n<text text-anchor=\"middle\" x=\"274.11\" y=\"-25\" font-family=\"Times,serif\" font-size=\"14.00\">z_sup: -13.0</text>\n<text text-anchor=\"middle\" x=\"274.11\" y=\"-8.2\" font-family=\"Times,serif\" font-size=\"14.00\">x: [2. 1. 1. 1. 0. 0.]</text>\n</g>\n<!-- N2&#45;&gt;N6 -->\n<g id=\"edge4\" class=\"edge\">\n<title>N2-&gt;N6</title>\n<path fill=\"none\" stroke=\"black\" d=\"M221.71,-127.82C229.47,-114.61 238.33,-99.53 246.52,-85.57\"/>\n<polygon fill=\"black\" stroke=\"black\" points=\"249.54,-87.35 251.58,-76.95 243.5,-83.8 249.54,-87.35\"/>\n<text text-anchor=\"middle\" x=\"272.18\" y=\"-97.4\" font-family=\"Times,serif\" font-size=\"14.00\">x_1 &gt;= 1.0</text>\n</g>\n</g>\n</svg>"
          },
          "metadata": {}
        }
      ],
      "execution_count": 219
    },
    {
      "cell_type": "markdown",
      "source": "## Exemplo Livro\n\n\\begin{align}\n    & z = \\text{max} \\ 5x_1 - x_2 \\\\\n    & \\text{subject to:} \\\\\n    & 7 x_1 - 5x_2 \\leq 13 \\\\\n    & 3 x_1 + 2x_2 \\leq 17 \\\\\n    & x_1, x_2 \\in \\mathbb{Z}^{+}\n\\end{align}",
      "metadata": {}
    },
    {
      "cell_type": "code",
      "source": "A = np.array([\n    [7, -5, 1, 0],\n    [3,  2, 0, 1]\n])\n\nb = np.array([\n    13,\n    17\n])\n\nc = np.array([5, -1, 0, 0]) # we're maximizing\n\nintegrality = np.array([1, 1, 0, 0])  # x1 and x2 are integers\n\nz_star, x_star, bnb_tree, iters = branch_and_bound(c, A, b, integrality = integrality, branching_strategy = 'fni')\ndot_code = generate_dot(bnb_tree)\ng.render(dot_code)\niters",
      "metadata": {
        "trusted": true
      },
      "outputs": [
        {
          "name": "stdout",
          "output_type": "stream",
          "text": "[0]\n[1, 2]\n[2, 3, 4]\n[3, 4]\n[4, 7, 8]\n"
        },
        {
          "execution_count": 220,
          "output_type": "execute_result",
          "data": {
            "text/plain": "3"
          },
          "metadata": {}
        }
      ],
      "execution_count": 220
    },
    {
      "cell_type": "markdown",
      "source": "### Árvore B&B",
      "metadata": {}
    },
    {
      "cell_type": "code",
      "source": "SVG(g.svg)",
      "metadata": {
        "trusted": true,
        "scrolled": true
      },
      "outputs": [
        {
          "execution_count": 221,
          "output_type": "execute_result",
          "data": {
            "text/plain": "<IPython.core.display.SVG object>",
            "image/svg+xml": "<svg xmlns=\"http://www.w3.org/2000/svg\" xmlns:xlink=\"http://www.w3.org/1999/xlink\" width=\"447pt\" height=\"339pt\" viewBox=\"0.00 0.00 446.88 339.20\">\n<g id=\"graph0\" class=\"graph\" transform=\"scale(1 1) rotate(0) translate(4 335.2)\">\n<title>G</title>\n<polygon fill=\"white\" stroke=\"none\" points=\"-4,4 -4,-335.2 442.88,-335.2 442.88,4 -4,4\"/>\n<!-- N0 -->\n<g id=\"node1\" class=\"node\">\n<title>N0</title>\n<polygon fill=\"none\" stroke=\"black\" points=\"352.88,-331.2 174.33,-331.2 174.33,-256 352.88,-256 352.88,-331.2\"/>\n<text text-anchor=\"middle\" x=\"263.61\" y=\"-314.6\" font-family=\"Times,serif\" font-size=\"14.00\">N0</text>\n<text text-anchor=\"middle\" x=\"263.61\" y=\"-297.8\" font-family=\"Times,serif\" font-size=\"14.00\">P: 0</text>\n<text text-anchor=\"middle\" x=\"263.61\" y=\"-281\" font-family=\"Times,serif\" font-size=\"14.00\">z_sup: 16.379310344827584</text>\n<text text-anchor=\"middle\" x=\"263.61\" y=\"-264.2\" font-family=\"Times,serif\" font-size=\"14.00\">x: [3.83 2.76 0.   0.  ]</text>\n</g>\n<!-- N1 -->\n<g id=\"node2\" class=\"node\">\n<title>N1</title>\n<polygon fill=\"none\" stroke=\"black\" points=\"241.96,-203.2 111.25,-203.2 111.25,-128 241.96,-128 241.96,-203.2\"/>\n<text text-anchor=\"middle\" x=\"176.61\" y=\"-186.6\" font-family=\"Times,serif\" font-size=\"14.00\">N1</text>\n<text text-anchor=\"middle\" x=\"176.61\" y=\"-169.8\" font-family=\"Times,serif\" font-size=\"14.00\">P: 1</text>\n<text text-anchor=\"middle\" x=\"176.61\" y=\"-153\" font-family=\"Times,serif\" font-size=\"14.00\">z_sup: 13.4</text>\n<text text-anchor=\"middle\" x=\"176.61\" y=\"-136.2\" font-family=\"Times,serif\" font-size=\"14.00\">x: [3.  1.6 0.  4.8 0. ]</text>\n</g>\n<!-- N0&#45;&gt;N1 -->\n<g id=\"edge1\" class=\"edge\">\n<title>N0-&gt;N1</title>\n<path fill=\"none\" stroke=\"black\" d=\"M238.21,-255.82C228.91,-242.35 218.27,-226.94 208.48,-212.76\"/>\n<polygon fill=\"black\" stroke=\"black\" points=\"211.61,-211.13 203.05,-204.89 205.85,-215.11 211.61,-211.13\"/>\n<text text-anchor=\"middle\" x=\"255.96\" y=\"-225.4\" font-family=\"Times,serif\" font-size=\"14.00\">x_0 &lt;= 3.0</text>\n</g>\n<!-- N2 -->\n<g id=\"node5\" class=\"node\">\n<title>N2</title>\n<polygon fill=\"none\" stroke=\"black\" points=\"438.88,-203.2 260.33,-203.2 260.33,-128 438.88,-128 438.88,-203.2\"/>\n<text text-anchor=\"middle\" x=\"349.61\" y=\"-186.6\" font-family=\"Times,serif\" font-size=\"14.00\">N2</text>\n<text text-anchor=\"middle\" x=\"349.61\" y=\"-169.8\" font-family=\"Times,serif\" font-size=\"14.00\">P: 2</text>\n<text text-anchor=\"middle\" x=\"349.61\" y=\"-153\" font-family=\"Times,serif\" font-size=\"14.00\">z_sup: 16.379310344827584</text>\n<text text-anchor=\"middle\" x=\"349.61\" y=\"-136.2\" font-family=\"Times,serif\" font-size=\"14.00\">x: N/A</text>\n</g>\n<!-- N0&#45;&gt;N2 -->\n<g id=\"edge4\" class=\"edge\">\n<title>N0-&gt;N2</title>\n<path fill=\"none\" stroke=\"black\" d=\"M288.71,-255.82C297.9,-242.35 308.42,-226.94 318.1,-212.76\"/>\n<polygon fill=\"black\" stroke=\"black\" points=\"320.72,-215.13 323.47,-204.9 314.94,-211.18 320.72,-215.13\"/>\n<text text-anchor=\"middle\" x=\"342.4\" y=\"-225.4\" font-family=\"Times,serif\" font-size=\"14.00\">x_0 &gt;= 4.0</text>\n</g>\n<!-- N3 -->\n<g id=\"node3\" class=\"node\">\n<title>N3</title>\n<polygon fill=\"none\" stroke=\"black\" points=\"183.21,-75.2 0,-75.2 0,0 183.21,0 183.21,-75.2\"/>\n<text text-anchor=\"middle\" x=\"91.61\" y=\"-58.6\" font-family=\"Times,serif\" font-size=\"14.00\">N3</text>\n<text text-anchor=\"middle\" x=\"91.61\" y=\"-41.8\" font-family=\"Times,serif\" font-size=\"14.00\">P: 3</text>\n<text text-anchor=\"middle\" x=\"91.61\" y=\"-25\" font-family=\"Times,serif\" font-size=\"14.00\">z_sup: 11.857142857142858</text>\n<text text-anchor=\"middle\" x=\"91.61\" y=\"-8.2\" font-family=\"Times,serif\" font-size=\"14.00\">x: [2.57 1.   0.   7.29 0.43 0.  ]</text>\n</g>\n<!-- N1&#45;&gt;N3 -->\n<g id=\"edge2\" class=\"edge\">\n<title>N1-&gt;N3</title>\n<path fill=\"none\" stroke=\"black\" d=\"M151.79,-127.82C142.79,-114.48 132.51,-99.23 123.02,-85.16\"/>\n<polygon fill=\"black\" stroke=\"black\" points=\"125.94,-83.23 117.45,-76.9 120.14,-87.15 125.94,-83.23\"/>\n<text text-anchor=\"middle\" x=\"169.84\" y=\"-97.4\" font-family=\"Times,serif\" font-size=\"14.00\">x_1 &lt;= 1.0</text>\n</g>\n<!-- N4 -->\n<g id=\"node4\" class=\"node\">\n<title>N4</title>\n<polygon fill=\"none\" stroke=\"black\" points=\"321.71,-75.2 201.5,-75.2 201.5,0 321.71,0 321.71,-75.2\"/>\n<text text-anchor=\"middle\" x=\"261.61\" y=\"-58.6\" font-family=\"Times,serif\" font-size=\"14.00\">N4</text>\n<text text-anchor=\"middle\" x=\"261.61\" y=\"-41.8\" font-family=\"Times,serif\" font-size=\"14.00\">P: 4</text>\n<text text-anchor=\"middle\" x=\"261.61\" y=\"-25\" font-family=\"Times,serif\" font-size=\"14.00\">z_sup: 13.0</text>\n<text text-anchor=\"middle\" x=\"261.61\" y=\"-8.2\" font-family=\"Times,serif\" font-size=\"14.00\">x: [3. 2. 2. 4. 0. 0.]</text>\n</g>\n<!-- N1&#45;&gt;N4 -->\n<g id=\"edge3\" class=\"edge\">\n<title>N1-&gt;N4</title>\n<path fill=\"none\" stroke=\"black\" d=\"M201.42,-127.82C210.42,-114.48 220.7,-99.23 230.2,-85.16\"/>\n<polygon fill=\"black\" stroke=\"black\" points=\"233.08,-87.15 235.77,-76.9 227.27,-83.23 233.08,-87.15\"/>\n<text text-anchor=\"middle\" x=\"254.84\" y=\"-97.4\" font-family=\"Times,serif\" font-size=\"14.00\">x_1 &gt;= 2.0</text>\n</g>\n</g>\n</svg>"
          },
          "metadata": {}
        }
      ],
      "execution_count": 221
    },
    {
      "cell_type": "code",
      "source": "x_star",
      "metadata": {
        "trusted": true
      },
      "outputs": [
        {
          "execution_count": 208,
          "output_type": "execute_result",
          "data": {
            "text/plain": "array([3., 2., 2., 4., 0., 0.])"
          },
          "metadata": {}
        }
      ],
      "execution_count": 208
    },
    {
      "cell_type": "code",
      "source": "z_star",
      "metadata": {
        "trusted": true
      },
      "outputs": [
        {
          "execution_count": 209,
          "output_type": "execute_result",
          "data": {
            "text/plain": "13.0"
          },
          "metadata": {}
        }
      ],
      "execution_count": 209
    },
    {
      "cell_type": "code",
      "source": "",
      "metadata": {
        "trusted": true
      },
      "outputs": [],
      "execution_count": null
    }
  ]
}