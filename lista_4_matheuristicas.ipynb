{
  "metadata": {
    "kernelspec": {
      "name": "python",
      "display_name": "Python (Pyodide)",
      "language": "python"
    },
    "language_info": {
      "codemirror_mode": {
        "name": "python",
        "version": 3
      },
      "file_extension": ".py",
      "mimetype": "text/x-python",
      "name": "python",
      "nbconvert_exporter": "python",
      "pygments_lexer": "ipython3",
      "version": "3.8"
    }
  },
  "nbformat_minor": 5,
  "nbformat": 4,
  "cells": [
    {
      "id": "6ddb586b-a317-4c3d-b0d8-d02b9dc87d58",
      "cell_type": "markdown",
      "source": "# Lista 4 de Otimização Inteira - Matheurísticas\n\nAutor: Diego Ascânio Santos\n\n**Preâmbulo**",
      "metadata": {}
    },
    {
      "id": "f5f4e9e1-27c7-456f-a321-63a4ac8baa83",
      "cell_type": "code",
      "source": "%pip install numpy\n%pip install scipy\n%load_ext autoreload\n%autoreload 2\n\nimport numpy as np\n\ndef repr_constraints(A, b, variables_names : list | str):\n    if type(variables_names) == str:\n        variables_names = variables_names.split(',')\n    result = ''\n    for i, constraint in enumerate(A):\n        variables = []\n        for j, coefficient in enumerate(constraint):\n            if coefficient:\n                variables.append(\n                    f'{coefficient:+.2f} {variables_names[j]}'\n                )\n        result += ' '.join(variables) + ' = ' + f'{b[i]:.2f}\\n'\n    return result\n\ndef repr_objective_function(c, variables_names : list | str):\n    if type(variables_names) == str:\n        variables_names = variables_names.split(',')\n    variables = []\n    for j, coefficient in enumerate(c):\n        if coefficient:\n            variables.append(\n                f'{coefficient:+.2f} {variables_names[j]}'\n            )\n    result = 'z = min ' + ' '.join(variables) + '\\n'\n    return result\n\ndef repr_LP_problem(A, b, c, variables_names):\n    return repr_objective_function(\n        c, variables_names\n    ) + '\\nSubject to:\\n' + repr_constraints(\n        A, b, variables_names\n    )",
      "metadata": {
        "trusted": true
      },
      "outputs": [
        {
          "name": "stdout",
          "output_type": "stream",
          "text": "The autoreload extension is already loaded. To reload it, use:\n  %reload_ext autoreload\n"
        }
      ],
      "execution_count": 106
    },
    {
      "id": "1bea57b1-a548-4508-ae72-ba00ac10db16",
      "cell_type": "markdown",
      "source": "## Exercício 1",
      "metadata": {}
    },
    {
      "id": "90535c77-e5f8-4d3d-a2e7-81b6ecc920e5",
      "cell_type": "code",
      "source": "from formulacao_bin_packing_lista_4_exercicio_1 import A, b, c, variables_names\nfrom rens import rens, resolve_subproblema_inteiro, resolve_PPL\nfrom rins import rins",
      "metadata": {
        "trusted": true
      },
      "outputs": [],
      "execution_count": 110
    },
    {
      "id": "fa3a971d-f406-4d55-832d-6d516bf4b5ff",
      "cell_type": "markdown",
      "source": "### letra a) - RENS",
      "metadata": {}
    },
    {
      "id": "067c73a5-f9a0-495d-8934-050b27485414",
      "cell_type": "code",
      "source": "factivel, z, x, F, x_F, I, x_I, A_prime, b_prime, c_prime = rens(A, b, c)\n\nprint('Ao executar a relaxação linear do RENS, as variáveis fracionárias e suas respectivas frações são: ')\n\nfor j, v in zip(F, x_F):\n    print(f'{variables_names.split(',')[j]} = {v:.2f}')\n\nprint('O vetor solução de caixas para a construção linearmente relaxada é: ')\n_, x_lr, z_lr = resolve_PPL(A, b, c)\nprint(f'y = {x_lr[0:5]}')\n\nprint('O vetor solução de itens em cada caixa, linearmente relaxado, é: ')\nresult = ''\nfor i in range(5):\n    result += '[ '\n    for j in range(5):\n        result += f'{x_lr[5 + 5*i + j]:+.2f} '\n    result += ']\\n'\nprint(result)\n\nnew_variables_names = variables_names + ',' + ','.join(f'n_{i+1:02d}' for i in range(A_prime.shape[1] - A.shape[1]))\n\nprint()\n\nprint('Todas as demais variáveis foram inteiras e portanto terão seus valores afixados')\nprint('Isso produz o seguinte subprograma inteiro para a segunda etapa do RENS:\\n')\nprint(\n    repr_LP_problem(A_prime, b_prime, c_prime, new_variables_names)\n)\n\nprint('O resultado da resolução do subprograma inteiro após a aplicação do RENS é: ')\n\nprint(f'y = {x[0:5]}')\n\nprint('O vetor solução de itens em cada caixa do subprograma inteiro é: ')\nresult = ''\nfor i in range(5):\n    result += '[ '\n    for j in range(5):\n        result += f'{x[5 + 5*i + j]:+.2f} '\n    result += ']\\n'\nprint(result)",
      "metadata": {
        "trusted": true
      },
      "outputs": [
        {
          "name": "stdout",
          "output_type": "stream",
          "text": "Ao executar a relaxação linear do RENS, as variáveis fracionárias e suas respectivas frações são: \nx_4_2 = 0.75\nx_4_3 = 0.25\nO vetor solução de caixas para a construção linearmente relaxada é: \ny = [0. 1. 1. 0. 0.]\nO vetor solução de itens em cada caixa, linearmente relaxado, é: \n[ +0.00 +0.00 +1.00 -0.00 +0.00 ]\n[ +0.00 +1.00 +0.00 +0.00 +0.00 ]\n[ +0.00 +0.00 +1.00 +0.00 +0.00 ]\n[ +0.00 +0.75 +0.25 +0.00 -0.00 ]\n[ -0.00 +1.00 +0.00 +0.00 +0.00 ]\n\n\nTodas as demais variáveis foram inteiras e portanto terão seus valores afixados\nIsso produz o seguinte subprograma inteiro para a segunda etapa do RENS:\n\nz = min +1.00 y_1 +1.00 y_2 +1.00 y_3 +1.00 y_4 +1.00 y_5\n\nSubject to:\n+1.00 x_1_1 +1.00 x_1_2 +1.00 x_1_3 +1.00 x_1_4 +1.00 x_1_5 = 1.00\n+1.00 x_2_1 +1.00 x_2_2 +1.00 x_2_3 +1.00 x_2_4 +1.00 x_2_5 = 1.00\n+1.00 x_3_1 +1.00 x_3_2 +1.00 x_3_3 +1.00 x_3_4 +1.00 x_3_5 = 1.00\n+1.00 x_4_1 +1.00 x_4_2 +1.00 x_4_3 +1.00 x_4_4 +1.00 x_4_5 = 1.00\n+1.00 x_5_1 +1.00 x_5_2 +1.00 x_5_3 +1.00 x_5_4 +1.00 x_5_5 = 1.00\n-10.00 y_1 +3.00 x_1_1 +5.00 x_2_1 +6.00 x_3_1 +4.00 x_4_1 +2.00 x_5_1 +1.00 s_1 = 0.00\n-10.00 y_2 +3.00 x_1_2 +5.00 x_2_2 +6.00 x_3_2 +4.00 x_4_2 +2.00 x_5_2 +1.00 s_2 = 0.00\n-10.00 y_3 +3.00 x_1_3 +5.00 x_2_3 +6.00 x_3_3 +4.00 x_4_3 +2.00 x_5_3 +1.00 s_3 = 0.00\n-10.00 y_4 +3.00 x_1_4 +5.00 x_2_4 +6.00 x_3_4 +4.00 x_4_4 +2.00 x_5_4 +1.00 s_4 = 0.00\n-10.00 y_5 +3.00 x_1_5 +5.00 x_2_5 +6.00 x_3_5 +4.00 x_4_5 +2.00 x_5_5 +1.00 s_5 = 0.00\n+1.00 y_1 +1.00 n_01 = 0.00\n+1.00 y_1 -1.00 n_02 = 0.00\n+1.00 y_2 +1.00 n_03 = 1.00\n+1.00 y_2 -1.00 n_04 = 1.00\n+1.00 y_3 +1.00 n_05 = 1.00\n+1.00 y_3 -1.00 n_06 = 1.00\n+1.00 y_4 +1.00 n_07 = 0.00\n+1.00 y_4 -1.00 n_08 = 0.00\n+1.00 y_5 +1.00 n_09 = 0.00\n+1.00 y_5 -1.00 n_10 = 0.00\n+1.00 x_1_1 +1.00 n_11 = 0.00\n+1.00 x_1_1 -1.00 n_12 = 0.00\n+1.00 x_1_2 +1.00 n_13 = 0.00\n+1.00 x_1_2 -1.00 n_14 = 0.00\n+1.00 x_1_3 +1.00 n_15 = 1.00\n+1.00 x_1_3 -1.00 n_16 = 1.00\n+1.00 x_1_4 +1.00 n_17 = -0.00\n+1.00 x_1_4 -1.00 n_18 = -0.00\n+1.00 x_1_5 +1.00 n_19 = 0.00\n+1.00 x_1_5 -1.00 n_20 = 0.00\n+1.00 x_2_1 +1.00 n_21 = 0.00\n+1.00 x_2_1 -1.00 n_22 = 0.00\n+1.00 x_2_2 +1.00 n_23 = 1.00\n+1.00 x_2_2 -1.00 n_24 = 1.00\n+1.00 x_2_3 +1.00 n_25 = 0.00\n+1.00 x_2_3 -1.00 n_26 = 0.00\n+1.00 x_2_4 +1.00 n_27 = 0.00\n+1.00 x_2_4 -1.00 n_28 = 0.00\n+1.00 x_2_5 +1.00 n_29 = 0.00\n+1.00 x_2_5 -1.00 n_30 = 0.00\n+1.00 x_3_1 +1.00 n_31 = 0.00\n+1.00 x_3_1 -1.00 n_32 = 0.00\n+1.00 x_3_2 +1.00 n_33 = 0.00\n+1.00 x_3_2 -1.00 n_34 = 0.00\n+1.00 x_3_3 +1.00 n_35 = 1.00\n+1.00 x_3_3 -1.00 n_36 = 1.00\n+1.00 x_3_4 +1.00 n_37 = 0.00\n+1.00 x_3_4 -1.00 n_38 = 0.00\n+1.00 x_3_5 +1.00 n_39 = 0.00\n+1.00 x_3_5 -1.00 n_40 = 0.00\n+1.00 x_4_1 +1.00 n_41 = 0.00\n+1.00 x_4_1 -1.00 n_42 = 0.00\n+1.00 x_4_4 +1.00 n_43 = 0.00\n+1.00 x_4_4 -1.00 n_44 = 0.00\n+1.00 x_4_5 +1.00 n_45 = -0.00\n+1.00 x_4_5 -1.00 n_46 = -0.00\n+1.00 x_5_1 +1.00 n_47 = -0.00\n+1.00 x_5_1 -1.00 n_48 = -0.00\n+1.00 x_5_2 +1.00 n_49 = 1.00\n+1.00 x_5_2 -1.00 n_50 = 1.00\n+1.00 x_5_3 +1.00 n_51 = 0.00\n+1.00 x_5_3 -1.00 n_52 = 0.00\n+1.00 x_5_4 +1.00 n_53 = 0.00\n+1.00 x_5_4 -1.00 n_54 = 0.00\n+1.00 x_5_5 +1.00 n_55 = 0.00\n+1.00 x_5_5 -1.00 n_56 = 0.00\n+1.00 s_1 +1.00 n_57 = 0.00\n+1.00 s_1 -1.00 n_58 = 0.00\n+1.00 s_2 +1.00 n_59 = 0.00\n+1.00 s_2 -1.00 n_60 = 0.00\n+1.00 s_3 +1.00 n_61 = 0.00\n+1.00 s_3 -1.00 n_62 = 0.00\n+1.00 s_4 +1.00 n_63 = 0.00\n+1.00 s_4 -1.00 n_64 = 0.00\n+1.00 s_5 +1.00 n_65 = 0.00\n+1.00 s_5 -1.00 n_66 = 0.00\n\nO resultado da resolução do subprograma inteiro após a aplicação do RENS é: \ny = [0. 1. 1. 0. 0.]\nO vetor solução de itens em cada caixa do subprograma inteiro é: \n[ +0.00 +1.00 +0.00 +0.00 +0.00 ]\n[ +0.00 +1.00 +0.00 +0.00 +0.00 ]\n[ +0.00 +0.00 +1.00 +0.00 +0.00 ]\n[ +0.00 +0.00 +1.00 +0.00 +0.00 ]\n[ +0.00 +1.00 +0.00 +0.00 +0.00 ]\n\n"
        }
      ],
      "execution_count": 111
    },
    {
      "id": "6aa9e143-dc48-4895-8509-2474a94fac39",
      "cell_type": "markdown",
      "source": "### letra b) - RINS",
      "metadata": {}
    },
    {
      "id": "a43549c5-9e4a-4119-b0e9-c413689a9fdf",
      "cell_type": "code",
      "source": "# x_tilde\n_ = np.vstack((\n    [1, 1, 1, 1, 1],\n    np.eye(5)\n))\n\nprint('Solução incumbente do rins: ')\nprint(_)\nprint()\n\n_ = _.ravel() # make it 1D\nx_tilde = np.zeros(A.shape[1])\nx_tilde[0:len(_)] = _\n\nfactivel, z, x, J, x_J, A_prime, b_prime, c_prime = rins(A, b, c, x_tilde)\n\nprint('Ao executar o RINS, as variáveis afixadas são:')\n\nfor j, v in zip(J, x_J):\n    print(f'{variables_names.split(',')[j]} = {v:.2f}')\n\nprint('O vetor solução de caixas para a construção linearmente relaxada é: ')\n_, x_lr, z_lr = resolve_PPL(A, b, c)\nprint(f'y = {x_lr[0:5]}')\n\nprint('O vetor solução de itens em cada caixa, linearmente relaxado, é: ')\nresult = ''\nfor i in range(5):\n    result += '[ '\n    for j in range(5):\n        result += f'{x_lr[5 + 5*i + j]:+.2f} '\n    result += ']\\n'\nprint(result)\n\nnew_variables_names = variables_names + ',' + ','.join(f'n_{i+1:02d}' for i in range(A_prime.shape[1] - A.shape[1]))\n\nprint()\n\nprint('Temos o seguinte subprograma inteiro como segunda etapa do RINS:\\n')\nprint(\n    repr_LP_problem(A_prime, b_prime, c_prime, new_variables_names)\n)\n\nprint('O resultado da resolução do subprograma inteiro após a aplicação do RINS é: ')\n\nprint(f'y = {x[0:5]}')\n\nprint('O vetor solução de itens em cada caixa do subprograma inteiro é: ')\nresult = ''\nfor i in range(5):\n    result += '[ '\n    for j in range(5):\n        result += f'{x[5 + 5*i + j]:+.2f} '\n    result += ']\\n'\nprint(result)",
      "metadata": {
        "trusted": true
      },
      "outputs": [
        {
          "name": "stdout",
          "output_type": "stream",
          "text": "Solução incumbente do rins: \n[[1. 1. 1. 1. 1.]\n [1. 0. 0. 0. 0.]\n [0. 1. 0. 0. 0.]\n [0. 0. 1. 0. 0.]\n [0. 0. 0. 1. 0.]\n [0. 0. 0. 0. 1.]]\n\nAo executar o RINS, as variáveis afixadas são:\ny_2 = 1.00\ny_3 = 1.00\nx_1_2 = 0.00\nx_1_4 = -0.00\nx_1_5 = 0.00\nx_2_1 = 0.00\nx_2_2 = 1.00\nx_2_3 = 0.00\nx_2_4 = 0.00\nx_2_5 = 0.00\nx_3_1 = 0.00\nx_3_2 = 0.00\nx_3_3 = 1.00\nx_3_4 = 0.00\nx_3_5 = 0.00\nx_4_1 = 0.00\nx_4_5 = -0.00\nx_5_1 = -0.00\nx_5_3 = 0.00\nx_5_4 = 0.00\ns_1 = 0.00\ns_2 = 0.00\ns_3 = 0.00\ns_4 = 0.00\ns_5 = 0.00\nO vetor solução de caixas para a construção linearmente relaxada é: \ny = [0. 1. 1. 0. 0.]\nO vetor solução de itens em cada caixa, linearmente relaxado, é: \n[ +0.00 +0.00 +1.00 -0.00 +0.00 ]\n[ +0.00 +1.00 +0.00 +0.00 +0.00 ]\n[ +0.00 +0.00 +1.00 +0.00 +0.00 ]\n[ +0.00 +0.75 +0.25 +0.00 -0.00 ]\n[ -0.00 +1.00 +0.00 +0.00 +0.00 ]\n\n\nTemos o seguinte subprograma inteiro como segunda etapa do RINS:\n\nz = min +1.00 y_1 +1.00 y_2 +1.00 y_3 +1.00 y_4 +1.00 y_5\n\nSubject to:\n+1.00 x_1_1 +1.00 x_1_2 +1.00 x_1_3 +1.00 x_1_4 +1.00 x_1_5 = 1.00\n+1.00 x_2_1 +1.00 x_2_2 +1.00 x_2_3 +1.00 x_2_4 +1.00 x_2_5 = 1.00\n+1.00 x_3_1 +1.00 x_3_2 +1.00 x_3_3 +1.00 x_3_4 +1.00 x_3_5 = 1.00\n+1.00 x_4_1 +1.00 x_4_2 +1.00 x_4_3 +1.00 x_4_4 +1.00 x_4_5 = 1.00\n+1.00 x_5_1 +1.00 x_5_2 +1.00 x_5_3 +1.00 x_5_4 +1.00 x_5_5 = 1.00\n-10.00 y_1 +3.00 x_1_1 +5.00 x_2_1 +6.00 x_3_1 +4.00 x_4_1 +2.00 x_5_1 +1.00 s_1 = 0.00\n-10.00 y_2 +3.00 x_1_2 +5.00 x_2_2 +6.00 x_3_2 +4.00 x_4_2 +2.00 x_5_2 +1.00 s_2 = 0.00\n-10.00 y_3 +3.00 x_1_3 +5.00 x_2_3 +6.00 x_3_3 +4.00 x_4_3 +2.00 x_5_3 +1.00 s_3 = 0.00\n-10.00 y_4 +3.00 x_1_4 +5.00 x_2_4 +6.00 x_3_4 +4.00 x_4_4 +2.00 x_5_4 +1.00 s_4 = 0.00\n-10.00 y_5 +3.00 x_1_5 +5.00 x_2_5 +6.00 x_3_5 +4.00 x_4_5 +2.00 x_5_5 +1.00 s_5 = 0.00\n+1.00 y_2 +1.00 n_01 = 1.00\n+1.00 y_2 -1.00 n_02 = 1.00\n+1.00 y_3 +1.00 n_03 = 1.00\n+1.00 y_3 -1.00 n_04 = 1.00\n+1.00 x_1_2 +1.00 n_05 = 0.00\n+1.00 x_1_2 -1.00 n_06 = 0.00\n+1.00 x_1_4 +1.00 n_07 = -0.00\n+1.00 x_1_4 -1.00 n_08 = -0.00\n+1.00 x_1_5 +1.00 n_09 = 0.00\n+1.00 x_1_5 -1.00 n_10 = 0.00\n+1.00 x_2_1 +1.00 n_11 = 0.00\n+1.00 x_2_1 -1.00 n_12 = 0.00\n+1.00 x_2_2 +1.00 n_13 = 1.00\n+1.00 x_2_2 -1.00 n_14 = 1.00\n+1.00 x_2_3 +1.00 n_15 = 0.00\n+1.00 x_2_3 -1.00 n_16 = 0.00\n+1.00 x_2_4 +1.00 n_17 = 0.00\n+1.00 x_2_4 -1.00 n_18 = 0.00\n+1.00 x_2_5 +1.00 n_19 = 0.00\n+1.00 x_2_5 -1.00 n_20 = 0.00\n+1.00 x_3_1 +1.00 n_21 = 0.00\n+1.00 x_3_1 -1.00 n_22 = 0.00\n+1.00 x_3_2 +1.00 n_23 = 0.00\n+1.00 x_3_2 -1.00 n_24 = 0.00\n+1.00 x_3_3 +1.00 n_25 = 1.00\n+1.00 x_3_3 -1.00 n_26 = 1.00\n+1.00 x_3_4 +1.00 n_27 = 0.00\n+1.00 x_3_4 -1.00 n_28 = 0.00\n+1.00 x_3_5 +1.00 n_29 = 0.00\n+1.00 x_3_5 -1.00 n_30 = 0.00\n+1.00 x_4_1 +1.00 n_31 = 0.00\n+1.00 x_4_1 -1.00 n_32 = 0.00\n+1.00 x_4_5 +1.00 n_33 = -0.00\n+1.00 x_4_5 -1.00 n_34 = -0.00\n+1.00 x_5_1 +1.00 n_35 = -0.00\n+1.00 x_5_1 -1.00 n_36 = -0.00\n+1.00 x_5_3 +1.00 n_37 = 0.00\n+1.00 x_5_3 -1.00 n_38 = 0.00\n+1.00 x_5_4 +1.00 n_39 = 0.00\n+1.00 x_5_4 -1.00 n_40 = 0.00\n+1.00 s_1 +1.00 n_41 = 0.00\n+1.00 s_1 -1.00 n_42 = 0.00\n+1.00 s_2 +1.00 n_43 = 0.00\n+1.00 s_2 -1.00 n_44 = 0.00\n+1.00 s_3 +1.00 n_45 = 0.00\n+1.00 s_3 -1.00 n_46 = 0.00\n+1.00 s_4 +1.00 n_47 = 0.00\n+1.00 s_4 -1.00 n_48 = 0.00\n+1.00 s_5 +1.00 n_49 = 0.00\n+1.00 s_5 -1.00 n_50 = 0.00\n\nO resultado da resolução do subprograma inteiro após a aplicação do RINS é: \ny = [0. 1. 1. 0. 0.]\nO vetor solução de itens em cada caixa do subprograma inteiro é: \n[ +0.00 +1.00 +0.00 +0.00 +0.00 ]\n[ +0.00 +1.00 +0.00 +0.00 +0.00 ]\n[ +0.00 +0.00 +1.00 +0.00 +0.00 ]\n[ +0.00 +0.00 +1.00 +0.00 +0.00 ]\n[ +0.00 +1.00 +0.00 +0.00 +0.00 ]\n\n"
        }
      ],
      "execution_count": 115
    },
    {
      "id": "4c567781-de31-4750-9f0e-53a88d061139",
      "cell_type": "markdown",
      "source": "### letra c)\n\nConsiderando um particionamento à minha escolha e a solução incumbente proposta, escolho de fato afixar os valores não nulos da solução incumbente pela conveniẽncia da resolução.\n\nNão vai alterar nada, pois, essa afixação da solução incumbente que é factível não permite quaisquer modificações nos valores das demais variáveis que minimize o problema em tela.\n\nSe eu fizesse um particionamento menor, eu iria ter multiplas formulações de subproblemas para cada particionamento e iria ficar gigante a minha resposta.",
      "metadata": {}
    },
    {
      "id": "3bdffba0-0748-4f2f-b2b9-b7f19e509a9f",
      "cell_type": "markdown",
      "source": "## Exercício 2\n\n![](https://i.imgur.com/Bp54CW9.png)\n\n$\\bar{x} = [0.44, 1, 0.11, 1]$\n\n### letra a)\n\nAplicando RENS considerando a solução relaxada $\\bar{x}$ afixaríamos $x_2 = x_4 = 1$\n\nIsso resultaria no seguinte subproblema:\n\n$$\n\\begin{align}\n    & \\text{max}\\ z & = 6 x_1 + 5 x_3 + 7 \\\\\n    & \\text{s. t.}\\ \\\\\n    & & 5 x_1 + 7 x_3 \\leq 3 \\\\\n    & & 4 x_1 + 2 x_3 \\leq 2\n\\end{align}\n$$\n\nE a solução obtida é obrigatoriamente $x^{*} = [0, 1, 0, 1], \\ z^{*} = 7$",
      "metadata": {}
    },
    {
      "id": "1b2a1231-53e3-40c2-84ea-6b148879a63e",
      "cell_type": "markdown",
      "source": "### letra b)\n\nA distância de hamming entre dois vetores binários refere-se ao número de posições em que estes dois vetores se diferem.\n\nSe considerarmos uma distância de Hamming de 1, teremos que comutar um único bit da solução e não podemos comutar 1 e 3 pois, isso torna a solução inviável.\n\nNesse caso, opta-se por comutar o bit $x_4$  para causar a menor diminuição possível na função objetivo e nesse caso, a melhor solução possível é $x^{*} = [0, 1, 0, 0], \\ z^{*} = 4$",
      "metadata": {}
    },
    {
      "id": "46230eec-3329-4b99-aec9-900f5d74f668",
      "cell_type": "markdown",
      "source": "### letra c)\n\nAgora podemos comutar até dois bits.\n\nLigar um e desligar outro, por exemplo.\n\nA melhor solução que pode ser encontrada para a vizinhança de tamanho 2 da solução gerada pelo RENS é:\n\n$$\n\\begin{align}\nx^{*} = [1, 1, 0, 0] \\\\\nz^{*} = 10\n\\end{align}\n$$\n\nObtida pela comutação dos bits 4 e 2 da solução obtida no RENS",
      "metadata": {}
    }
  ]
}