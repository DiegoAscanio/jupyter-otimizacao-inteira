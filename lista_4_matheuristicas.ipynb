{
  "metadata": {
    "kernelspec": {
      "name": "python",
      "display_name": "Python (Pyodide)",
      "language": "python"
    },
    "language_info": {
      "codemirror_mode": {
        "name": "python",
        "version": 3
      },
      "file_extension": ".py",
      "mimetype": "text/x-python",
      "name": "python",
      "nbconvert_exporter": "python",
      "pygments_lexer": "ipython3",
      "version": "3.8"
    }
  },
  "nbformat_minor": 5,
  "nbformat": 4,
  "cells": [
    {
      "id": "6ddb586b-a317-4c3d-b0d8-d02b9dc87d58",
      "cell_type": "markdown",
      "source": "**Preâmbulo**",
      "metadata": {}
    },
    {
      "id": "f5f4e9e1-27c7-456f-a321-63a4ac8baa83",
      "cell_type": "code",
      "source": "%pip install numpy\n\ndef repr_constraints(A, b, variables_names : list | str):\n    if type(variables_names) == str:\n        variables_names = variables_names.split(',')\n    result = ''\n    for i, constraint in enumerate(A):\n        variables = []\n        for j, coefficient in enumerate(constraint):\n            if coefficient:\n                variables.append(\n                    f'{coefficient:+.2f} {variables_names[j]}'\n                )\n        result += ' '.join(variables) + ' = ' + f'{b[i]:.2f}\\n'\n    return result\n\ndef repr_objective_function(c, variables_names : list | str):\n    if type(variables_names) == str:\n        variables_names = variables_names.split(',')\n    variables = []\n    for j, coefficient in enumerate(c):\n        if coefficient:\n            variables.append(\n                f'{coefficient:+.2f} {variables_names[j]}'\n            )\n    result = 'z = min ' + ' '.join(variables) + '\\n'\n    return result\n\ndef repr_LP_problem(A, b, c, variables_names):\n    return repr_objective_function(\n        c, variables_names\n    ) + '\\nSubject to:\\n' + repr_constraints(\n        A, b, variables_names\n    )",
      "metadata": {
        "trusted": true
      },
      "outputs": [],
      "execution_count": 50
    },
    {
      "id": "1bea57b1-a548-4508-ae72-ba00ac10db16",
      "cell_type": "markdown",
      "source": "### Exercício 1",
      "metadata": {}
    },
    {
      "id": "90535c77-e5f8-4d3d-a2e7-81b6ecc920e5",
      "cell_type": "code",
      "source": "from formulacao_bin_packing_lista_4_exercicio_1 import A, b, c, variables_names",
      "metadata": {
        "trusted": true
      },
      "outputs": [],
      "execution_count": 51
    },
    {
      "id": "c666b888-f9da-40ec-b183-6f10d7760932",
      "cell_type": "code",
      "source": "print(repr_LP_problem(A, b, c, variables_names))",
      "metadata": {
        "trusted": true
      },
      "outputs": [
        {
          "name": "stdout",
          "output_type": "stream",
          "text": "z = min +1.00 y_1 +1.00 y_2 +1.00 y_3 +1.00 y_4 +1.00 y_5\n\nSubject to:\n+1.00 x_1_1 +1.00 x_1_2 +1.00 x_1_3 +1.00 x_1_4 +1.00 x_1_5 = 1.00\n+1.00 x_2_1 +1.00 x_2_2 +1.00 x_2_3 +1.00 x_2_4 +1.00 x_2_5 = 1.00\n+1.00 x_3_1 +1.00 x_3_2 +1.00 x_3_3 +1.00 x_3_4 +1.00 x_3_5 = 1.00\n+1.00 x_4_1 +1.00 x_4_2 +1.00 x_4_3 +1.00 x_4_4 +1.00 x_4_5 = 1.00\n+1.00 x_5_1 +1.00 x_5_2 +1.00 x_5_3 +1.00 x_5_4 +1.00 x_5_5 = 1.00\n-10.00 y_1 +3.00 x_1_1 +5.00 x_2_1 +6.00 x_3_1 +4.00 x_4_1 +2.00 x_5_1 +1.00 s_1 = 0.00\n-10.00 y_2 +3.00 x_1_2 +5.00 x_2_2 +6.00 x_3_2 +4.00 x_4_2 +2.00 x_5_2 +1.00 s_2 = 0.00\n-10.00 y_3 +3.00 x_1_3 +5.00 x_2_3 +6.00 x_3_3 +4.00 x_4_3 +2.00 x_5_3 +1.00 s_3 = 0.00\n-10.00 y_4 +3.00 x_1_4 +5.00 x_2_4 +6.00 x_3_4 +4.00 x_4_4 +2.00 x_5_4 +1.00 s_4 = 0.00\n-10.00 y_5 +3.00 x_1_5 +5.00 x_2_5 +6.00 x_3_5 +4.00 x_4_5 +2.00 x_5_5 +1.00 s_5 = 0.00\n\n"
        }
      ],
      "execution_count": 52
    },
    {
      "id": "56a54af9-58c3-4f81-8d14-f7c313e7fd5d",
      "cell_type": "code",
      "source": "",
      "metadata": {
        "trusted": true
      },
      "outputs": [],
      "execution_count": null
    }
  ]
}