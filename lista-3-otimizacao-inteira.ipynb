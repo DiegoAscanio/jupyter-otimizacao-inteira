{
  "metadata": {
    "kernelspec": {
      "name": "python",
      "display_name": "Python (Pyodide)",
      "language": "python"
    },
    "language_info": {
      "codemirror_mode": {
        "name": "python",
        "version": 3
      },
      "file_extension": ".py",
      "mimetype": "text/x-python",
      "name": "python",
      "nbconvert_exporter": "python",
      "pygments_lexer": "ipython3",
      "version": "3.8"
    }
  },
  "nbformat_minor": 5,
  "nbformat": 4,
  "cells": [
    {
      "id": "d9a611dc-7c6d-4655-b70f-b59f5f082830",
      "cell_type": "markdown",
      "source": "# Preâmbulo",
      "metadata": {}
    },
    {
      "id": "82a65ae5-5975-4577-ba46-06e227b38741",
      "cell_type": "code",
      "source": "%load_ext autoreload\n%autoreload 2\n%pip install numpy scipy\nimport numpy as np\nfrom dual_simplex import dual_simplex, _dual_feasible_basis, _is_dual_feasible\nfrom gommory_cuts import cutting_planes\nfrom scipy.optimize import linprog\nfrom IPython.display import display, HTML, Markdown, Latex, SVG, Math",
      "metadata": {
        "trusted": true
      },
      "outputs": [
        {
          "name": "stdout",
          "output_type": "stream",
          "text": "The autoreload extension is already loaded. To reload it, use:\n  %reload_ext autoreload\n"
        }
      ],
      "execution_count": 28
    },
    {
      "id": "ef630ba5-acd0-4f99-8f32-8fa1ab223937",
      "cell_type": "markdown",
      "source": "![](https://i.imgur.com/aAmyuEt.png)",
      "metadata": {},
      "attachments": {}
    },
    {
      "id": "48397546-2342-472d-bc0c-3e5521edf421",
      "cell_type": "code",
      "source": "A = np.array([\n    [3, 5, 4, 1]\n])\nb = np.array([\n    14\n])\nc = -np.array([\n    6, 9, 7, 0\n])\n\nm, n = A.shape\n\nI = list(\n    range(n - m,  n)\n)\n\nA_aux, b_aux, c_aux, I_aux, J_aux = _dual_feasible_basis(A, b, c, I)\nz_star, x_star, w_star, I_star, iters, solution_type, steps = dual_simplex(A_aux, b_aux, c_aux, I_aux)\n\nx_star_repr = f'[ {', \\\\ '.join([str(f'{x:.2f}') for x in x_star])} ]'\nx_star_repr_restricted = f'[ {', \\\\ '.join([str(f'{x:.2f}') for x in x_star[:3]])} ]'\nI_star_repr = f'[ {', \\\\ '.join([str(f'{i:d}') for i in I_star])} ]'\n\nmarkdown_content = f'''\n## 1. a)\n\n**Solução ótima para o problema relaxado:**\n\n\\\\begin{{align}}\n    z^{{*}} &= {-z_star:.2f} \\\\\\\\\n    x^{{*}} &= {x_star_repr} \\\\\\\\\n    I^{{*}} &= {I_star_repr}\n\\\\end{{align}}\n\nA variável $x_4 = {x_star[-1]:.2f}$ é obtida pela adição de um corte big M no método dual simplex para transformar a base inicial como dual factível.\nNo caso, a solução ótima do problema é dada apenas por $ x^{{*}} = {x_star_repr_restricted} $, com $ z^{{*}} = {-z_star:.2f}$.\n'''\ndisplay(\n    Markdown(markdown_content)\n)",
      "metadata": {
        "trusted": true
      },
      "outputs": [
        {
          "output_type": "display_data",
          "data": {
            "text/plain": "<IPython.core.display.Markdown object>",
            "text/markdown": "\n## 1. a)\n\n**Solução ótima para o problema relaxado:**\n\n\\begin{align}\n    z^{*} &= 28.00 \\\\\n    x^{*} &= [ 4.67, \\ 0.00, \\ 0.00, \\ 0.00, \\ 14331.33 ] \\\\\n    I^{*} &= [ 0, \\ 4 ]\n\\end{align}\n\nA variável $x_4 = 14331.33$ é obtida pela adição de um corte big M no método dual simplex para transformar a base inicial como dual factível.\nNo caso, a solução ótima do problema é dada apenas por $ x^{*} = [ 4.67, \\ 0.00, \\ 0.00 ] $, com $ z^{*} = 28.00$.\n"
          },
          "metadata": {}
        }
      ],
      "execution_count": 26
    },
    {
      "id": "eed3b143-9718-445f-9e83-0536e957de8e",
      "cell_type": "markdown",
      "source": "## 1. b)",
      "metadata": {}
    },
    {
      "id": "e8849648-bace-4c1a-b571-26707e53fa00",
      "cell_type": "code",
      "source": "def display_cut(coefs, type = 'gommory'):\n    \"\"\"\n    mostra o corte efetuado no formato LaTeX.\n    Assume que:\n    - os n primeiros coeficientes são variáveis (x_0 a x_{n-1}),\n    - o penúltimo é a variável de excesso (omitida),\n    - o último é o lado direito (rhs).\n    \"\"\"\n    terms = []\n    n = len(coefs) - 2  # número de variáveis \"reais\"\n\n    for i in range(n):\n        coef = coefs[i]\n        if coef == 0:\n            continue\n\n        abs_coef = abs(coef)\n        var_str = f\"x_{i}\" if abs_coef == 1 else f\"{abs_coef:.2f} x_{i}\"\n\n        if not terms:\n            # primeiro termo\n            term = f\"-{var_str}\" if coef < 0 else f\"{var_str}\"\n        else:\n            sign = \"+\" if coef > 0 else \"-\"\n            term = f\"{sign} {var_str}\"\n\n        terms.append(term)\n\n    rhs = coefs[-1]\n\n    if type == 'gommory':\n        ineq = '\\\\geq'\n    elif type == 'cover':\n        ineq = '\\\\leq' \n    else:\n        raise Exception('Invalid Cut')\n\n    if not terms:\n        return f\"& 0 {ineq} {rhs:.2f}\"\n\n    lhs = \" \".join(terms)\n    return f\"&{lhs} {ineq} {rhs:.2f} \"\n\nz_star, x_star, I_star, iters, solution_type, steps = cutting_planes(\n    A,\n    b,\n    c,\n    I\n)\ncuts = '$$\\\\begin{align}'\nfor step in steps:\n    if steps[step]['cut_performed']:\n        cuts += display_cut(steps[step]['cut_row']) + '\\\\\\\\\\n'\ncuts += '\\\\end{align}$$'\nMarkdown(cuts)",
      "metadata": {
        "trusted": true
      },
      "outputs": [
        {
          "execution_count": 77,
          "output_type": "execute_result",
          "data": {
            "text/plain": "<IPython.core.display.Markdown object>",
            "text/markdown": "$$\\begin{align}&0.75 x_2 + 0.25 x_4 + 0.75 x_5 + 0.50 x_8 \\geq 0.50 \\\\\n&0.89 x_4 + 0.67 x_6 + 0.44 x_8 + 0.78 x_10 \\geq 0.44 \\\\\n&0.67 x_4 + 0.33 x_8 + 0.83 x_10 + 0.50 x_11 \\geq 0.33 \\\\\n&0.50 x_8 + 0.75 x_10 + 0.25 x_11 + 0.50 x_12 \\geq 0.50 \\\\\n\\end{align}$$"
          },
          "metadata": {}
        }
      ],
      "execution_count": 77
    },
    {
      "id": "427c0fb8-7ee7-42cf-88b9-75c0398ceb28",
      "cell_type": "code",
      "source": "print(x_star)\nprint(-z_star)",
      "metadata": {
        "trusted": true
      },
      "outputs": [
        {
          "name": "stdout",
          "output_type": "stream",
          "text": "[3.00000000e+00 1.00000000e+00 9.09494702e-13 0.00000000e+00\n 1.43320000e+04 0.00000000e+00 0.00000000e+00]\n26.99999999999909\n"
        }
      ],
      "execution_count": 68
    },
    {
      "id": "c8c60259-00ca-46db-8185-a2dfe97fe6a4",
      "cell_type": "markdown",
      "source": "![](https://i.imgur.com/AdkLHpH.png)\n\n## 2. a)\n\n**Coberturas mínimas:**\n\n$$\n\\begin{align}\n    & 5 x\\_1 + 7 x\\_ 3 > 9 \\\\\n    & 4 x\\_2 + 7 x\\_ 3 > 9 \\\\\n    & 5 x\\_1 + 4 x\\_ 2 + 2 x\\_4 > 9\n\\end{align}\n$$\n\n**Cortes de cobertura mínimos:**\n$$\n\\begin{align}\n    & x\\_1 + x\\_3 \\leq 1 \\\\\n    & x\\_2 + x\\_3 \\leq 1 \\\\\n    & x\\_1 + x\\_2 + x\\_4 \\leq 2\n\\end{align}\n$$",
      "metadata": {}
    },
    {
      "id": "80a2600b-8d27-4103-8883-96d05c68706e",
      "cell_type": "code",
      "source": "from cover_cuts import _sequential_lifting\n\nweights = [5, 4, 7, 2]\nknapsack_capacity = 9\n\nextended_cuts = r'''$$\n\\begin{align}\n'''\n# primeira cobertura minima: x_0 + x_2 <= 1\nminimal_covers = [\n    [1, 0, 1, 0],\n    [0, 1, 1, 0],\n    [1, 1, 0, 1]\n]\nfor y in minimal_covers:\n    beta = np.sum(y) - 1\n    extended_y = _sequential_lifting(\n        y,\n        beta,\n        weights,\n        knapsack_capacity\n    )\n    cut = display_cut(\n        np.concatenate(\n            (extended_y, [1, beta])\n        ),\n        type = 'cover'\n    )\n    extended_cuts += cut\n    extended_cuts += r'\\\\' + '\\n'\nextended_cuts += r'''\\end{align}\n$$\n'''\nmarkdown_text = '''\nFazendo o lifting dos cortes propostos:\n\n'''\nmarkdown_text += extended_cuts\nmarkdown_text += '''\nÉ possível observar que infelizmente não foi possível adicionar aos cortes mínimos encontrados quaisquer outras variáveis para deixar os cortes ainda mais fortes.\n'''\nMarkdown(markdown_text)",
      "metadata": {
        "trusted": true
      },
      "outputs": [
        {
          "execution_count": 86,
          "output_type": "execute_result",
          "data": {
            "text/plain": "<IPython.core.display.Markdown object>",
            "text/markdown": "\nFazendo o lifting dos cortes propostos:\n\n$$\n\\begin{align}\n&x_0 + x_2 \\leq 1.00 \\\\\n&x_1 + x_2 \\leq 1.00 \\\\\n&x_0 + x_1 + x_3 \\leq 2.00 \\\\\n\\end{align}\n$$\n\nÉ possível observar que infelizmente não foi possível adicionar aos cortes mínimos encontrados quaisquer outras variáveis para deixar os cortes ainda mais fortes.\n"
          },
          "metadata": {}
        }
      ],
      "execution_count": 86
    },
    {
      "id": "4d151143-f561-47a8-9e0f-2138a1766a7a",
      "cell_type": "markdown",
      "source": "É possível observar pelo código abaixo que o lifting foi tentado, mas, não foi possível adicionar nenhuma variável a mais nos cortes mínimos propostos.\n\n```python\n\nextended_cuts = r'''$$\n\\begin{align}\n'''\n# primeira cobertura minima: x_0 + x_2 <= 1\nminimal_covers = [\n    [1, 0, 1, 0],\n    [0, 1, 1, 0],\n    [1, 1, 0, 1]\n]\nfor y in minimal_covers:\n    beta = np.sum(y) - 1\n    extended_y = _sequential_lifting(\n        y,\n        beta,\n        weights,\n        knapsack_capacity\n    )\n    cut = display_cut(\n        np.concatenate(\n            (extended_y, [1, beta])\n        ),\n        type = 'cover'\n    )\n    extended_cuts += cut\n    extended_cuts += r'\\\\' + '\\n'\nextended_cuts += r'''\\end{align}\n$$\n'''\n\n```",
      "metadata": {}
    },
    {
      "id": "ae388d82-9bee-449d-babc-3f989eaeba83",
      "cell_type": "markdown",
      "source": "## 2. b)",
      "metadata": {}
    },
    {
      "id": "cbd5760a-3d82-4c49-aa2f-2e5361bb00ad",
      "cell_type": "code",
      "source": "A = np.array([\n    [5, 4, 7, 2, 1, 0, 0, 0, 0],\n    [1, 0, 0, 0, 0, 1, 0, 0, 0],\n    [0, 1, 0, 0, 0, 0, 1, 0, 0],\n    [0, 0, 1, 0, 0, 0, 0, 1, 0],\n    [0, 0, 0, 1, 0, 0, 0, 0, 1]\n])\nb = np.array([\n    9,\n    1,\n    1,\n    1,\n    1\n])\nc = -np.array([\n    6, 4, 5, 3, 0, 0, 0, 0, 0\n])\n\nm, n = A.shape\n\nI = list(\n    range(n - m,  n)\n)\n\nA_aux, b_aux, c_aux, I_aux, J_aux = _dual_feasible_basis(A, b, c, I)\nz_star, x_star, w_star, I_star, iters, solution_type, steps = dual_simplex(A_aux, b_aux, c_aux, I_aux)\n\nx_star_repr = f'[ {', \\\\ '.join([str(f'{x:.2f}') for x in x_star])} ]'\nx_star_repr_restricted = f'[ {', \\\\ '.join([str(f'{x:.2f}') for x in x_star[:4]])} ]'\nI_star_repr = f'[ {', \\\\ '.join([str(f'{i:d}') for i in I_star])} ]'\n\nmarkdown_content = f'''\n## 2. b)\n\n**Solução ótima para o problema relaxado:**\n\n\\\\begin{{align}}\n    z^{{*}} &= {-z_star:.2f} \\\\\\\\\n    x^{{*}} &= {x_star_repr} \\\\\\\\\n    I^{{*}} &= {I_star_repr}\n\\\\end{{align}}\n\nA variável $x_9 = {x_star[-1]:.2f}$ é obtida pela adição de um corte big M no método dual simplex para transformar a base inicial como dual factível.\nNo caso, a solução ótima do problema é dada apenas por $ x^{{*}} = {x_star_repr_restricted} $, com $ z^{{*}} = {-z_star:.2f}$.\n'''\ndisplay(\n    Markdown(markdown_content)\n)",
      "metadata": {
        "trusted": true
      },
      "outputs": [
        {
          "output_type": "display_data",
          "data": {
            "text/plain": "<IPython.core.display.Markdown object>",
            "text/markdown": "\n## 2. b)\n\n**Solução ótima para o problema relaxado:**\n\n\\begin{align}\n    z^{*} &= 11.00 \\\\\n    x^{*} &= [ 1.00, \\ 0.50, \\ 0.00, \\ 1.00, \\ 0.00, \\ 0.00, \\ 0.50, \\ 1.00, \\ 0.00, \\ 9213.50 ] \\\\\n    I^{*} &= [ 3, \\ 1, \\ 6, \\ 7, \\ 9, \\ 0 ]\n\\end{align}\n\nA variável $x_9 = 9213.50$ é obtida pela adição de um corte big M no método dual simplex para transformar a base inicial como dual factível.\nNo caso, a solução ótima do problema é dada apenas por $ x^{*} = [ 1.00, \\ 0.50, \\ 0.00, \\ 1.00 ] $, com $ z^{*} = 11.00$.\n"
          },
          "metadata": {}
        }
      ],
      "execution_count": 87
    },
    {
      "id": "4b1b7146-8e0b-4d66-be1e-290712dc1db8",
      "cell_type": "markdown",
      "source": "## 2. c)\n\nOs cortes de cobertura que eliminam a solução fracional do problema relaxado são: \n\n$$\n\\begin{align}\n    & x_0 + x_1 + x_3 \\leq 2.00 \\\\\n    & x_0 + x_2 \\leq 1.00\n\\end{align}\n$$\n\nAdicionando estes cortes e resolvendo o problema, temos por solução:",
      "metadata": {}
    },
    {
      "id": "7b1e1f35-c750-41b7-8487-154cddb993d5",
      "cell_type": "code",
      "source": "A = np.array([\n    [5, 4, 7, 2, 1, 0, 0, 0, 0, 0, 0],\n    [1, 0, 0, 0, 0, 1, 0, 0, 0, 0, 0],\n    [0, 1, 0, 0, 0, 0, 1, 0, 0, 0, 0],\n    [0, 0, 1, 0, 0, 0, 0, 1, 0, 0, 0],\n    [0, 0, 0, 1, 0, 0, 0, 0, 1, 0, 0],\n    [1, 1, 0, 1, 0, 0, 0, 0, 0, 1, 0],\n    [1, 0, 1, 0, 0, 0, 0, 0, 0, 0, 1]\n])\nb = np.array([\n    9,\n    1,\n    1,\n    1,\n    1,\n    2,\n    1\n])\nc = -np.array([\n    6, 4, 5, 3, 0, 0, 0, 0, 0, 0, 0\n])\n\nm, n = A.shape\n\nI = list(\n    range(n - m,  n)\n)\n\nA_aux, b_aux, c_aux, I_aux, J_aux = _dual_feasible_basis(A, b, c, I)\nz_star, x_star, w_star, I_star, iters, solution_type, steps = dual_simplex(A_aux, b_aux, c_aux, I_aux)\n\nx_star_repr = f'[ {', \\\\ '.join([str(f'{x:.2f}') for x in x_star])} ]'\nx_star_repr_restricted = f'[ {', \\\\ '.join([str(f'{x:.2f}') for x in x_star[:4]])} ]'\nI_star_repr = f'[ {', \\\\ '.join([str(f'{i:d}') for i in I_star])} ]'\n\nmarkdown_content = f'''\n## 2. c)\n\n**Solução ótima para o problema com os cortes de cobertura efetuados:**\n\n\\\\begin{{align}}\n    z^{{*}} &= {-z_star:.2f} \\\\\\\\\n    x^{{*}} &= {x_star_repr} \\\\\\\\\n    I^{{*}} &= {I_star_repr}\n\\\\end{{align}}\n\nA variável $x_{{11}} = {x_star[-1]:.2f}$ é obtida pela adição de um corte big M no método dual simplex para transformar a base inicial como dual factível.\nNo caso, a solução ótima do problema é dada apenas por $ x^{{*}} = {x_star_repr_restricted} $, com $ z^{{*}} = {-z_star:.2f}$.\n'''\ndisplay(\n    Markdown(markdown_content)\n)\n\nprint(markdown_content)",
      "metadata": {
        "trusted": true
      },
      "outputs": [
        {
          "output_type": "display_data",
          "data": {
            "text/plain": "<IPython.core.display.Markdown object>",
            "text/markdown": "\n## 2. c)\n\n**Solução ótima para o problema com os cortes de cobertura efetuados:**\n\n\\begin{align}\n    z^{*} &= 10.00 \\\\\n    x^{*} &= [ 1.00, \\ 1.00, \\ 0.00, \\ 0.00, \\ 0.00, \\ 0.00, \\ 0.00, \\ 1.00, \\ 1.00, \\ 0.00, \\ 0.00, \\ 9214.00 ] \\\\\n    I^{*} &= [ 5, \\ 1, \\ 6, \\ 7, \\ 11, \\ 2, \\ 8, \\ 0 ]\n\\end{align}\n\nA variável $x_{11} = 9214.00$ é obtida pela adição de um corte big M no método dual simplex para transformar a base inicial como dual factível.\nNo caso, a solução ótima do problema é dada apenas por $ x^{*} = [ 1.00, \\ 1.00, \\ 0.00, \\ 0.00 ] $, com $ z^{*} = 10.00$.\n"
          },
          "metadata": {}
        },
        {
          "name": "stdout",
          "output_type": "stream",
          "text": "\n## 2. c)\n\n**Solução ótima para o problema com os cortes de cobertura efetuados:**\n\n\\begin{align}\n    z^{*} &= 10.00 \\\\\n    x^{*} &= [ 1.00, \\ 1.00, \\ 0.00, \\ 0.00, \\ 0.00, \\ 0.00, \\ 0.00, \\ 1.00, \\ 1.00, \\ 0.00, \\ 0.00, \\ 9214.00 ] \\\\\n    I^{*} &= [ 5, \\ 1, \\ 6, \\ 7, \\ 11, \\ 2, \\ 8, \\ 0 ]\n\\end{align}\n\nA variável $x_{11} = 9214.00$ é obtida pela adição de um corte big M no método dual simplex para transformar a base inicial como dual factível.\nNo caso, a solução ótima do problema é dada apenas por $ x^{*} = [ 1.00, \\ 1.00, \\ 0.00, \\ 0.00 ] $, com $ z^{*} = 10.00$.\n\n"
        }
      ],
      "execution_count": 93
    },
    {
      "id": "d7e9dfee-c6d1-4c2d-8c39-16b3caab8159",
      "cell_type": "code",
      "source": "",
      "metadata": {
        "trusted": true
      },
      "outputs": [],
      "execution_count": null
    }
  ]
}