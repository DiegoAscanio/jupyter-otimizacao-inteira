{
  "metadata": {
    "kernelspec": {
      "name": "python",
      "display_name": "Python (Pyodide)",
      "language": "python"
    },
    "language_info": {
      "codemirror_mode": {
        "name": "python",
        "version": 3
      },
      "file_extension": ".py",
      "mimetype": "text/x-python",
      "name": "python",
      "nbconvert_exporter": "python",
      "pygments_lexer": "ipython3",
      "version": "3.8"
    }
  },
  "nbformat_minor": 4,
  "nbformat": 4,
  "cells": [
    {
      "cell_type": "markdown",
      "source": "# Exemplos Cutting Planes\n\n**Preâmbulo**",
      "metadata": {}
    },
    {
      "cell_type": "code",
      "source": "%load_ext autoreload\n%autoreload 2\n%pip install numpy scipy\nimport numpy as np\nfrom gommory_cuts import cutting_planes, _non_integer_mask\nfrom scipy.optimize import milp, LinearConstraint",
      "metadata": {
        "trusted": true
      },
      "outputs": [
        {
          "name": "stdout",
          "output_type": "stream",
          "text": "The autoreload extension is already loaded. To reload it, use:\n  %reload_ext autoreload\n"
        }
      ],
      "execution_count": 49
    },
    {
      "cell_type": "markdown",
      "source": "## Exemplo 5.12",
      "metadata": {}
    },
    {
      "cell_type": "code",
      "source": "A = np.array([\n    [ 2, -1,  1, -2, 1, 0,  0,  0,  0],\n    [-1,  2, -1,  1, 0, 1,  0,  0,  0],\n    [ 2,  1, -1,  0, 0, 0, -1,  0,  0],\n    [ 0,  1,  0,  0, 0, 0,  0, -1,  0],\n    [ 0,  0,  0,  1, 0, 0,  0,  0, -1]\n])\nb = np.array([\n    6,\n    8,\n    2,\n    1,\n    2\n])\nc = np.array([\n    1, 2, 3, -1, 0, 0, 0, 0, 0\n])\n\nm, n = A.shape\n\nI = list(\n    range(n - m,  n)\n)\n\nz_star, x_star, I_star, iters, solution_type, steps = cutting_planes(A, b, c, I)\nz_star, x_star",
      "metadata": {
        "trusted": true
      },
      "outputs": [
        {
          "execution_count": 76,
          "output_type": "execute_result",
          "data": {
            "text/plain": "(np.float64(-4.0),\n array([4.092e+03, 1.000e+00, 0.000e+00, 4.098e+03, 1.900e+01, 0.000e+00,\n        8.183e+03, 0.000e+00, 4.096e+03, 1.000e+00, 0.000e+00]))"
          },
          "metadata": {}
        }
      ],
      "execution_count": 76
    },
    {
      "cell_type": "markdown",
      "source": "**Comparação com o Scipy**",
      "metadata": {}
    },
    {
      "cell_type": "code",
      "source": "constraints = LinearConstraint(A, b, b)\nintegrality = np.array([1] * (n - m) + [0] * m)\nres = milp(\n    c = c,\n    constraints = constraints,\n    integrality = integrality\n)\n\nfirst_condition = np.isclose(z_star, res.fun) # z_star == z solver\nfirst_condition &= np.all(~_non_integer_mask(x_star[0:(n - m)])) # x_star should be integer at the expected integer indices\nsecond_condition = np.all(A @ x_star[0:9] <= b) # All x_star without artificial variables feasible\nsecond_condition &= z_star <= res.fun # z_star better or equal solver\nsecond_condition &= np.all(~_non_integer_mask(x_star[0:(n - m)])) # x_star should be integer at the expected integer indices\n\nassert first_condition or second_condition\nprint(f'Results from cutting plane method:\\nz_star, x_star\\n{z_star, x_star}\\n')\nprint(f'Results from scipy milp solver:\\nz_star, x_star\\n{res.fun, res.x}\\n')\nprint(f'Gap ((z_milp - z_cp)/z_milp): {(res.fun - z_star)/res.fun}')",
      "metadata": {
        "trusted": true
      },
      "outputs": [
        {
          "name": "stdout",
          "output_type": "stream",
          "text": "Results from cutting plane method:\nz_star, x_star\n(np.float64(-4.0), array([4.092e+03, 1.000e+00, 0.000e+00, 4.098e+03, 1.900e+01, 0.000e+00,\n       8.183e+03, 0.000e+00, 4.096e+03, 1.000e+00, 0.000e+00]))\n\nResults from scipy milp solver:\nz_star, x_star\n(-3.0, array([ 1.,  1.,  0.,  6., 17.,  1.,  1.,  0.,  4.]))\n\nGap ((z_milp - z_cp)/z_milp): -0.3333333333333333\n"
        }
      ],
      "execution_count": 77
    },
    {
      "cell_type": "markdown",
      "source": "## Exemplo 5.13",
      "metadata": {}
    },
    {
      "cell_type": "code",
      "source": "A = np.array([\n    [ 3, 1, 1, 1, 0, 0],\n    [-1, 1, 0, 0, 1, 0],\n    [ 0, 1, 2, 0, 0, 1]\n])\nb = np.array([\n    12,\n    4,\n    8\n])\nc = np.array([-2, -1, -3, 0, 0, 0])\nm, n = A.shape\nI = list(\n    range(n - m, n)\n)\nz_star, x_star, I_star, iters, solution_type, steps = cutting_planes(A, b, c, I)\nprint(z_star, x_star)",
      "metadata": {
        "trusted": true
      },
      "outputs": [
        {
          "name": "stdout",
          "output_type": "stream",
          "text": "-15.999999999999396 [2.00000000e+00 0.00000000e+00 4.00000000e+00 2.00000000e+00\n 6.00000000e+00 0.00000000e+00 1.22820000e+04 1.00000000e+00\n 1.66533454e-16 3.88578059e-16 0.00000000e+00]\n"
        }
      ],
      "execution_count": 78
    },
    {
      "cell_type": "markdown",
      "source": "**Comparação com o scipy**",
      "metadata": {}
    },
    {
      "cell_type": "code",
      "source": "constraints = LinearConstraint(A, b, b)\nintegrality = np.array([1] * (n - m) + [0] * m)\nres = milp(\n    c = c,\n    constraints = constraints,\n    integrality = integrality\n)\n\nfirst_condition = np.isclose(z_star, res.fun) # z_star == z solver\nfirst_condition &= np.all(~_non_integer_mask(x_star[0:(n - m)])) # x_star should be integer at the expected integer indices\nsecond_condition = np.all(A @ x_star[0:6] <= b) # All x_star without artificial variables feasible\nsecond_condition &= z_star <= res.fun # z_star better or equal solver\nsecond_condition &= np.all(~_non_integer_mask(x_star[0:(n - m)])) # x_star should be integer at the expected integer indices\n\nassert first_condition or second_condition\nprint(f'Results from cutting plane method:\\nz_star, x_star\\n{z_star, x_star}\\n')\nprint(f'Results from scipy milp solver:\\nz_star, x_star\\n{res.fun, res.x}\\n')\nprint(f'Gap ((z_milp - z_cp)/z_milp): {(res.fun - z_star)/res.fun}')",
      "metadata": {
        "trusted": true
      },
      "outputs": [
        {
          "name": "stdout",
          "output_type": "stream",
          "text": "Results from cutting plane method:\nz_star, x_star\n(np.float64(-15.999999999999396), array([2.00000000e+00, 0.00000000e+00, 4.00000000e+00, 2.00000000e+00,\n       6.00000000e+00, 0.00000000e+00, 1.22820000e+04, 1.00000000e+00,\n       1.66533454e-16, 3.88578059e-16, 0.00000000e+00]))\n\nResults from scipy milp solver:\nz_star, x_star\n(-16.0, array([2., 0., 4., 2., 6., 0.]))\n\nGap ((z_milp - z_cp)/z_milp): 3.774758283725532e-14\n"
        }
      ],
      "execution_count": 80
    },
    {
      "cell_type": "markdown",
      "source": "## Exemplo 5.14",
      "metadata": {}
    },
    {
      "cell_type": "code",
      "source": "A = np.array([\n    [1, 3,  1, 1,  0],\n    [2, 1, -1, 0, -1]\n])\nb = np.array([\n    8,\n    3\n])\nc = np.array([-2, -3, 2, 0, 0])\nm, n = A.shape\nI = list(\n    range(n - m, n)\n)\nz_star, x_star, I_star, iters, solution_type, steps = cutting_planes(A, b, c, I)\nprint(z_star, x_star)",
      "metadata": {
        "trusted": true
      },
      "outputs": [
        {
          "name": "stdout",
          "output_type": "stream",
          "text": "-16.0 [8.000e+00 0.000e+00 0.000e+00 0.000e+00 1.300e+01 8.184e+03]\n"
        }
      ],
      "execution_count": 82
    },
    {
      "cell_type": "markdown",
      "source": "**Comparação com o scipy**",
      "metadata": {}
    },
    {
      "cell_type": "code",
      "source": "constraints = LinearConstraint(A, b, b)\nintegrality = np.array([1] * (n - m) + [0] * m)\nres = milp(\n    c = c,\n    constraints = constraints,\n    integrality = integrality\n)\n\nfirst_condition = np.isclose(z_star, res.fun) # z_star == z solver\nfirst_condition &= np.all(~_non_integer_mask(x_star[0:(n - m)])) # x_star should be integer at the expected integer indices\nsecond_condition = np.all(A @ x_star[0:5] <= b) # All x_star without artificial variables feasible\nsecond_condition &= z_star <= res.fun # z_star better or equal solver\nsecond_condition &= np.all(~_non_integer_mask(x_star[0:(n - m)])) # x_star should be integer at the expected integer indices\n\nassert first_condition or second_condition\nprint(f'Results from cutting plane method:\\nz_star, x_star\\n{z_star, x_star}\\n')\nprint(f'Results from scipy milp solver:\\nz_star, x_star\\n{res.fun, res.x}\\n')\nprint(f'Gap ((z_milp - z_cp)/z_milp): {(res.fun - z_star)/res.fun}')",
      "metadata": {
        "trusted": true
      },
      "outputs": [
        {
          "name": "stdout",
          "output_type": "stream",
          "text": "Results from cutting plane method:\nz_star, x_star\n(np.float64(-16.0), array([8.000e+00, 0.000e+00, 0.000e+00, 0.000e+00, 1.300e+01, 8.184e+03]))\n\nResults from scipy milp solver:\nz_star, x_star\n(-16.0, array([ 8., -0.,  0.,  0., 13.]))\n\nGap ((z_milp - z_cp)/z_milp): -0.0\n"
        }
      ],
      "execution_count": 83
    }
  ]
}